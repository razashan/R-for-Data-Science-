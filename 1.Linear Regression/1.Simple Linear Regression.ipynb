{
 "cells": [
  {
   "cell_type": "markdown",
   "metadata": {},
   "source": [
    "# Linear Regression"
   ]
  },
  {
   "cell_type": "code",
   "execution_count": 10,
   "metadata": {},
   "outputs": [],
   "source": [
    "df <- read.csv(\"linear.csv\",header=T)"
   ]
  },
  {
   "cell_type": "code",
   "execution_count": 12,
   "metadata": {},
   "outputs": [
    {
     "data": {
      "text/html": [
       "<table>\n",
       "<thead><tr><th scope=col>x</th><th scope=col>y</th></tr></thead>\n",
       "<tbody>\n",
       "\t<tr><td>82.58321982</td><td>134.907414 </td></tr>\n",
       "\t<tr><td>73.92246618</td><td>134.085180 </td></tr>\n",
       "\t<tr><td>34.88744536</td><td>        NA </td></tr>\n",
       "\t<tr><td>61.83998269</td><td>114.530638 </td></tr>\n",
       "\t<tr><td>16.77594025</td><td> 31.376437 </td></tr>\n",
       "\t<tr><td> 0.01673734</td><td>  8.764634 </td></tr>\n",
       "\t<tr><td>44.45764646</td><td> 73.285341 </td></tr>\n",
       "\t<tr><td>10.34490930</td><td> 18.859865 </td></tr>\n",
       "\t<tr><td>42.76713229</td><td> 72.946609 </td></tr>\n",
       "\t<tr><td>20.85663802</td><td> 28.637286 </td></tr>\n",
       "\t<tr><td>16.82905530</td><td> 27.184138 </td></tr>\n",
       "\t<tr><td> 1.07902502</td><td> 15.468955 </td></tr>\n",
       "\t<tr><td>45.63255196</td><td> 77.255525 </td></tr>\n",
       "\t<tr><td>89.41266439</td><td>147.817536 </td></tr>\n",
       "\t<tr><td> 3.88238694</td><td> 29.629148 </td></tr>\n",
       "\t<tr><td>50.24501874</td><td> 92.315717 </td></tr>\n",
       "\t<tr><td>70.48498778</td><td>111.063745 </td></tr>\n",
       "\t<tr><td> 1.82741469</td><td>  2.797485 </td></tr>\n",
       "\t<tr><td>63.61682009</td><td> 98.227962 </td></tr>\n",
       "\t<tr><td>67.13094154</td><td>117.082721 </td></tr>\n",
       "\t<tr><td>66.97408619</td><td>111.155559 </td></tr>\n",
       "\t<tr><td>87.58164157</td><td>147.023504 </td></tr>\n",
       "\t<tr><td>61.36839009</td><td> 99.628706 </td></tr>\n",
       "\t<tr><td>29.89044698</td><td> 47.946203 </td></tr>\n",
       "\t<tr><td>46.87156504</td><td> 80.515889 </td></tr>\n",
       "\t<tr><td>48.46634106</td><td> 76.651595 </td></tr>\n",
       "\t<tr><td>94.99882128</td><td>155.583207 </td></tr>\n",
       "\t<tr><td>94.59342455</td><td>155.830527 </td></tr>\n",
       "\t<tr><td>36.30088195</td><td> 52.644103 </td></tr>\n",
       "\t<tr><td>54.63463319</td><td>100.329195 </td></tr>\n",
       "\t<tr><td>...</td><td>...</td></tr>\n",
       "\t<tr><td>54.4048535</td><td> 87.64351 </td></tr>\n",
       "\t<tr><td>79.4503884</td><td>135.39770 </td></tr>\n",
       "\t<tr><td>99.4322939</td><td>159.07361 </td></tr>\n",
       "\t<tr><td>96.7902232</td><td>161.36310 </td></tr>\n",
       "\t<tr><td>64.5630473</td><td> 91.64481 </td></tr>\n",
       "\t<tr><td>97.7401928</td><td>166.16454 </td></tr>\n",
       "\t<tr><td>35.9908868</td><td> 54.86400 </td></tr>\n",
       "\t<tr><td>52.9094701</td><td> 78.97916 </td></tr>\n",
       "\t<tr><td>88.5807212</td><td>141.13040 </td></tr>\n",
       "\t<tr><td>72.6435614</td><td>119.08828 </td></tr>\n",
       "\t<tr><td>81.3612443</td><td>136.22937 </td></tr>\n",
       "\t<tr><td>27.7376661</td><td> 35.03959 </td></tr>\n",
       "\t<tr><td>77.0489047</td><td>130.80724 </td></tr>\n",
       "\t<tr><td>84.8616030</td><td>136.22393 </td></tr>\n",
       "\t<tr><td>24.1409328</td><td> 43.34978 </td></tr>\n",
       "\t<tr><td>60.3058934</td><td>106.18477 </td></tr>\n",
       "\t<tr><td>68.0198215</td><td>121.27443 </td></tr>\n",
       "\t<tr><td>74.2183446</td><td>115.18184 </td></tr>\n",
       "\t<tr><td>82.3605940</td><td>137.42991 </td></tr>\n",
       "\t<tr><td> 4.5196786</td><td> 16.02640 </td></tr>\n",
       "\t<tr><td> 2.5464247</td><td>       NA </td></tr>\n",
       "\t<tr><td>94.9626909</td><td>141.01313 </td></tr>\n",
       "\t<tr><td> 0.9142046</td><td>       NA </td></tr>\n",
       "\t<tr><td> 8.8542197</td><td> 13.45049 </td></tr>\n",
       "\t<tr><td>37.8841418</td><td> 61.50700 </td></tr>\n",
       "\t<tr><td>85.7408594</td><td>133.92230 </td></tr>\n",
       "\t<tr><td>65.1797881</td><td>126.82712 </td></tr>\n",
       "\t<tr><td>24.3337654</td><td> 50.25780 </td></tr>\n",
       "\t<tr><td>85.1577567</td><td>144.75468 </td></tr>\n",
       "\t<tr><td>80.5391524</td><td>120.69731 </td></tr>\n",
       "</tbody>\n",
       "</table>\n"
      ],
      "text/latex": [
       "\\begin{tabular}{r|ll}\n",
       " x & y\\\\\n",
       "\\hline\n",
       "\t 82.58321982 & 134.907414 \\\\\n",
       "\t 73.92246618 & 134.085180 \\\\\n",
       "\t 34.88744536 &         NA \\\\\n",
       "\t 61.83998269 & 114.530638 \\\\\n",
       "\t 16.77594025 &  31.376437 \\\\\n",
       "\t  0.01673734 &   8.764634 \\\\\n",
       "\t 44.45764646 &  73.285341 \\\\\n",
       "\t 10.34490930 &  18.859865 \\\\\n",
       "\t 42.76713229 &  72.946609 \\\\\n",
       "\t 20.85663802 &  28.637286 \\\\\n",
       "\t 16.82905530 &  27.184138 \\\\\n",
       "\t  1.07902502 &  15.468955 \\\\\n",
       "\t 45.63255196 &  77.255525 \\\\\n",
       "\t 89.41266439 & 147.817536 \\\\\n",
       "\t  3.88238694 &  29.629148 \\\\\n",
       "\t 50.24501874 &  92.315717 \\\\\n",
       "\t 70.48498778 & 111.063745 \\\\\n",
       "\t  1.82741469 &   2.797485 \\\\\n",
       "\t 63.61682009 &  98.227962 \\\\\n",
       "\t 67.13094154 & 117.082721 \\\\\n",
       "\t 66.97408619 & 111.155559 \\\\\n",
       "\t 87.58164157 & 147.023504 \\\\\n",
       "\t 61.36839009 &  99.628706 \\\\\n",
       "\t 29.89044698 &  47.946203 \\\\\n",
       "\t 46.87156504 &  80.515889 \\\\\n",
       "\t 48.46634106 &  76.651595 \\\\\n",
       "\t 94.99882128 & 155.583207 \\\\\n",
       "\t 94.59342455 & 155.830527 \\\\\n",
       "\t 36.30088195 &  52.644103 \\\\\n",
       "\t 54.63463319 & 100.329195 \\\\\n",
       "\t ... & ...\\\\\n",
       "\t 54.4048535 &  87.64351 \\\\\n",
       "\t 79.4503884 & 135.39770 \\\\\n",
       "\t 99.4322939 & 159.07361 \\\\\n",
       "\t 96.7902232 & 161.36310 \\\\\n",
       "\t 64.5630473 &  91.64481 \\\\\n",
       "\t 97.7401928 & 166.16454 \\\\\n",
       "\t 35.9908868 &  54.86400 \\\\\n",
       "\t 52.9094701 &  78.97916 \\\\\n",
       "\t 88.5807212 & 141.13040 \\\\\n",
       "\t 72.6435614 & 119.08828 \\\\\n",
       "\t 81.3612443 & 136.22937 \\\\\n",
       "\t 27.7376661 &  35.03959 \\\\\n",
       "\t 77.0489047 & 130.80724 \\\\\n",
       "\t 84.8616030 & 136.22393 \\\\\n",
       "\t 24.1409328 &  43.34978 \\\\\n",
       "\t 60.3058934 & 106.18477 \\\\\n",
       "\t 68.0198215 & 121.27443 \\\\\n",
       "\t 74.2183446 & 115.18184 \\\\\n",
       "\t 82.3605940 & 137.42991 \\\\\n",
       "\t  4.5196786 &  16.02640 \\\\\n",
       "\t  2.5464247 &        NA \\\\\n",
       "\t 94.9626909 & 141.01313 \\\\\n",
       "\t  0.9142046 &        NA \\\\\n",
       "\t  8.8542197 &  13.45049 \\\\\n",
       "\t 37.8841418 &  61.50700 \\\\\n",
       "\t 85.7408594 & 133.92230 \\\\\n",
       "\t 65.1797881 & 126.82712 \\\\\n",
       "\t 24.3337654 &  50.25780 \\\\\n",
       "\t 85.1577567 & 144.75468 \\\\\n",
       "\t 80.5391524 & 120.69731 \\\\\n",
       "\\end{tabular}\n"
      ],
      "text/markdown": [
       "\n",
       "| x | y |\n",
       "|---|---|\n",
       "| 82.58321982 | 134.907414  |\n",
       "| 73.92246618 | 134.085180  |\n",
       "| 34.88744536 |         NA  |\n",
       "| 61.83998269 | 114.530638  |\n",
       "| 16.77594025 |  31.376437  |\n",
       "|  0.01673734 |   8.764634  |\n",
       "| 44.45764646 |  73.285341  |\n",
       "| 10.34490930 |  18.859865  |\n",
       "| 42.76713229 |  72.946609  |\n",
       "| 20.85663802 |  28.637286  |\n",
       "| 16.82905530 |  27.184138  |\n",
       "|  1.07902502 |  15.468955  |\n",
       "| 45.63255196 |  77.255525  |\n",
       "| 89.41266439 | 147.817536  |\n",
       "|  3.88238694 |  29.629148  |\n",
       "| 50.24501874 |  92.315717  |\n",
       "| 70.48498778 | 111.063745  |\n",
       "|  1.82741469 |   2.797485  |\n",
       "| 63.61682009 |  98.227962  |\n",
       "| 67.13094154 | 117.082721  |\n",
       "| 66.97408619 | 111.155559  |\n",
       "| 87.58164157 | 147.023504  |\n",
       "| 61.36839009 |  99.628706  |\n",
       "| 29.89044698 |  47.946203  |\n",
       "| 46.87156504 |  80.515889  |\n",
       "| 48.46634106 |  76.651595  |\n",
       "| 94.99882128 | 155.583207  |\n",
       "| 94.59342455 | 155.830527  |\n",
       "| 36.30088195 |  52.644103  |\n",
       "| 54.63463319 | 100.329195  |\n",
       "| ... | ... |\n",
       "| 54.4048535 |  87.64351  |\n",
       "| 79.4503884 | 135.39770  |\n",
       "| 99.4322939 | 159.07361  |\n",
       "| 96.7902232 | 161.36310  |\n",
       "| 64.5630473 |  91.64481  |\n",
       "| 97.7401928 | 166.16454  |\n",
       "| 35.9908868 |  54.86400  |\n",
       "| 52.9094701 |  78.97916  |\n",
       "| 88.5807212 | 141.13040  |\n",
       "| 72.6435614 | 119.08828  |\n",
       "| 81.3612443 | 136.22937  |\n",
       "| 27.7376661 |  35.03959  |\n",
       "| 77.0489047 | 130.80724  |\n",
       "| 84.8616030 | 136.22393  |\n",
       "| 24.1409328 |  43.34978  |\n",
       "| 60.3058934 | 106.18477  |\n",
       "| 68.0198215 | 121.27443  |\n",
       "| 74.2183446 | 115.18184  |\n",
       "| 82.3605940 | 137.42991  |\n",
       "|  4.5196786 |  16.02640  |\n",
       "|  2.5464247 |        NA  |\n",
       "| 94.9626909 | 141.01313  |\n",
       "|  0.9142046 |        NA  |\n",
       "|  8.8542197 |  13.45049  |\n",
       "| 37.8841418 |  61.50700  |\n",
       "| 85.7408594 | 133.92230  |\n",
       "| 65.1797881 | 126.82712  |\n",
       "| 24.3337654 |  50.25780  |\n",
       "| 85.1577567 | 144.75468  |\n",
       "| 80.5391524 | 120.69731  |\n",
       "\n"
      ],
      "text/plain": [
       "    x           y         \n",
       "1   82.58321982 134.907414\n",
       "2   73.92246618 134.085180\n",
       "3   34.88744536         NA\n",
       "4   61.83998269 114.530638\n",
       "5   16.77594025  31.376437\n",
       "6    0.01673734   8.764634\n",
       "7   44.45764646  73.285341\n",
       "8   10.34490930  18.859865\n",
       "9   42.76713229  72.946609\n",
       "10  20.85663802  28.637286\n",
       "11  16.82905530  27.184138\n",
       "12   1.07902502  15.468955\n",
       "13  45.63255196  77.255525\n",
       "14  89.41266439 147.817536\n",
       "15   3.88238694  29.629148\n",
       "16  50.24501874  92.315717\n",
       "17  70.48498778 111.063745\n",
       "18   1.82741469   2.797485\n",
       "19  63.61682009  98.227962\n",
       "20  67.13094154 117.082721\n",
       "21  66.97408619 111.155559\n",
       "22  87.58164157 147.023504\n",
       "23  61.36839009  99.628706\n",
       "24  29.89044698  47.946203\n",
       "25  46.87156504  80.515889\n",
       "26  48.46634106  76.651595\n",
       "27  94.99882128 155.583207\n",
       "28  94.59342455 155.830527\n",
       "29  36.30088195  52.644103\n",
       "30  54.63463319 100.329195\n",
       "... ...         ...       \n",
       "71  54.4048535   87.64351 \n",
       "72  79.4503884  135.39770 \n",
       "73  99.4322939  159.07361 \n",
       "74  96.7902232  161.36310 \n",
       "75  64.5630473   91.64481 \n",
       "76  97.7401928  166.16454 \n",
       "77  35.9908868   54.86400 \n",
       "78  52.9094701   78.97916 \n",
       "79  88.5807212  141.13040 \n",
       "80  72.6435614  119.08828 \n",
       "81  81.3612443  136.22937 \n",
       "82  27.7376661   35.03959 \n",
       "83  77.0489047  130.80724 \n",
       "84  84.8616030  136.22393 \n",
       "85  24.1409328   43.34978 \n",
       "86  60.3058934  106.18477 \n",
       "87  68.0198215  121.27443 \n",
       "88  74.2183446  115.18184 \n",
       "89  82.3605940  137.42991 \n",
       "90   4.5196786   16.02640 \n",
       "91   2.5464247         NA \n",
       "92  94.9626909  141.01313 \n",
       "93   0.9142046         NA \n",
       "94   8.8542197   13.45049 \n",
       "95  37.8841418   61.50700 \n",
       "96  85.7408594  133.92230 \n",
       "97  65.1797881  126.82712 \n",
       "98  24.3337654   50.25780 \n",
       "99  85.1577567  144.75468 \n",
       "100 80.5391524  120.69731 "
      ]
     },
     "metadata": {},
     "output_type": "display_data"
    }
   ],
   "source": [
    "df"
   ]
  },
  {
   "cell_type": "code",
   "execution_count": 34,
   "metadata": {},
   "outputs": [],
   "source": [
    "linModel <- lm(y~x, data = df)"
   ]
  },
  {
   "cell_type": "code",
   "execution_count": 35,
   "metadata": {},
   "outputs": [
    {
     "data": {
      "text/html": [
       "<dl>\n",
       "\t<dt>$names</dt>\n",
       "\t\t<dd><ol class=list-inline>\n",
       "\t<li>'coefficients'</li>\n",
       "\t<li>'residuals'</li>\n",
       "\t<li>'effects'</li>\n",
       "\t<li>'rank'</li>\n",
       "\t<li>'fitted.values'</li>\n",
       "\t<li>'assign'</li>\n",
       "\t<li>'qr'</li>\n",
       "\t<li>'df.residual'</li>\n",
       "\t<li>'na.action'</li>\n",
       "\t<li>'xlevels'</li>\n",
       "\t<li>'call'</li>\n",
       "\t<li>'terms'</li>\n",
       "\t<li>'model'</li>\n",
       "</ol>\n",
       "</dd>\n",
       "\t<dt>$class</dt>\n",
       "\t\t<dd>'lm'</dd>\n",
       "</dl>\n"
      ],
      "text/latex": [
       "\\begin{description}\n",
       "\\item[\\$names] \\begin{enumerate*}\n",
       "\\item 'coefficients'\n",
       "\\item 'residuals'\n",
       "\\item 'effects'\n",
       "\\item 'rank'\n",
       "\\item 'fitted.values'\n",
       "\\item 'assign'\n",
       "\\item 'qr'\n",
       "\\item 'df.residual'\n",
       "\\item 'na.action'\n",
       "\\item 'xlevels'\n",
       "\\item 'call'\n",
       "\\item 'terms'\n",
       "\\item 'model'\n",
       "\\end{enumerate*}\n",
       "\n",
       "\\item[\\$class] 'lm'\n",
       "\\end{description}\n"
      ],
      "text/markdown": [
       "$names\n",
       ":   1. 'coefficients'\n",
       "2. 'residuals'\n",
       "3. 'effects'\n",
       "4. 'rank'\n",
       "5. 'fitted.values'\n",
       "6. 'assign'\n",
       "7. 'qr'\n",
       "8. 'df.residual'\n",
       "9. 'na.action'\n",
       "10. 'xlevels'\n",
       "11. 'call'\n",
       "12. 'terms'\n",
       "13. 'model'\n",
       "\n",
       "\n",
       "\n",
       "$class\n",
       ":   'lm'\n",
       "\n",
       "\n"
      ],
      "text/plain": [
       "$names\n",
       " [1] \"coefficients\"  \"residuals\"     \"effects\"       \"rank\"         \n",
       " [5] \"fitted.values\" \"assign\"        \"qr\"            \"df.residual\"  \n",
       " [9] \"na.action\"     \"xlevels\"       \"call\"          \"terms\"        \n",
       "[13] \"model\"        \n",
       "\n",
       "$class\n",
       "[1] \"lm\"\n"
      ]
     },
     "metadata": {},
     "output_type": "display_data"
    }
   ],
   "source": [
    "# Show attributes of linModel\n",
    "attributes(linModel)"
   ]
  },
  {
   "cell_type": "code",
   "execution_count": 36,
   "metadata": {},
   "outputs": [
    {
     "data": {
      "text/plain": [
       " 3 52 59 61 63 64 91 93 \n",
       " 3 52 59 61 63 64 91 93 \n",
       "attr(,\"class\")\n",
       "[1] \"omit\""
      ]
     },
     "metadata": {},
     "output_type": "display_data"
    }
   ],
   "source": [
    "# To show what happens with na.action, \"omit\" since data has NA\n",
    "linModel$na.action"
   ]
  },
  {
   "cell_type": "code",
   "execution_count": 37,
   "metadata": {},
   "outputs": [
    {
     "data": {
      "text/html": [
       "<dl class=dl-horizontal>\n",
       "\t<dt>(Intercept)</dt>\n",
       "\t\t<dd>4.47019690097251</dd>\n",
       "\t<dt>x</dt>\n",
       "\t\t<dd>1.58319679566616</dd>\n",
       "</dl>\n"
      ],
      "text/latex": [
       "\\begin{description*}\n",
       "\\item[(Intercept)] 4.47019690097251\n",
       "\\item[x] 1.58319679566616\n",
       "\\end{description*}\n"
      ],
      "text/markdown": [
       "(Intercept)\n",
       ":   4.47019690097251x\n",
       ":   1.58319679566616\n",
       "\n"
      ],
      "text/plain": [
       "(Intercept)           x \n",
       "   4.470197    1.583197 "
      ]
     },
     "metadata": {},
     "output_type": "display_data"
    }
   ],
   "source": [
    "# Show coefficients of model\n",
    "linModel$coefficients"
   ]
  },
  {
   "cell_type": "code",
   "execution_count": 38,
   "metadata": {},
   "outputs": [
    {
     "data": {
      "text/html": [
       "<strong>1:</strong> 9.21978728797099"
      ],
      "text/latex": [
       "\\textbf{1:} 9.21978728797099"
      ],
      "text/markdown": [
       "**1:** 9.21978728797099"
      ],
      "text/plain": [
       "       1 \n",
       "9.219787 "
      ]
     },
     "metadata": {},
     "output_type": "display_data"
    }
   ],
   "source": [
    "# Predicting New Value based on our model\n",
    "predict(linModel, data.frame(x = 3))"
   ]
  },
  {
   "cell_type": "code",
   "execution_count": 40,
   "metadata": {},
   "outputs": [
    {
     "data": {
      "image/png": "[encoded data removed]",
      "text/plain": [
       "Plot with title \"Scatter Plot\""
      ]
     },
     "metadata": {},
     "output_type": "display_data"
    }
   ],
   "source": [
    "plot(y ~ x, data = df,\n",
    "     xlab = \"This labels the x axis\",\n",
    "     ylab = \"This labels the y axis\",\n",
    "     main = \"Scatter Plot\"\n",
    ")\n",
    "\n",
    "abline(linModel, col = \"red\", lwd = 3,pch=13)"
   ]
  },
  {
   "cell_type": "code",
   "execution_count": 1,
   "metadata": {},
   "outputs": [],
   "source": [
    "mouse_data <- data.frame(\n",
    "weight = c(0.9,1.8,2.4,3.5,3.9,4.4,5.1,5.6,6.3),\n",
    "size = c(1.4,2.6,1.0,3.7,5.5,3.2,3.0,4.9,6.3))"
   ]
  },
  {
   "cell_type": "code",
   "execution_count": 2,
   "metadata": {},
   "outputs": [
    {
     "data": {
      "text/html": [
       "<table>\n",
       "<thead><tr><th scope=col>weight</th><th scope=col>size</th></tr></thead>\n",
       "<tbody>\n",
       "\t<tr><td>0.9</td><td>1.4</td></tr>\n",
       "\t<tr><td>1.8</td><td>2.6</td></tr>\n",
       "\t<tr><td>2.4</td><td>1.0</td></tr>\n",
       "\t<tr><td>3.5</td><td>3.7</td></tr>\n",
       "\t<tr><td>3.9</td><td>5.5</td></tr>\n",
       "\t<tr><td>4.4</td><td>3.2</td></tr>\n",
       "\t<tr><td>5.1</td><td>3.0</td></tr>\n",
       "\t<tr><td>5.6</td><td>4.9</td></tr>\n",
       "\t<tr><td>6.3</td><td>6.3</td></tr>\n",
       "</tbody>\n",
       "</table>\n"
      ],
      "text/latex": [
       "\\begin{tabular}{r|ll}\n",
       " weight & size\\\\\n",
       "\\hline\n",
       "\t 0.9 & 1.4\\\\\n",
       "\t 1.8 & 2.6\\\\\n",
       "\t 2.4 & 1.0\\\\\n",
       "\t 3.5 & 3.7\\\\\n",
       "\t 3.9 & 5.5\\\\\n",
       "\t 4.4 & 3.2\\\\\n",
       "\t 5.1 & 3.0\\\\\n",
       "\t 5.6 & 4.9\\\\\n",
       "\t 6.3 & 6.3\\\\\n",
       "\\end{tabular}\n"
      ],
      "text/markdown": [
       "\n",
       "| weight | size |\n",
       "|---|---|\n",
       "| 0.9 | 1.4 |\n",
       "| 1.8 | 2.6 |\n",
       "| 2.4 | 1.0 |\n",
       "| 3.5 | 3.7 |\n",
       "| 3.9 | 5.5 |\n",
       "| 4.4 | 3.2 |\n",
       "| 5.1 | 3.0 |\n",
       "| 5.6 | 4.9 |\n",
       "| 6.3 | 6.3 |\n",
       "\n"
      ],
      "text/plain": [
       "  weight size\n",
       "1 0.9    1.4 \n",
       "2 1.8    2.6 \n",
       "3 2.4    1.0 \n",
       "4 3.5    3.7 \n",
       "5 3.9    5.5 \n",
       "6 4.4    3.2 \n",
       "7 5.1    3.0 \n",
       "8 5.6    4.9 \n",
       "9 6.3    6.3 "
      ]
     },
     "metadata": {},
     "output_type": "display_data"
    }
   ],
   "source": [
    "mouse_data"
   ]
  },
  {
   "cell_type": "code",
   "execution_count": 3,
   "metadata": {},
   "outputs": [
    {
     "data": {
      "image/png": "[encoded data removed]",
      "text/plain": [
       "plot without title"
      ]
     },
     "metadata": {},
     "output_type": "display_data"
    }
   ],
   "source": [
    "plot(mouse_data$weight,mouse_data$size)"
   ]
  },
  {
   "cell_type": "code",
   "execution_count": 4,
   "metadata": {},
   "outputs": [],
   "source": [
    "mouse_regression <- lm(size ~ weight,data = mouse_data)"
   ]
  },
  {
   "cell_type": "code",
   "execution_count": 5,
   "metadata": {},
   "outputs": [
    {
     "data": {
      "text/plain": [
       "\n",
       "Call:\n",
       "lm(formula = size ~ weight, data = mouse_data)\n",
       "\n",
       "Residuals:\n",
       "    Min      1Q  Median      3Q     Max \n",
       "-1.5482 -0.8037  0.1186  0.6186  1.8852 \n",
       "\n",
       "Coefficients:\n",
       "            Estimate Std. Error t value Pr(>|t|)  \n",
       "(Intercept)   0.5813     0.9647   0.603   0.5658  \n",
       "weight        0.7778     0.2334   3.332   0.0126 *\n",
       "---\n",
       "Signif. codes:  0 '***' 0.001 '**' 0.01 '*' 0.05 '.' 0.1 ' ' 1\n",
       "\n",
       "Residual standard error: 1.19 on 7 degrees of freedom\n",
       "Multiple R-squared:  0.6133,\tAdjusted R-squared:  0.558 \n",
       "F-statistic:  11.1 on 1 and 7 DF,  p-value: 0.01256\n"
      ]
     },
     "metadata": {},
     "output_type": "display_data"
    }
   ],
   "source": [
    "summary(mouse_regression)"
   ]
  },
  {
   "cell_type": "markdown",
   "metadata": {},
   "source": [
    "* The first line is call which call the original model which is linear function\n",
    "* Residual : The distance from the data to the fitted line. Ideally it should be symmetrically distributed around the line\n",
    "* Max and Min values should be same distance from zero\n",
    "* 1Q and 3Q should be equal distant from zero\n",
    "* Its also good if the median is near to zero\n"
   ]
  },
  {
   "cell_type": "markdown",
   "metadata": {},
   "source": [
    "* Estimate is for the intercept \n",
    "* weight is for the slop \n",
    "* Standard Error of the estimates and \"t-value\" are estimated both provided to show you how the p-values are calcualted\n",
    "* This p-value estimator whether the slop or intercept is equal to zero or not\n",
    "* If they are equal to zero means it don't have much use in the model\n",
    "* Multiple R-squared It means that weights can be explained of the variation in size\n",
    "* F statistic tell if R squared is Significant or not\n"
   ]
  },
  {
   "cell_type": "code",
   "execution_count": 9,
   "metadata": {},
   "outputs": [
    {
     "ename": "ERROR",
     "evalue": "Error in int_abline(a = a, b = b, h = h, v = v, untf = untf, ...): plot.new has not been called yet\n",
     "output_type": "error",
     "traceback": [
      "Error in int_abline(a = a, b = b, h = h, v = v, untf = untf, ...): plot.new has not been called yet\nTraceback:\n",
      "1. abline(mouse_regression, col = \"red\", lwd = 3, pch = 13)",
      "2. int_abline(a = a, b = b, h = h, v = v, untf = untf, ...)"
     ]
    }
   ],
   "source": [
    "abline(mouse_regression, col = \"red\", lwd = 3,pch=13)"
   ]
  },
  {
   "cell_type": "code",
   "execution_count": null,
   "metadata": {},
   "outputs": [],
   "source": []
  }
 ],
 "metadata": {
  "kernelspec": {
   "display_name": "R",
   "language": "R",
   "name": "ir"
  },
  "language_info": {
   "codemirror_mode": "r",
   "file_extension": ".r",
   "mimetype": "text/x-r-source",
   "name": "R",
   "pygments_lexer": "r",
   "version": "3.6.1"
  }
 },
 "nbformat": 4,
 "nbformat_minor": 2
}
