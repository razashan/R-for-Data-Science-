{
 "cells": [
  {
   "cell_type": "code",
   "execution_count": 1,
   "metadata": {},
   "outputs": [
    {
     "name": "stdout",
     "output_type": "stream",
     "text": [
      "package 'forecast' successfully unpacked and MD5 sums checked\n",
      "\n",
      "The downloaded binary packages are in\n",
      "\tC:\\Users\\Microsoft\\AppData\\Local\\Temp\\RtmpEXwkrz\\downloaded_packages\n"
     ]
    }
   ],
   "source": [
    "install.packages(\"forecast\")"
   ]
  },
  {
   "cell_type": "code",
   "execution_count": 2,
   "metadata": {},
   "outputs": [
    {
     "name": "stderr",
     "output_type": "stream",
     "text": [
      "Warning message:\n",
      "\"package 'forecast' was built under R version 3.6.3\"Registered S3 method overwritten by 'xts':\n",
      "  method     from\n",
      "  as.zoo.xts zoo \n",
      "Registered S3 method overwritten by 'quantmod':\n",
      "  method            from\n",
      "  as.zoo.data.frame zoo \n"
     ]
    }
   ],
   "source": [
    "library(forecast)"
   ]
  },
  {
   "cell_type": "code",
   "execution_count": 3,
   "metadata": {},
   "outputs": [
    {
     "name": "stdout",
     "output_type": "stream",
     "text": [
      "package 'tseries' successfully unpacked and MD5 sums checked\n"
     ]
    },
    {
     "name": "stderr",
     "output_type": "stream",
     "text": [
      "Warning message:\n",
      "\"cannot remove prior installation of package 'tseries'\"Warning message in file.copy(savedcopy, lib, recursive = TRUE):\n",
      "\"problem copying C:\\Users\\Microsoft\\Anaconda3\\Lib\\R\\library\\00LOCK\\tseries\\libs\\x64\\tseries.dll to C:\\Users\\Microsoft\\Anaconda3\\Lib\\R\\library\\tseries\\libs\\x64\\tseries.dll: Permission denied\"Warning message:\n",
      "\"restored 'tseries'\""
     ]
    },
    {
     "name": "stdout",
     "output_type": "stream",
     "text": [
      "\n",
      "The downloaded binary packages are in\n",
      "\tC:\\Users\\Microsoft\\AppData\\Local\\Temp\\RtmpEXwkrz\\downloaded_packages\n"
     ]
    }
   ],
   "source": [
    "install.packages(\"tseries\")"
   ]
  },
  {
   "cell_type": "code",
   "execution_count": 4,
   "metadata": {},
   "outputs": [
    {
     "name": "stderr",
     "output_type": "stream",
     "text": [
      "Warning message:\n",
      "\"package 'tseries' was built under R version 3.6.3\""
     ]
    }
   ],
   "source": [
    "library(tseries)"
   ]
  },
  {
   "cell_type": "code",
   "execution_count": 5,
   "metadata": {},
   "outputs": [],
   "source": [
    "hourly_sentiment_series <- read.csv(file=\"hourly_users_sentiment_subset.csv\",\n",
    "                                    sep=\",\",\n",
    "                                    row.names=1,\n",
    "                                    header=TRUE)"
   ]
  },
  {
   "cell_type": "code",
   "execution_count": 6,
   "metadata": {},
   "outputs": [
    {
     "data": {
      "text/html": [
       "<table>\n",
       "<thead><tr><th></th><th scope=col>users_sentiment_score</th></tr></thead>\n",
       "<tbody>\n",
       "\t<tr><th scope=row>2/6/2019 0:00</th><td>-0.000745</td></tr>\n",
       "\t<tr><th scope=row>2/6/2019 1:00</th><td>-0.099152</td></tr>\n",
       "\t<tr><th scope=row>2/6/2019 2:00</th><td> 0.054502</td></tr>\n",
       "\t<tr><th scope=row>2/6/2019 3:00</th><td> 0.062236</td></tr>\n",
       "\t<tr><th scope=row>2/6/2019 4:00</th><td> 0.049438</td></tr>\n",
       "\t<tr><th scope=row>2/6/2019 5:00</th><td> 0.050184</td></tr>\n",
       "</tbody>\n",
       "</table>\n"
      ],
      "text/latex": [
       "\\begin{tabular}{r|l}\n",
       "  & users\\_sentiment\\_score\\\\\n",
       "\\hline\n",
       "\t2/6/2019 0:00 & -0.000745\\\\\n",
       "\t2/6/2019 1:00 & -0.099152\\\\\n",
       "\t2/6/2019 2:00 &  0.054502\\\\\n",
       "\t2/6/2019 3:00 &  0.062236\\\\\n",
       "\t2/6/2019 4:00 &  0.049438\\\\\n",
       "\t2/6/2019 5:00 &  0.050184\\\\\n",
       "\\end{tabular}\n"
      ],
      "text/markdown": [
       "\n",
       "| <!--/--> | users_sentiment_score |\n",
       "|---|---|\n",
       "| 2/6/2019 0:00 | -0.000745 |\n",
       "| 2/6/2019 1:00 | -0.099152 |\n",
       "| 2/6/2019 2:00 |  0.054502 |\n",
       "| 2/6/2019 3:00 |  0.062236 |\n",
       "| 2/6/2019 4:00 |  0.049438 |\n",
       "| 2/6/2019 5:00 |  0.050184 |\n",
       "\n"
      ],
      "text/plain": [
       "              users_sentiment_score\n",
       "2/6/2019 0:00 -0.000745            \n",
       "2/6/2019 1:00 -0.099152            \n",
       "2/6/2019 2:00  0.054502            \n",
       "2/6/2019 3:00  0.062236            \n",
       "2/6/2019 4:00  0.049438            \n",
       "2/6/2019 5:00  0.050184            "
      ]
     },
     "metadata": {},
     "output_type": "display_data"
    }
   ],
   "source": [
    "head(hourly_sentiment_series)\n"
   ]
  },
  {
   "cell_type": "markdown",
   "metadata": {},
   "source": [
    "#### Check data is indexed with rows/index as the datetime values"
   ]
  },
  {
   "cell_type": "code",
   "execution_count": 7,
   "metadata": {},
   "outputs": [
    {
     "data": {
      "text/html": [
       "<ol class=list-inline>\n",
       "\t<li>'2/6/2019 0:00'</li>\n",
       "\t<li>'2/6/2019 1:00'</li>\n",
       "\t<li>'2/6/2019 2:00'</li>\n",
       "\t<li>'2/6/2019 3:00'</li>\n",
       "\t<li>'2/6/2019 4:00'</li>\n",
       "\t<li>'2/6/2019 5:00'</li>\n",
       "\t<li>'2/6/2019 6:00'</li>\n",
       "\t<li>'2/6/2019 7:00'</li>\n",
       "\t<li>'2/6/2019 8:00'</li>\n",
       "\t<li>'2/6/2019 9:00'</li>\n",
       "\t<li>'2/6/2019 10:00'</li>\n",
       "\t<li>'2/6/2019 11:00'</li>\n",
       "\t<li>'2/6/2019 12:00'</li>\n",
       "\t<li>'2/6/2019 13:00'</li>\n",
       "\t<li>'2/6/2019 14:00'</li>\n",
       "\t<li>'2/6/2019 15:00'</li>\n",
       "\t<li>'2/6/2019 16:00'</li>\n",
       "\t<li>'2/6/2019 17:00'</li>\n",
       "\t<li>'2/6/2019 18:00'</li>\n",
       "</ol>\n"
      ],
      "text/latex": [
       "\\begin{enumerate*}\n",
       "\\item '2/6/2019 0:00'\n",
       "\\item '2/6/2019 1:00'\n",
       "\\item '2/6/2019 2:00'\n",
       "\\item '2/6/2019 3:00'\n",
       "\\item '2/6/2019 4:00'\n",
       "\\item '2/6/2019 5:00'\n",
       "\\item '2/6/2019 6:00'\n",
       "\\item '2/6/2019 7:00'\n",
       "\\item '2/6/2019 8:00'\n",
       "\\item '2/6/2019 9:00'\n",
       "\\item '2/6/2019 10:00'\n",
       "\\item '2/6/2019 11:00'\n",
       "\\item '2/6/2019 12:00'\n",
       "\\item '2/6/2019 13:00'\n",
       "\\item '2/6/2019 14:00'\n",
       "\\item '2/6/2019 15:00'\n",
       "\\item '2/6/2019 16:00'\n",
       "\\item '2/6/2019 17:00'\n",
       "\\item '2/6/2019 18:00'\n",
       "\\end{enumerate*}\n"
      ],
      "text/markdown": [
       "1. '2/6/2019 0:00'\n",
       "2. '2/6/2019 1:00'\n",
       "3. '2/6/2019 2:00'\n",
       "4. '2/6/2019 3:00'\n",
       "5. '2/6/2019 4:00'\n",
       "6. '2/6/2019 5:00'\n",
       "7. '2/6/2019 6:00'\n",
       "8. '2/6/2019 7:00'\n",
       "9. '2/6/2019 8:00'\n",
       "10. '2/6/2019 9:00'\n",
       "11. '2/6/2019 10:00'\n",
       "12. '2/6/2019 11:00'\n",
       "13. '2/6/2019 12:00'\n",
       "14. '2/6/2019 13:00'\n",
       "15. '2/6/2019 14:00'\n",
       "16. '2/6/2019 15:00'\n",
       "17. '2/6/2019 16:00'\n",
       "18. '2/6/2019 17:00'\n",
       "19. '2/6/2019 18:00'\n",
       "\n",
       "\n"
      ],
      "text/plain": [
       " [1] \"2/6/2019 0:00\"  \"2/6/2019 1:00\"  \"2/6/2019 2:00\"  \"2/6/2019 3:00\" \n",
       " [5] \"2/6/2019 4:00\"  \"2/6/2019 5:00\"  \"2/6/2019 6:00\"  \"2/6/2019 7:00\" \n",
       " [9] \"2/6/2019 8:00\"  \"2/6/2019 9:00\"  \"2/6/2019 10:00\" \"2/6/2019 11:00\"\n",
       "[13] \"2/6/2019 12:00\" \"2/6/2019 13:00\" \"2/6/2019 14:00\" \"2/6/2019 15:00\"\n",
       "[17] \"2/6/2019 16:00\" \"2/6/2019 17:00\" \"2/6/2019 18:00\""
      ]
     },
     "metadata": {},
     "output_type": "display_data"
    }
   ],
   "source": [
    "rownames(hourly_sentiment_series)"
   ]
  },
  {
   "cell_type": "markdown",
   "metadata": {},
   "source": [
    "#### Preview the data to get an idea of the values and sample size\n",
    "\n"
   ]
  },
  {
   "cell_type": "code",
   "execution_count": 8,
   "metadata": {},
   "outputs": [
    {
     "data": {
      "text/html": [
       "<table>\n",
       "<thead><tr><th></th><th scope=col>users_sentiment_score</th></tr></thead>\n",
       "<tbody>\n",
       "\t<tr><th scope=row>2/6/2019 0:00</th><td>-0.000745</td></tr>\n",
       "\t<tr><th scope=row>2/6/2019 1:00</th><td>-0.099152</td></tr>\n",
       "\t<tr><th scope=row>2/6/2019 2:00</th><td> 0.054502</td></tr>\n",
       "\t<tr><th scope=row>2/6/2019 3:00</th><td> 0.062236</td></tr>\n",
       "\t<tr><th scope=row>2/6/2019 4:00</th><td> 0.049438</td></tr>\n",
       "\t<tr><th scope=row>2/6/2019 5:00</th><td> 0.050184</td></tr>\n",
       "</tbody>\n",
       "</table>\n"
      ],
      "text/latex": [
       "\\begin{tabular}{r|l}\n",
       "  & users\\_sentiment\\_score\\\\\n",
       "\\hline\n",
       "\t2/6/2019 0:00 & -0.000745\\\\\n",
       "\t2/6/2019 1:00 & -0.099152\\\\\n",
       "\t2/6/2019 2:00 &  0.054502\\\\\n",
       "\t2/6/2019 3:00 &  0.062236\\\\\n",
       "\t2/6/2019 4:00 &  0.049438\\\\\n",
       "\t2/6/2019 5:00 &  0.050184\\\\\n",
       "\\end{tabular}\n"
      ],
      "text/markdown": [
       "\n",
       "| <!--/--> | users_sentiment_score |\n",
       "|---|---|\n",
       "| 2/6/2019 0:00 | -0.000745 |\n",
       "| 2/6/2019 1:00 | -0.099152 |\n",
       "| 2/6/2019 2:00 |  0.054502 |\n",
       "| 2/6/2019 3:00 |  0.062236 |\n",
       "| 2/6/2019 4:00 |  0.049438 |\n",
       "| 2/6/2019 5:00 |  0.050184 |\n",
       "\n"
      ],
      "text/plain": [
       "              users_sentiment_score\n",
       "2/6/2019 0:00 -0.000745            \n",
       "2/6/2019 1:00 -0.099152            \n",
       "2/6/2019 2:00  0.054502            \n",
       "2/6/2019 3:00  0.062236            \n",
       "2/6/2019 4:00  0.049438            \n",
       "2/6/2019 5:00  0.050184            "
      ]
     },
     "metadata": {},
     "output_type": "display_data"
    },
    {
     "data": {
      "text/html": [
       "<table>\n",
       "<thead><tr><th></th><th scope=col>users_sentiment_score</th></tr></thead>\n",
       "<tbody>\n",
       "\t<tr><th scope=row>2/6/2019 13:00</th><td>-0.039446</td></tr>\n",
       "\t<tr><th scope=row>2/6/2019 14:00</th><td>-0.002736</td></tr>\n",
       "\t<tr><th scope=row>2/6/2019 15:00</th><td>-0.029604</td></tr>\n",
       "\t<tr><th scope=row>2/6/2019 16:00</th><td> 0.022578</td></tr>\n",
       "\t<tr><th scope=row>2/6/2019 17:00</th><td>-0.005919</td></tr>\n",
       "\t<tr><th scope=row>2/6/2019 18:00</th><td>-0.006468</td></tr>\n",
       "</tbody>\n",
       "</table>\n"
      ],
      "text/latex": [
       "\\begin{tabular}{r|l}\n",
       "  & users\\_sentiment\\_score\\\\\n",
       "\\hline\n",
       "\t2/6/2019 13:00 & -0.039446\\\\\n",
       "\t2/6/2019 14:00 & -0.002736\\\\\n",
       "\t2/6/2019 15:00 & -0.029604\\\\\n",
       "\t2/6/2019 16:00 &  0.022578\\\\\n",
       "\t2/6/2019 17:00 & -0.005919\\\\\n",
       "\t2/6/2019 18:00 & -0.006468\\\\\n",
       "\\end{tabular}\n"
      ],
      "text/markdown": [
       "\n",
       "| <!--/--> | users_sentiment_score |\n",
       "|---|---|\n",
       "| 2/6/2019 13:00 | -0.039446 |\n",
       "| 2/6/2019 14:00 | -0.002736 |\n",
       "| 2/6/2019 15:00 | -0.029604 |\n",
       "| 2/6/2019 16:00 |  0.022578 |\n",
       "| 2/6/2019 17:00 | -0.005919 |\n",
       "| 2/6/2019 18:00 | -0.006468 |\n",
       "\n"
      ],
      "text/plain": [
       "               users_sentiment_score\n",
       "2/6/2019 13:00 -0.039446            \n",
       "2/6/2019 14:00 -0.002736            \n",
       "2/6/2019 15:00 -0.029604            \n",
       "2/6/2019 16:00  0.022578            \n",
       "2/6/2019 17:00 -0.005919            \n",
       "2/6/2019 18:00 -0.006468            "
      ]
     },
     "metadata": {},
     "output_type": "display_data"
    },
    {
     "data": {
      "text/html": [
       "<ol class=list-inline>\n",
       "\t<li>19</li>\n",
       "\t<li>1</li>\n",
       "</ol>\n"
      ],
      "text/latex": [
       "\\begin{enumerate*}\n",
       "\\item 19\n",
       "\\item 1\n",
       "\\end{enumerate*}\n"
      ],
      "text/markdown": [
       "1. 19\n",
       "2. 1\n",
       "\n",
       "\n"
      ],
      "text/plain": [
       "[1] 19  1"
      ]
     },
     "metadata": {},
     "output_type": "display_data"
    }
   ],
   "source": [
    "head(hourly_sentiment_series)\n",
    "tail(hourly_sentiment_series)\n",
    "dim(hourly_sentiment_series)"
   ]
  },
  {
   "cell_type": "markdown",
   "metadata": {},
   "source": [
    "#### Plot the data to check if stationary (constant mean and variance),"
   ]
  },
  {
   "cell_type": "code",
   "execution_count": 9,
   "metadata": {},
   "outputs": [
    {
     "data": {
      "image/png": "[encoded data removed]",
      "text/plain": [
       "plot without title"
      ]
     },
     "metadata": {},
     "output_type": "display_data"
    }
   ],
   "source": [
    "plot(hourly_sentiment_series$users_sentiment_score, type=\"l\", xlab=\"Datetime\", ylab=\"Users Sentiment Score\")"
   ]
  },
  {
   "cell_type": "markdown",
   "metadata": {},
   "source": [
    "#### Difference the data to make it more stationary and plot to check if the data looks more stationary"
   ]
  },
  {
   "cell_type": "markdown",
   "metadata": {},
   "source": [
    "Differencing subtracts the next value by the current value Best not to over-difference the data, as this could lead to inaccurate estimates Make sure to leave no missing values, as this could cause  problems when modeling later"
   ]
  },
  {
   "cell_type": "code",
   "execution_count": 10,
   "metadata": {},
   "outputs": [
    {
     "data": {
      "image/png": "[encoded data removed]",
      "text/plain": [
       "plot without title"
      ]
     },
     "metadata": {},
     "output_type": "display_data"
    }
   ],
   "source": [
    "hourly_sentiment_series_diff1 <- diff(hourly_sentiment_series$users_sentiment_score)\n",
    "plot(hourly_sentiment_series_diff1, type=\"l\", xlab=\"Datetime\", ylab=\"Users Sentiment Score\")"
   ]
  },
  {
   "cell_type": "code",
   "execution_count": 11,
   "metadata": {},
   "outputs": [
    {
     "data": {
      "image/png": "[encoded data removed]",
      "text/plain": [
       "plot without title"
      ]
     },
     "metadata": {},
     "output_type": "display_data"
    }
   ],
   "source": [
    "hourly_sentiment_series_diff2 = diff(hourly_sentiment_series_diff1)\n",
    "plot(hourly_sentiment_series_diff2, type=\"l\", xlab=\"Datetime\", ylab=\"Users Sentiment Score\")"
   ]
  },
  {
   "cell_type": "markdown",
   "metadata": {},
   "source": [
    " Check ACF and PACF plots to determine number of AR terms and  MA terms in ARMA model, or to spot seasonality/periodic trend Autoregressive forecast the next timestamp's value by regressing the previous values"
   ]
  },
  {
   "cell_type": "code",
   "execution_count": 12,
   "metadata": {},
   "outputs": [
    {
     "data": {
      "image/png": "[encoded data removed]",
      "text/plain": [
       "Plot with title \"Series  hourly_sentiment_series_diff2\""
      ]
     },
     "metadata": {},
     "output_type": "display_data"
    },
    {
     "data": {
      "image/png": "[encoded data removed]",
      "text/plain": [
       "Plot with title \"Series  hourly_sentiment_series_diff2\""
      ]
     },
     "metadata": {},
     "output_type": "display_data"
    }
   ],
   "source": [
    "acf(hourly_sentiment_series_diff2)\n",
    "pacf(hourly_sentiment_series_diff2)"
   ]
  },
  {
   "cell_type": "markdown",
   "metadata": {},
   "source": [
    " Autoregressive Integrated Moving Average is useful  for non-stationary data, plus has an additional seasonal differencing parameter for seasonal non-stationary data"
   ]
  },
  {
   "cell_type": "markdown",
   "metadata": {},
   "source": [
    "#### Depending on ACF and PACF, create ARMA/ARIMA model with AR and MA terms auto.arima will automatically choose best terms"
   ]
  },
  {
   "cell_type": "code",
   "execution_count": 13,
   "metadata": {},
   "outputs": [],
   "source": [
    "ARMA1model_hourly_sentiment <- auto.arima(hourly_sentiment_series, d=2)"
   ]
  },
  {
   "cell_type": "markdown",
   "metadata": {},
   "source": [
    "#### If the p-value for a AR/MA coef is > 0.05, it's not significant"
   ]
  },
  {
   "cell_type": "code",
   "execution_count": 14,
   "metadata": {},
   "outputs": [
    {
     "data": {
      "text/plain": [
       "Series: hourly_sentiment_series \n",
       "ARIMA(2,2,0) \n",
       "\n",
       "Coefficients:\n",
       "          ar1      ar2\n",
       "      -1.2948  -0.6177\n",
       "s.e.   0.2256   0.2437\n",
       "\n",
       "sigma^2 estimated as 0.002803:  log likelihood=25.91\n",
       "AIC=-45.81   AICc=-43.97   BIC=-43.31"
      ]
     },
     "metadata": {},
     "output_type": "display_data"
    }
   ],
   "source": [
    "ARMA1model_hourly_sentiment"
   ]
  },
  {
   "cell_type": "markdown",
   "metadata": {},
   "source": [
    "# Predict the next 5 hours (5 time steps ahead), "
   ]
  },
  {
   "cell_type": "code",
   "execution_count": 15,
   "metadata": {},
   "outputs": [
    {
     "name": "stderr",
     "output_type": "stream",
     "text": [
      "ERROR while rich displaying an object: Error in if (many_rows) {: argument is of length zero\n",
      "\n",
      "Traceback:\n",
      "1. FUN(X[[i]], ...)\n",
      "2. tryCatch(withCallingHandlers({\n",
      " .     if (!mime %in% names(repr::mime2repr)) \n",
      " .         stop(\"No repr_* for mimetype \", mime, \" in repr::mime2repr\")\n",
      " .     rpr <- repr::mime2repr[[mime]](obj)\n",
      " .     if (is.null(rpr)) \n",
      " .         return(NULL)\n",
      " .     prepare_content(is.raw(rpr), rpr)\n",
      " . }, error = error_handler), error = outer_handler)\n",
      "3. tryCatchList(expr, classes, parentenv, handlers)\n",
      "4. tryCatchOne(expr, names, parentenv, handlers[[1L]])\n",
      "5. doTryCatch(return(expr), name, parentenv, handler)\n",
      "6. withCallingHandlers({\n",
      " .     if (!mime %in% names(repr::mime2repr)) \n",
      " .         stop(\"No repr_* for mimetype \", mime, \" in repr::mime2repr\")\n",
      " .     rpr <- repr::mime2repr[[mime]](obj)\n",
      " .     if (is.null(rpr)) \n",
      " .         return(NULL)\n",
      " .     prepare_content(is.raw(rpr), rpr)\n",
      " . }, error = error_handler)\n",
      "7. repr::mime2repr[[mime]](obj)\n",
      "8. repr_html.list(obj)\n",
      "9. repr_list_generic(obj, \"html\", \"\\t<li>%s</li>\\n\", \"\\t<dt>$%s</dt>\\n\\t\\t<dd>%s</dd>\\n\", \n",
      " .     \"<strong>$%s</strong> = %s\", \"<ol>\\n%s</ol>\\n\", \"<dl>\\n%s</dl>\\n\", \n",
      " .     numeric_item = \"\\t<dt>[[%s]]</dt>\\n\\t\\t<dd>%s</dd>\\n\", escape_fun = html_escape)\n",
      "10. lapply(vec, format2repr[[fmt]])\n",
      "11. FUN(X[[i]], ...)\n",
      "12. repr_html.ts(X[[i]], ...)\n",
      "13. repr_ts_generic(obj, repr_html.matrix, ...)\n",
      "14. repr_func(m, ..., rows = nrow(m), cols = ncol(m))\n",
      "15. repr_matrix_generic(obj, \"<table>\\n%s%s</table>\\n\", \"<thead><tr>%s</tr></thead>\\n\", \n",
      "  .     \"<th></th>\", \"<th scope=col>%s</th>\", \"<tbody>\\n%s</tbody>\\n\", \n",
      "  .     \"\\t<tr>%s</tr>\\n\", \"<th scope=row>%s</th>\", \"<td>%s</td>\", \n",
      "  .     escape_fun = html_escape_vec, ...)\n",
      "16. ellip_limit_arr(flatten(x), rows, cols)\n",
      "17. arr_partition(a, rows, cols)\n",
      "ERROR while rich displaying an object: Error in repr_matrix_generic(obj, \"\\n%s%s\\n\", sprintf(\"|%%s\\n|%s|\\n\", : formal argument \"cols\" matched by multiple actual arguments\n",
      "\n",
      "Traceback:\n",
      "1. FUN(X[[i]], ...)\n",
      "2. tryCatch(withCallingHandlers({\n",
      " .     if (!mime %in% names(repr::mime2repr)) \n",
      " .         stop(\"No repr_* for mimetype \", mime, \" in repr::mime2repr\")\n",
      " .     rpr <- repr::mime2repr[[mime]](obj)\n",
      " .     if (is.null(rpr)) \n",
      " .         return(NULL)\n",
      " .     prepare_content(is.raw(rpr), rpr)\n",
      " . }, error = error_handler), error = outer_handler)\n",
      "3. tryCatchList(expr, classes, parentenv, handlers)\n",
      "4. tryCatchOne(expr, names, parentenv, handlers[[1L]])\n",
      "5. doTryCatch(return(expr), name, parentenv, handler)\n",
      "6. withCallingHandlers({\n",
      " .     if (!mime %in% names(repr::mime2repr)) \n",
      " .         stop(\"No repr_* for mimetype \", mime, \" in repr::mime2repr\")\n",
      " .     rpr <- repr::mime2repr[[mime]](obj)\n",
      " .     if (is.null(rpr)) \n",
      " .         return(NULL)\n",
      " .     prepare_content(is.raw(rpr), rpr)\n",
      " . }, error = error_handler)\n",
      "7. repr::mime2repr[[mime]](obj)\n",
      "8. repr_markdown.list(obj)\n",
      "9. repr_list_generic(obj, \"markdown\", \"%s. %s\\n\", \"$%s\\n:   %s\\n\", \n",
      " .     \"**$%s** = %s\", \"%s\\n\\n\", numeric_item = \"[[%s]]\\n:   %s\\n\", \n",
      " .     item_uses_numbers = TRUE, escape_fun = html_escape)\n",
      "10. lapply(vec, format2repr[[fmt]])\n",
      "11. FUN(X[[i]], ...)\n",
      "12. repr_markdown.ts(X[[i]], ...)\n",
      "13. repr_ts_generic(obj, repr_markdown.matrix, ...)\n",
      "14. repr_func(m, ..., rows = nrow(m), cols = ncol(m))\n",
      "ERROR while rich displaying an object: Error in rep(colspec$col, ncol(obj)): invalid 'times' argument\n",
      "\n",
      "Traceback:\n",
      "1. FUN(X[[i]], ...)\n",
      "2. tryCatch(withCallingHandlers({\n",
      " .     if (!mime %in% names(repr::mime2repr)) \n",
      " .         stop(\"No repr_* for mimetype \", mime, \" in repr::mime2repr\")\n",
      " .     rpr <- repr::mime2repr[[mime]](obj)\n",
      " .     if (is.null(rpr)) \n",
      " .         return(NULL)\n",
      " .     prepare_content(is.raw(rpr), rpr)\n",
      " . }, error = error_handler), error = outer_handler)\n",
      "3. tryCatchList(expr, classes, parentenv, handlers)\n",
      "4. tryCatchOne(expr, names, parentenv, handlers[[1L]])\n",
      "5. doTryCatch(return(expr), name, parentenv, handler)\n",
      "6. withCallingHandlers({\n",
      " .     if (!mime %in% names(repr::mime2repr)) \n",
      " .         stop(\"No repr_* for mimetype \", mime, \" in repr::mime2repr\")\n",
      " .     rpr <- repr::mime2repr[[mime]](obj)\n",
      " .     if (is.null(rpr)) \n",
      " .         return(NULL)\n",
      " .     prepare_content(is.raw(rpr), rpr)\n",
      " . }, error = error_handler)\n",
      "7. repr::mime2repr[[mime]](obj)\n",
      "8. repr_latex.list(obj)\n",
      "9. repr_list_generic(obj, \"latex\", \"\\\\item %s\\n\", \"\\\\item[\\\\$%s] %s\\n\", \n",
      " .     \"\\\\textbf{\\\\$%s} = %s\", enum_wrap = \"\\\\begin{enumerate}\\n%s\\\\end{enumerate}\\n\", \n",
      " .     named_wrap = \"\\\\begin{description}\\n%s\\\\end{description}\\n\", \n",
      " .     numeric_item = \"\\\\item[{[[%s]]}] %s\\n\", escape_fun = latex_escape)\n",
      "10. lapply(vec, format2repr[[fmt]])\n",
      "11. FUN(X[[i]], ...)\n",
      "12. repr_latex.ts(X[[i]], ...)\n",
      "13. repr_ts_generic(obj, repr_latex.matrix, ..., colspec = colspec)\n",
      "14. repr_func(m, ..., rows = nrow(m), cols = ncol(m))\n",
      "15. paste0(paste(rep(colspec$col, ncol(obj)), collapse = \"\"), colspec$end)\n",
      "16. paste(rep(colspec$col, ncol(obj)), collapse = \"\")\n"
     ]
    },
    {
     "data": {
      "text/plain": [
       "$pred\n",
       "Time Series:\n",
       "Start = 20 \n",
       "End = 24 \n",
       "Frequency = 1 \n",
       "[1]  0.0066351364 -0.0152033292 -0.0002329434 -0.0113376152 -0.0114188449\n",
       "\n",
       "$se\n",
       "Time Series:\n",
       "Start = 20 \n",
       "End = 24 \n",
       "Frequency = 1 \n",
       "[1] 0.05294000 0.06477973 0.10122119 0.13412009 0.16893789\n"
      ]
     },
     "metadata": {},
     "output_type": "display_data"
    }
   ],
   "source": [
    "ARMA1predict_5hourly_sentiment <- predict(ARMA1model_hourly_sentiment, n.ahead=5)\n",
    "ARMA1predict_5hourly_sentiment"
   ]
  },
  {
   "cell_type": "markdown",
   "metadata": {},
   "source": [
    "Back transform so we can compare de-diff'd predicted values with the de-diff'd/original actual values This is automatically done when forecasting, so no need to  manually de-diff"
   ]
  },
  {
   "cell_type": "markdown",
   "metadata": {},
   "source": [
    " using cumulative sum with original data given"
   ]
  },
  {
   "cell_type": "code",
   "execution_count": 16,
   "metadata": {},
   "outputs": [
    {
     "data": {
      "text/html": [
       "TRUE"
      ],
      "text/latex": [
       "TRUE"
      ],
      "text/markdown": [
       "TRUE"
      ],
      "text/plain": [
       "[1] TRUE"
      ]
     },
     "metadata": {},
     "output_type": "display_data"
    }
   ],
   "source": [
    "undiff1<-cumsum(c(hourly_sentiment_series_diff1[1],hourly_sentiment_series_diff2))\n",
    "all(round(hourly_sentiment_series_diff1)==round(undiff1))"
   ]
  },
  {
   "cell_type": "code",
   "execution_count": 17,
   "metadata": {},
   "outputs": [
    {
     "data": {
      "text/html": [
       "TRUE"
      ],
      "text/latex": [
       "TRUE"
      ],
      "text/markdown": [
       "TRUE"
      ],
      "text/plain": [
       "[1] TRUE"
      ]
     },
     "metadata": {},
     "output_type": "display_data"
    },
    {
     "data": {
      "text/html": [
       "<ol class=list-inline>\n",
       "\t<li>-0.000745</li>\n",
       "\t<li>-0.099152</li>\n",
       "\t<li>0.054502</li>\n",
       "\t<li>0.062236</li>\n",
       "\t<li>0.049438</li>\n",
       "\t<li>0.050184</li>\n",
       "</ol>\n"
      ],
      "text/latex": [
       "\\begin{enumerate*}\n",
       "\\item -0.000745\n",
       "\\item -0.099152\n",
       "\\item 0.054502\n",
       "\\item 0.062236\n",
       "\\item 0.049438\n",
       "\\item 0.050184\n",
       "\\end{enumerate*}\n"
      ],
      "text/markdown": [
       "1. -0.000745\n",
       "2. -0.099152\n",
       "3. 0.054502\n",
       "4. 0.062236\n",
       "5. 0.049438\n",
       "6. 0.050184\n",
       "\n",
       "\n"
      ],
      "text/plain": [
       "[1] -0.000745 -0.099152  0.054502  0.062236  0.049438  0.050184"
      ]
     },
     "metadata": {},
     "output_type": "display_data"
    },
    {
     "data": {
      "text/html": [
       "<ol class=list-inline>\n",
       "\t<li>-0.000745</li>\n",
       "\t<li>-0.099152</li>\n",
       "\t<li>0.054502</li>\n",
       "\t<li>0.062236</li>\n",
       "\t<li>0.049438</li>\n",
       "\t<li>0.050184</li>\n",
       "</ol>\n"
      ],
      "text/latex": [
       "\\begin{enumerate*}\n",
       "\\item -0.000745\n",
       "\\item -0.099152\n",
       "\\item 0.054502\n",
       "\\item 0.062236\n",
       "\\item 0.049438\n",
       "\\item 0.050184\n",
       "\\end{enumerate*}\n"
      ],
      "text/markdown": [
       "1. -0.000745\n",
       "2. -0.099152\n",
       "3. 0.054502\n",
       "4. 0.062236\n",
       "5. 0.049438\n",
       "6. 0.050184\n",
       "\n",
       "\n"
      ],
      "text/plain": [
       "[1] -0.000745 -0.099152  0.054502  0.062236  0.049438  0.050184"
      ]
     },
     "metadata": {},
     "output_type": "display_data"
    }
   ],
   "source": [
    "undiff2<-cumsum(c(hourly_sentiment_series$users_sentiment_score[1],undiff1))\n",
    "all(round(undiff2,6)==round(hourly_sentiment_series,6)) #Note: very small differences\n",
    "head(hourly_sentiment_series$users_sentiment_score)\n",
    "head(undiff2)"
   ]
  },
  {
   "cell_type": "markdown",
   "metadata": {},
   "source": [
    "#### Plot actual vs predicted First let's get 2 versions of the time series:  All values with the last 5 being actual values  All values with last 5 being predicted values"
   ]
  },
  {
   "cell_type": "code",
   "execution_count": 18,
   "metadata": {},
   "outputs": [],
   "source": [
    "hourly_sentiment_full_actual <- read.csv(file=\"hourly_users_sentiment_sample.csv\",\n",
    "                                         sep=\",\",\n",
    "                                         row.names=1,\n",
    "                                         header=TRUE)"
   ]
  },
  {
   "cell_type": "code",
   "execution_count": 19,
   "metadata": {},
   "outputs": [
    {
     "data": {
      "text/html": [
       "<table>\n",
       "<thead><tr><th></th><th scope=col>users_sentiment_score</th></tr></thead>\n",
       "<tbody>\n",
       "\t<tr><th scope=row>2/6/2019 18:00</th><td>-0.006468</td></tr>\n",
       "\t<tr><th scope=row>2/6/2019 19:00</th><td>-0.006840</td></tr>\n",
       "\t<tr><th scope=row>2/6/2019 20:00</th><td>-0.057540</td></tr>\n",
       "\t<tr><th scope=row>2/6/2019 21:00</th><td>-0.007990</td></tr>\n",
       "\t<tr><th scope=row>2/6/2019 22:00</th><td>-0.008430</td></tr>\n",
       "\t<tr><th scope=row>2/6/2019 23:00</th><td>-0.009340</td></tr>\n",
       "</tbody>\n",
       "</table>\n"
      ],
      "text/latex": [
       "\\begin{tabular}{r|l}\n",
       "  & users\\_sentiment\\_score\\\\\n",
       "\\hline\n",
       "\t2/6/2019 18:00 & -0.006468\\\\\n",
       "\t2/6/2019 19:00 & -0.006840\\\\\n",
       "\t2/6/2019 20:00 & -0.057540\\\\\n",
       "\t2/6/2019 21:00 & -0.007990\\\\\n",
       "\t2/6/2019 22:00 & -0.008430\\\\\n",
       "\t2/6/2019 23:00 & -0.009340\\\\\n",
       "\\end{tabular}\n"
      ],
      "text/markdown": [
       "\n",
       "| <!--/--> | users_sentiment_score |\n",
       "|---|---|\n",
       "| 2/6/2019 18:00 | -0.006468 |\n",
       "| 2/6/2019 19:00 | -0.006840 |\n",
       "| 2/6/2019 20:00 | -0.057540 |\n",
       "| 2/6/2019 21:00 | -0.007990 |\n",
       "| 2/6/2019 22:00 | -0.008430 |\n",
       "| 2/6/2019 23:00 | -0.009340 |\n",
       "\n"
      ],
      "text/plain": [
       "               users_sentiment_score\n",
       "2/6/2019 18:00 -0.006468            \n",
       "2/6/2019 19:00 -0.006840            \n",
       "2/6/2019 20:00 -0.057540            \n",
       "2/6/2019 21:00 -0.007990            \n",
       "2/6/2019 22:00 -0.008430            \n",
       "2/6/2019 23:00 -0.009340            "
      ]
     },
     "metadata": {},
     "output_type": "display_data"
    },
    {
     "data": {
      "text/html": [
       "<ol class=list-inline>\n",
       "\t<li>'2/6/2019 19:00'</li>\n",
       "\t<li>'2/6/2019 20:00'</li>\n",
       "\t<li>'2/6/2019 21:00'</li>\n",
       "\t<li>'2/6/2019 22:00'</li>\n",
       "\t<li>'2/6/2019 23:00'</li>\n",
       "</ol>\n"
      ],
      "text/latex": [
       "\\begin{enumerate*}\n",
       "\\item '2/6/2019 19:00'\n",
       "\\item '2/6/2019 20:00'\n",
       "\\item '2/6/2019 21:00'\n",
       "\\item '2/6/2019 22:00'\n",
       "\\item '2/6/2019 23:00'\n",
       "\\end{enumerate*}\n"
      ],
      "text/markdown": [
       "1. '2/6/2019 19:00'\n",
       "2. '2/6/2019 20:00'\n",
       "3. '2/6/2019 21:00'\n",
       "4. '2/6/2019 22:00'\n",
       "5. '2/6/2019 23:00'\n",
       "\n",
       "\n"
      ],
      "text/plain": [
       "[1] \"2/6/2019 19:00\" \"2/6/2019 20:00\" \"2/6/2019 21:00\" \"2/6/2019 22:00\"\n",
       "[5] \"2/6/2019 23:00\""
      ]
     },
     "metadata": {},
     "output_type": "display_data"
    }
   ],
   "source": [
    "tail(hourly_sentiment_full_actual)\n",
    "indx_row_values <- row.names(hourly_sentiment_full_actual)[20:24]\n",
    "indx_row_values"
   ]
  },
  {
   "cell_type": "code",
   "execution_count": 20,
   "metadata": {},
   "outputs": [
    {
     "name": "stderr",
     "output_type": "stream",
     "text": [
      "ERROR while rich displaying an object: Error in if (many_rows) {: argument is of length zero\n",
      "\n",
      "Traceback:\n",
      "1. FUN(X[[i]], ...)\n",
      "2. tryCatch(withCallingHandlers({\n",
      " .     if (!mime %in% names(repr::mime2repr)) \n",
      " .         stop(\"No repr_* for mimetype \", mime, \" in repr::mime2repr\")\n",
      " .     rpr <- repr::mime2repr[[mime]](obj)\n",
      " .     if (is.null(rpr)) \n",
      " .         return(NULL)\n",
      " .     prepare_content(is.raw(rpr), rpr)\n",
      " . }, error = error_handler), error = outer_handler)\n",
      "3. tryCatchList(expr, classes, parentenv, handlers)\n",
      "4. tryCatchOne(expr, names, parentenv, handlers[[1L]])\n",
      "5. doTryCatch(return(expr), name, parentenv, handler)\n",
      "6. withCallingHandlers({\n",
      " .     if (!mime %in% names(repr::mime2repr)) \n",
      " .         stop(\"No repr_* for mimetype \", mime, \" in repr::mime2repr\")\n",
      " .     rpr <- repr::mime2repr[[mime]](obj)\n",
      " .     if (is.null(rpr)) \n",
      " .         return(NULL)\n",
      " .     prepare_content(is.raw(rpr), rpr)\n",
      " . }, error = error_handler)\n",
      "7. repr::mime2repr[[mime]](obj)\n",
      "8. repr_text.ts(obj)\n",
      "9. repr_ts_generic(obj, repr_text.matrix, ...)\n",
      "10. repr_func(m, ..., rows = nrow(m), cols = ncol(m))\n",
      "11. ellip_limit_arr(obj, ...)\n",
      "12. arr_partition(a, rows, cols)\n"
     ]
    }
   ],
   "source": [
    "ARMA1predict_5hourly_sentiment[[1]]"
   ]
  },
  {
   "cell_type": "code",
   "execution_count": 21,
   "metadata": {},
   "outputs": [],
   "source": [
    "predicted_df <- data.frame(indx_row_values,ARMA1predict_5hourly_sentiment[[1]])\n",
    "hourly_sentiment_series_df <- read.csv(file=\"hourly_users_sentiment_subset.csv\",\n",
    "                                       sep=\",\",\n",
    "                                       header=TRUE)"
   ]
  },
  {
   "cell_type": "code",
   "execution_count": 22,
   "metadata": {},
   "outputs": [
    {
     "data": {
      "text/html": [
       "<table>\n",
       "<thead><tr><th></th><th scope=col>users_sentiment_score</th></tr></thead>\n",
       "<tbody>\n",
       "\t<tr><th scope=row>2/6/2019 18:00</th><td>-0.0064680000</td></tr>\n",
       "\t<tr><th scope=row>2/6/2019 19:00</th><td> 0.0066351364</td></tr>\n",
       "\t<tr><th scope=row>2/6/2019 20:00</th><td>-0.0152033292</td></tr>\n",
       "\t<tr><th scope=row>2/6/2019 21:00</th><td>-0.0002329434</td></tr>\n",
       "\t<tr><th scope=row>2/6/2019 22:00</th><td>-0.0113376152</td></tr>\n",
       "\t<tr><th scope=row>2/6/2019 23:00</th><td>-0.0114188449</td></tr>\n",
       "</tbody>\n",
       "</table>\n"
      ],
      "text/latex": [
       "\\begin{tabular}{r|l}\n",
       "  & users\\_sentiment\\_score\\\\\n",
       "\\hline\n",
       "\t2/6/2019 18:00 & -0.0064680000\\\\\n",
       "\t2/6/2019 19:00 &  0.0066351364\\\\\n",
       "\t2/6/2019 20:00 & -0.0152033292\\\\\n",
       "\t2/6/2019 21:00 & -0.0002329434\\\\\n",
       "\t2/6/2019 22:00 & -0.0113376152\\\\\n",
       "\t2/6/2019 23:00 & -0.0114188449\\\\\n",
       "\\end{tabular}\n"
      ],
      "text/markdown": [
       "\n",
       "| <!--/--> | users_sentiment_score |\n",
       "|---|---|\n",
       "| 2/6/2019 18:00 | -0.0064680000 |\n",
       "| 2/6/2019 19:00 |  0.0066351364 |\n",
       "| 2/6/2019 20:00 | -0.0152033292 |\n",
       "| 2/6/2019 21:00 | -0.0002329434 |\n",
       "| 2/6/2019 22:00 | -0.0113376152 |\n",
       "| 2/6/2019 23:00 | -0.0114188449 |\n",
       "\n"
      ],
      "text/plain": [
       "               users_sentiment_score\n",
       "2/6/2019 18:00 -0.0064680000        \n",
       "2/6/2019 19:00  0.0066351364        \n",
       "2/6/2019 20:00 -0.0152033292        \n",
       "2/6/2019 21:00 -0.0002329434        \n",
       "2/6/2019 22:00 -0.0113376152        \n",
       "2/6/2019 23:00 -0.0114188449        "
      ]
     },
     "metadata": {},
     "output_type": "display_data"
    }
   ],
   "source": [
    "predicted_df <- setNames(predicted_df, names(hourly_sentiment_series_df))\n",
    "hourly_sentiment_full_predicted <- rbind(hourly_sentiment_series_df,predicted_df)\n",
    "hourly_sentiment_full_predicted <- data.frame(hourly_sentiment_full_predicted, row.names=1)\n",
    "tail(hourly_sentiment_full_predicted)"
   ]
  },
  {
   "cell_type": "markdown",
   "metadata": {},
   "source": [
    "# Now let's plot actual vs predicted"
   ]
  },
  {
   "cell_type": "code",
   "execution_count": 23,
   "metadata": {},
   "outputs": [
    {
     "data": {
      "image/png": "[encoded data removed]",
      "text/plain": [
       "plot without title"
      ]
     },
     "metadata": {},
     "output_type": "display_data"
    }
   ],
   "source": [
    "plot(hourly_sentiment_full_predicted$users_sentiment_score, type=\"l\", col=\"orange\", xlab=\"Datetime\", ylab=\"Users Sentiment Score\")\n",
    "lines(hourly_sentiment_full_actual$users_sentiment_score, type=\"l\", col=\"blue\")\n",
    "legend(\"topleft\", legend=c(\"predicted\", \"actual\"), col=c(\"orange\", \"blue\"), lty=1, cex=0.5)"
   ]
  },
  {
   "cell_type": "code",
   "execution_count": null,
   "metadata": {},
   "outputs": [],
   "source": []
  }
 ],
 "metadata": {
  "kernelspec": {
   "display_name": "R",
   "language": "R",
   "name": "ir"
  },
  "language_info": {
   "codemirror_mode": "r",
   "file_extension": ".r",
   "mimetype": "text/x-r-source",
   "name": "R",
   "pygments_lexer": "r",
   "version": "3.6.1"
  }
 },
 "nbformat": 4,
 "nbformat_minor": 2
}
