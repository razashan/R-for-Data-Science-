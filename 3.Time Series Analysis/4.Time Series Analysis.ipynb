{
 "cells": [
  {
   "cell_type": "markdown",
   "metadata": {},
   "source": [
    "# Time Series Analysis\n",
    "* Decomposition\n",
    "* Forecasting\n",
    "* Clustering\n",
    "* Classification"
   ]
  },
  {
   "cell_type": "code",
   "execution_count": 7,
   "metadata": {},
   "outputs": [],
   "source": [
    "ap <- AirPassengers"
   ]
  },
  {
   "cell_type": "code",
   "execution_count": 8,
   "metadata": {},
   "outputs": [
    {
     "name": "stdout",
     "output_type": "stream",
     "text": [
      " Time-Series [1:144] from 1949 to 1961: 112 118 132 129 121 135 148 148 136 119 ...\n"
     ]
    }
   ],
   "source": [
    "str(ap)"
   ]
  },
  {
   "cell_type": "code",
   "execution_count": 9,
   "metadata": {},
   "outputs": [
    {
     "name": "stderr",
     "output_type": "stream",
     "text": [
      "ERROR while rich displaying an object: Error in repr_matrix_generic(obj, \"\\n%s%s\\n\", sprintf(\"|%%s\\n|%s|\\n\", : formal argument \"cols\" matched by multiple actual arguments\n",
      "\n",
      "Traceback:\n",
      "1. FUN(X[[i]], ...)\n",
      "2. tryCatch(withCallingHandlers({\n",
      " .     if (!mime %in% names(repr::mime2repr)) \n",
      " .         stop(\"No repr_* for mimetype \", mime, \" in repr::mime2repr\")\n",
      " .     rpr <- repr::mime2repr[[mime]](obj)\n",
      " .     if (is.null(rpr)) \n",
      " .         return(NULL)\n",
      " .     prepare_content(is.raw(rpr), rpr)\n",
      " . }, error = error_handler), error = outer_handler)\n",
      "3. tryCatchList(expr, classes, parentenv, handlers)\n",
      "4. tryCatchOne(expr, names, parentenv, handlers[[1L]])\n",
      "5. doTryCatch(return(expr), name, parentenv, handler)\n",
      "6. withCallingHandlers({\n",
      " .     if (!mime %in% names(repr::mime2repr)) \n",
      " .         stop(\"No repr_* for mimetype \", mime, \" in repr::mime2repr\")\n",
      " .     rpr <- repr::mime2repr[[mime]](obj)\n",
      " .     if (is.null(rpr)) \n",
      " .         return(NULL)\n",
      " .     prepare_content(is.raw(rpr), rpr)\n",
      " . }, error = error_handler)\n",
      "7. repr::mime2repr[[mime]](obj)\n",
      "8. repr_markdown.ts(obj)\n",
      "9. repr_ts_generic(obj, repr_markdown.matrix, ...)\n",
      "10. repr_func(m, ..., rows = nrow(m), cols = ncol(m))\n"
     ]
    },
    {
     "data": {
      "text/html": [
       "<table>\n",
       "<thead><tr><th></th><th scope=col>Jan</th><th scope=col>Feb</th><th scope=col>Mar</th><th scope=col>Apr</th><th scope=col>May</th><th scope=col>Jun</th><th scope=col>Jul</th><th scope=col>Aug</th><th scope=col>Sep</th><th scope=col>Oct</th><th scope=col>Nov</th><th scope=col>Dec</th></tr></thead>\n",
       "<tbody>\n",
       "\t<tr><th scope=row>1949</th><td>112</td><td>118</td><td>132</td><td>129</td><td>121</td><td>135</td><td>148</td><td>148</td><td>136</td><td>119</td><td>104</td><td>118</td></tr>\n",
       "\t<tr><th scope=row>1950</th><td>115</td><td>126</td><td>141</td><td>135</td><td>125</td><td>149</td><td>170</td><td>170</td><td>158</td><td>133</td><td>114</td><td>140</td></tr>\n",
       "\t<tr><th scope=row>1951</th><td>145</td><td>150</td><td>178</td><td>163</td><td>172</td><td>178</td><td>199</td><td>199</td><td>184</td><td>162</td><td>146</td><td>166</td></tr>\n",
       "\t<tr><th scope=row>1952</th><td>171</td><td>180</td><td>193</td><td>181</td><td>183</td><td>218</td><td>230</td><td>242</td><td>209</td><td>191</td><td>172</td><td>194</td></tr>\n",
       "\t<tr><th scope=row>1953</th><td>196</td><td>196</td><td>236</td><td>235</td><td>229</td><td>243</td><td>264</td><td>272</td><td>237</td><td>211</td><td>180</td><td>201</td></tr>\n",
       "\t<tr><th scope=row>1954</th><td>204</td><td>188</td><td>235</td><td>227</td><td>234</td><td>264</td><td>302</td><td>293</td><td>259</td><td>229</td><td>203</td><td>229</td></tr>\n",
       "\t<tr><th scope=row>1955</th><td>242</td><td>233</td><td>267</td><td>269</td><td>270</td><td>315</td><td>364</td><td>347</td><td>312</td><td>274</td><td>237</td><td>278</td></tr>\n",
       "\t<tr><th scope=row>1956</th><td>284</td><td>277</td><td>317</td><td>313</td><td>318</td><td>374</td><td>413</td><td>405</td><td>355</td><td>306</td><td>271</td><td>306</td></tr>\n",
       "\t<tr><th scope=row>1957</th><td>315</td><td>301</td><td>356</td><td>348</td><td>355</td><td>422</td><td>465</td><td>467</td><td>404</td><td>347</td><td>305</td><td>336</td></tr>\n",
       "\t<tr><th scope=row>1958</th><td>340</td><td>318</td><td>362</td><td>348</td><td>363</td><td>435</td><td>491</td><td>505</td><td>404</td><td>359</td><td>310</td><td>337</td></tr>\n",
       "\t<tr><th scope=row>1959</th><td>360</td><td>342</td><td>406</td><td>396</td><td>420</td><td>472</td><td>548</td><td>559</td><td>463</td><td>407</td><td>362</td><td>405</td></tr>\n",
       "\t<tr><th scope=row>1960</th><td>417</td><td>391</td><td>419</td><td>461</td><td>472</td><td>535</td><td>622</td><td>606</td><td>508</td><td>461</td><td>390</td><td>432</td></tr>\n",
       "</tbody>\n",
       "</table>\n"
      ],
      "text/latex": [
       "\\begin{tabular}{r|llllllllllll}\n",
       "  & Jan & Feb & Mar & Apr & May & Jun & Jul & Aug & Sep & Oct & Nov & Dec\\\\\n",
       "\\hline\n",
       "\t1949 & 112 & 118 & 132 & 129 & 121 & 135 & 148 & 148 & 136 & 119 & 104 & 118\\\\\n",
       "\t1950 & 115 & 126 & 141 & 135 & 125 & 149 & 170 & 170 & 158 & 133 & 114 & 140\\\\\n",
       "\t1951 & 145 & 150 & 178 & 163 & 172 & 178 & 199 & 199 & 184 & 162 & 146 & 166\\\\\n",
       "\t1952 & 171 & 180 & 193 & 181 & 183 & 218 & 230 & 242 & 209 & 191 & 172 & 194\\\\\n",
       "\t1953 & 196 & 196 & 236 & 235 & 229 & 243 & 264 & 272 & 237 & 211 & 180 & 201\\\\\n",
       "\t1954 & 204 & 188 & 235 & 227 & 234 & 264 & 302 & 293 & 259 & 229 & 203 & 229\\\\\n",
       "\t1955 & 242 & 233 & 267 & 269 & 270 & 315 & 364 & 347 & 312 & 274 & 237 & 278\\\\\n",
       "\t1956 & 284 & 277 & 317 & 313 & 318 & 374 & 413 & 405 & 355 & 306 & 271 & 306\\\\\n",
       "\t1957 & 315 & 301 & 356 & 348 & 355 & 422 & 465 & 467 & 404 & 347 & 305 & 336\\\\\n",
       "\t1958 & 340 & 318 & 362 & 348 & 363 & 435 & 491 & 505 & 404 & 359 & 310 & 337\\\\\n",
       "\t1959 & 360 & 342 & 406 & 396 & 420 & 472 & 548 & 559 & 463 & 407 & 362 & 405\\\\\n",
       "\t1960 & 417 & 391 & 419 & 461 & 472 & 535 & 622 & 606 & 508 & 461 & 390 & 432\\\\\n",
       "\\end{tabular}\n"
      ],
      "text/plain": [
       "     Jan Feb Mar Apr May Jun Jul Aug Sep Oct Nov Dec\n",
       "1949 112 118 132 129 121 135 148 148 136 119 104 118\n",
       "1950 115 126 141 135 125 149 170 170 158 133 114 140\n",
       "1951 145 150 178 163 172 178 199 199 184 162 146 166\n",
       "1952 171 180 193 181 183 218 230 242 209 191 172 194\n",
       "1953 196 196 236 235 229 243 264 272 237 211 180 201\n",
       "1954 204 188 235 227 234 264 302 293 259 229 203 229\n",
       "1955 242 233 267 269 270 315 364 347 312 274 237 278\n",
       "1956 284 277 317 313 318 374 413 405 355 306 271 306\n",
       "1957 315 301 356 348 355 422 465 467 404 347 305 336\n",
       "1958 340 318 362 348 363 435 491 505 404 359 310 337\n",
       "1959 360 342 406 396 420 472 548 559 463 407 362 405\n",
       "1960 417 391 419 461 472 535 622 606 508 461 390 432"
      ]
     },
     "metadata": {},
     "output_type": "display_data"
    }
   ],
   "source": [
    "ap"
   ]
  },
  {
   "cell_type": "code",
   "execution_count": 10,
   "metadata": {},
   "outputs": [
    {
     "data": {
      "text/html": [
       "<ol class=list-inline>\n",
       "\t<li>112</li>\n",
       "\t<li>118</li>\n",
       "\t<li>132</li>\n",
       "\t<li>129</li>\n",
       "\t<li>121</li>\n",
       "\t<li>135</li>\n",
       "</ol>\n"
      ],
      "text/latex": [
       "\\begin{enumerate*}\n",
       "\\item 112\n",
       "\\item 118\n",
       "\\item 132\n",
       "\\item 129\n",
       "\\item 121\n",
       "\\item 135\n",
       "\\end{enumerate*}\n"
      ],
      "text/markdown": [
       "1. 112\n",
       "2. 118\n",
       "3. 132\n",
       "4. 129\n",
       "5. 121\n",
       "6. 135\n",
       "\n",
       "\n"
      ],
      "text/plain": [
       "[1] 112 118 132 129 121 135"
      ]
     },
     "metadata": {},
     "output_type": "display_data"
    }
   ],
   "source": [
    "head(ap)"
   ]
  },
  {
   "cell_type": "code",
   "execution_count": 11,
   "metadata": {},
   "outputs": [
    {
     "name": "stderr",
     "output_type": "stream",
     "text": [
      "ERROR while rich displaying an object: Error in repr_matrix_generic(obj, \"\\n%s%s\\n\", sprintf(\"|%%s\\n|%s|\\n\", : formal argument \"cols\" matched by multiple actual arguments\n",
      "\n",
      "Traceback:\n",
      "1. FUN(X[[i]], ...)\n",
      "2. tryCatch(withCallingHandlers({\n",
      " .     if (!mime %in% names(repr::mime2repr)) \n",
      " .         stop(\"No repr_* for mimetype \", mime, \" in repr::mime2repr\")\n",
      " .     rpr <- repr::mime2repr[[mime]](obj)\n",
      " .     if (is.null(rpr)) \n",
      " .         return(NULL)\n",
      " .     prepare_content(is.raw(rpr), rpr)\n",
      " . }, error = error_handler), error = outer_handler)\n",
      "3. tryCatchList(expr, classes, parentenv, handlers)\n",
      "4. tryCatchOne(expr, names, parentenv, handlers[[1L]])\n",
      "5. doTryCatch(return(expr), name, parentenv, handler)\n",
      "6. withCallingHandlers({\n",
      " .     if (!mime %in% names(repr::mime2repr)) \n",
      " .         stop(\"No repr_* for mimetype \", mime, \" in repr::mime2repr\")\n",
      " .     rpr <- repr::mime2repr[[mime]](obj)\n",
      " .     if (is.null(rpr)) \n",
      " .         return(NULL)\n",
      " .     prepare_content(is.raw(rpr), rpr)\n",
      " . }, error = error_handler)\n",
      "7. repr::mime2repr[[mime]](obj)\n",
      "8. repr_markdown.ts(obj)\n",
      "9. repr_ts_generic(obj, repr_markdown.matrix, ...)\n",
      "10. repr_func(m, ..., rows = nrow(m), cols = ncol(m))\n"
     ]
    },
    {
     "data": {
      "text/html": [
       "<table>\n",
       "<thead><tr><th></th><th scope=col>Jan</th><th scope=col>Feb</th><th scope=col>Mar</th><th scope=col>Apr</th><th scope=col>May</th><th scope=col>Jun</th><th scope=col>Jul</th><th scope=col>Aug</th><th scope=col>Sep</th><th scope=col>Oct</th><th scope=col>Nov</th><th scope=col>Dec</th></tr></thead>\n",
       "<tbody>\n",
       "\t<tr><th scope=row>1949</th><td>112</td><td>118</td><td>132</td><td>129</td><td>121</td><td>135</td><td>148</td><td>148</td><td>136</td><td>119</td><td>104</td><td>118</td></tr>\n",
       "\t<tr><th scope=row>1950</th><td>115</td><td>126</td><td>141</td><td>135</td><td>125</td><td>149</td><td>170</td><td>170</td><td>158</td><td>133</td><td>114</td><td>140</td></tr>\n",
       "\t<tr><th scope=row>1951</th><td>145</td><td>150</td><td>178</td><td>163</td><td>172</td><td>178</td><td>199</td><td>199</td><td>184</td><td>162</td><td>146</td><td>166</td></tr>\n",
       "\t<tr><th scope=row>1952</th><td>171</td><td>180</td><td>193</td><td>181</td><td>183</td><td>218</td><td>230</td><td>242</td><td>209</td><td>191</td><td>172</td><td>194</td></tr>\n",
       "\t<tr><th scope=row>1953</th><td>196</td><td>196</td><td>236</td><td>235</td><td>229</td><td>243</td><td>264</td><td>272</td><td>237</td><td>211</td><td>180</td><td>201</td></tr>\n",
       "\t<tr><th scope=row>1954</th><td>204</td><td>188</td><td>235</td><td>227</td><td>234</td><td>264</td><td>302</td><td>293</td><td>259</td><td>229</td><td>203</td><td>229</td></tr>\n",
       "\t<tr><th scope=row>1955</th><td>242</td><td>233</td><td>267</td><td>269</td><td>270</td><td>315</td><td>364</td><td>347</td><td>312</td><td>274</td><td>237</td><td>278</td></tr>\n",
       "\t<tr><th scope=row>1956</th><td>284</td><td>277</td><td>317</td><td>313</td><td>318</td><td>374</td><td>413</td><td>405</td><td>355</td><td>306</td><td>271</td><td>306</td></tr>\n",
       "\t<tr><th scope=row>1957</th><td>315</td><td>301</td><td>356</td><td>348</td><td>355</td><td>422</td><td>465</td><td>467</td><td>404</td><td>347</td><td>305</td><td>336</td></tr>\n",
       "\t<tr><th scope=row>1958</th><td>340</td><td>318</td><td>362</td><td>348</td><td>363</td><td>435</td><td>491</td><td>505</td><td>404</td><td>359</td><td>310</td><td>337</td></tr>\n",
       "\t<tr><th scope=row>1959</th><td>360</td><td>342</td><td>406</td><td>396</td><td>420</td><td>472</td><td>548</td><td>559</td><td>463</td><td>407</td><td>362</td><td>405</td></tr>\n",
       "\t<tr><th scope=row>1960</th><td>417</td><td>391</td><td>419</td><td>461</td><td>472</td><td>535</td><td>622</td><td>606</td><td>508</td><td>461</td><td>390</td><td>432</td></tr>\n",
       "</tbody>\n",
       "</table>\n"
      ],
      "text/latex": [
       "\\begin{tabular}{r|llllllllllll}\n",
       "  & Jan & Feb & Mar & Apr & May & Jun & Jul & Aug & Sep & Oct & Nov & Dec\\\\\n",
       "\\hline\n",
       "\t1949 & 112 & 118 & 132 & 129 & 121 & 135 & 148 & 148 & 136 & 119 & 104 & 118\\\\\n",
       "\t1950 & 115 & 126 & 141 & 135 & 125 & 149 & 170 & 170 & 158 & 133 & 114 & 140\\\\\n",
       "\t1951 & 145 & 150 & 178 & 163 & 172 & 178 & 199 & 199 & 184 & 162 & 146 & 166\\\\\n",
       "\t1952 & 171 & 180 & 193 & 181 & 183 & 218 & 230 & 242 & 209 & 191 & 172 & 194\\\\\n",
       "\t1953 & 196 & 196 & 236 & 235 & 229 & 243 & 264 & 272 & 237 & 211 & 180 & 201\\\\\n",
       "\t1954 & 204 & 188 & 235 & 227 & 234 & 264 & 302 & 293 & 259 & 229 & 203 & 229\\\\\n",
       "\t1955 & 242 & 233 & 267 & 269 & 270 & 315 & 364 & 347 & 312 & 274 & 237 & 278\\\\\n",
       "\t1956 & 284 & 277 & 317 & 313 & 318 & 374 & 413 & 405 & 355 & 306 & 271 & 306\\\\\n",
       "\t1957 & 315 & 301 & 356 & 348 & 355 & 422 & 465 & 467 & 404 & 347 & 305 & 336\\\\\n",
       "\t1958 & 340 & 318 & 362 & 348 & 363 & 435 & 491 & 505 & 404 & 359 & 310 & 337\\\\\n",
       "\t1959 & 360 & 342 & 406 & 396 & 420 & 472 & 548 & 559 & 463 & 407 & 362 & 405\\\\\n",
       "\t1960 & 417 & 391 & 419 & 461 & 472 & 535 & 622 & 606 & 508 & 461 & 390 & 432\\\\\n",
       "\\end{tabular}\n"
      ],
      "text/plain": [
       "     Jan Feb Mar Apr May Jun Jul Aug Sep Oct Nov Dec\n",
       "1949 112 118 132 129 121 135 148 148 136 119 104 118\n",
       "1950 115 126 141 135 125 149 170 170 158 133 114 140\n",
       "1951 145 150 178 163 172 178 199 199 184 162 146 166\n",
       "1952 171 180 193 181 183 218 230 242 209 191 172 194\n",
       "1953 196 196 236 235 229 243 264 272 237 211 180 201\n",
       "1954 204 188 235 227 234 264 302 293 259 229 203 229\n",
       "1955 242 233 267 269 270 315 364 347 312 274 237 278\n",
       "1956 284 277 317 313 318 374 413 405 355 306 271 306\n",
       "1957 315 301 356 348 355 422 465 467 404 347 305 336\n",
       "1958 340 318 362 348 363 435 491 505 404 359 310 337\n",
       "1959 360 342 406 396 420 472 548 559 463 407 362 405\n",
       "1960 417 391 419 461 472 535 622 606 508 461 390 432"
      ]
     },
     "metadata": {},
     "output_type": "display_data"
    }
   ],
   "source": [
    "ts(ap,frequency = 12,start = c(1949,1))"
   ]
  },
  {
   "cell_type": "code",
   "execution_count": 12,
   "metadata": {},
   "outputs": [
    {
     "data": {
      "text/html": [
       "<dl>\n",
       "\t<dt>$tsp</dt>\n",
       "\t\t<dd><ol class=list-inline>\n",
       "\t<li>1949</li>\n",
       "\t<li>1960.91666666667</li>\n",
       "\t<li>12</li>\n",
       "</ol>\n",
       "</dd>\n",
       "\t<dt>$class</dt>\n",
       "\t\t<dd>'ts'</dd>\n",
       "</dl>\n"
      ],
      "text/latex": [
       "\\begin{description}\n",
       "\\item[\\$tsp] \\begin{enumerate*}\n",
       "\\item 1949\n",
       "\\item 1960.91666666667\n",
       "\\item 12\n",
       "\\end{enumerate*}\n",
       "\n",
       "\\item[\\$class] 'ts'\n",
       "\\end{description}\n"
      ],
      "text/markdown": [
       "$tsp\n",
       ":   1. 1949\n",
       "2. 1960.91666666667\n",
       "3. 12\n",
       "\n",
       "\n",
       "\n",
       "$class\n",
       ":   'ts'\n",
       "\n",
       "\n"
      ],
      "text/plain": [
       "$tsp\n",
       "[1] 1949.000 1960.917   12.000\n",
       "\n",
       "$class\n",
       "[1] \"ts\"\n"
      ]
     },
     "metadata": {},
     "output_type": "display_data"
    }
   ],
   "source": [
    "attributes(ap)"
   ]
  },
  {
   "cell_type": "code",
   "execution_count": 13,
   "metadata": {},
   "outputs": [
    {
     "data": {
      "image/png": "[encoded data removed]",
      "text/plain": [
       "plot without title"
      ]
     },
     "metadata": {},
     "output_type": "display_data"
    }
   ],
   "source": [
    "plot(ap)"
   ]
  },
  {
   "cell_type": "code",
   "execution_count": 15,
   "metadata": {},
   "outputs": [],
   "source": [
    "ap <- log(ap)"
   ]
  },
  {
   "cell_type": "code",
   "execution_count": 16,
   "metadata": {},
   "outputs": [
    {
     "data": {
      "image/png": "[encoded data removed]",
      "text/plain": [
       "plot without title"
      ]
     },
     "metadata": {},
     "output_type": "display_data"
    }
   ],
   "source": [
    "plot(ap)"
   ]
  },
  {
   "cell_type": "code",
   "execution_count": 17,
   "metadata": {},
   "outputs": [],
   "source": [
    "dcomp <- decompose(ap)"
   ]
  },
  {
   "cell_type": "code",
   "execution_count": 18,
   "metadata": {},
   "outputs": [
    {
     "data": {
      "text/html": [
       "<ol class=list-inline>\n",
       "\t<li>-0.0858150187672832</li>\n",
       "\t<li>-0.114412848146566</li>\n",
       "\t<li>0.0181133545933874</li>\n",
       "\t<li>-0.01304561117638</li>\n",
       "\t<li>-0.00896610609203655</li>\n",
       "\t<li>0.115392996721811</li>\n",
       "\t<li>0.210816434742114</li>\n",
       "\t<li>0.204512398651158</li>\n",
       "\t<li>0.0648363511149057</li>\n",
       "\t<li>-0.0752712650459651</li>\n",
       "\t<li>-0.215845611702321</li>\n",
       "\t<li>-0.100315074892823</li>\n",
       "</ol>\n"
      ],
      "text/latex": [
       "\\begin{enumerate*}\n",
       "\\item -0.0858150187672832\n",
       "\\item -0.114412848146566\n",
       "\\item 0.0181133545933874\n",
       "\\item -0.01304561117638\n",
       "\\item -0.00896610609203655\n",
       "\\item 0.115392996721811\n",
       "\\item 0.210816434742114\n",
       "\\item 0.204512398651158\n",
       "\\item 0.0648363511149057\n",
       "\\item -0.0752712650459651\n",
       "\\item -0.215845611702321\n",
       "\\item -0.100315074892823\n",
       "\\end{enumerate*}\n"
      ],
      "text/markdown": [
       "1. -0.0858150187672832\n",
       "2. -0.114412848146566\n",
       "3. 0.0181133545933874\n",
       "4. -0.01304561117638\n",
       "5. -0.00896610609203655\n",
       "6. 0.115392996721811\n",
       "7. 0.210816434742114\n",
       "8. 0.204512398651158\n",
       "9. 0.0648363511149057\n",
       "10. -0.0752712650459651\n",
       "11. -0.215845611702321\n",
       "12. -0.100315074892823\n",
       "\n",
       "\n"
      ],
      "text/plain": [
       " [1] -0.085815019 -0.114412848  0.018113355 -0.013045611 -0.008966106\n",
       " [6]  0.115392997  0.210816435  0.204512399  0.064836351 -0.075271265\n",
       "[11] -0.215845612 -0.100315075"
      ]
     },
     "metadata": {},
     "output_type": "display_data"
    }
   ],
   "source": [
    "dcomp$figure"
   ]
  },
  {
   "cell_type": "code",
   "execution_count": 19,
   "metadata": {},
   "outputs": [
    {
     "data": {
      "image/png": "[encoded data removed]",
      "text/plain": [
       "plot without title"
      ]
     },
     "metadata": {},
     "output_type": "display_data"
    }
   ],
   "source": [
    "plot(dcomp)"
   ]
  },
  {
   "cell_type": "code",
   "execution_count": 20,
   "metadata": {},
   "outputs": [
    {
     "data": {
      "image/png": "[encoded data removed]",
      "text/plain": [
       "plot without title"
      ]
     },
     "metadata": {},
     "output_type": "display_data"
    }
   ],
   "source": [
    "plot(dcomp$figure,\n",
    "    type = 'b',\n",
    "    xlab = 'Month',\n",
    "    ylab = 'Seasonality Index',\n",
    "    col = 'blue',\n",
    "    las = 2)"
   ]
  },
  {
   "cell_type": "code",
   "execution_count": 21,
   "metadata": {},
   "outputs": [
    {
     "data": {
      "image/png": "[encoded data removed]",
      "text/plain": [
       "plot without title"
      ]
     },
     "metadata": {},
     "output_type": "display_data"
    }
   ],
   "source": [
    "plot(dcomp)"
   ]
  },
  {
   "cell_type": "markdown",
   "metadata": {},
   "source": [
    "# ARIMA"
   ]
  },
  {
   "cell_type": "code",
   "execution_count": 23,
   "metadata": {},
   "outputs": [
    {
     "name": "stderr",
     "output_type": "stream",
     "text": [
      "Warning message:\n",
      "\"package 'forecast' was built under R version 3.6.3\"Registered S3 method overwritten by 'xts':\n",
      "  method     from\n",
      "  as.zoo.xts zoo \n",
      "Registered S3 method overwritten by 'quantmod':\n",
      "  method            from\n",
      "  as.zoo.data.frame zoo \n"
     ]
    }
   ],
   "source": [
    "library(forecast)"
   ]
  },
  {
   "cell_type": "code",
   "execution_count": 24,
   "metadata": {},
   "outputs": [],
   "source": [
    "model <- auto.arima(ap)"
   ]
  },
  {
   "cell_type": "code",
   "execution_count": 25,
   "metadata": {},
   "outputs": [
    {
     "data": {
      "text/plain": [
       "Series: ap \n",
       "ARIMA(0,1,1)(0,1,1)[12] \n",
       "\n",
       "Coefficients:\n",
       "          ma1     sma1\n",
       "      -0.4018  -0.5569\n",
       "s.e.   0.0896   0.0731\n",
       "\n",
       "sigma^2 estimated as 0.001371:  log likelihood=244.7\n",
       "AIC=-483.4   AICc=-483.21   BIC=-474.77"
      ]
     },
     "metadata": {},
     "output_type": "display_data"
    }
   ],
   "source": [
    "model"
   ]
  },
  {
   "cell_type": "markdown",
   "metadata": {},
   "source": [
    "The Akaike Information Critera (AIC) is a widely used measure of a statistical model. It basically quantifies 1) the goodness of fit, and 2) the simplicity/parsimony, of the model into a single statistic. ..."
   ]
  },
  {
   "cell_type": "markdown",
   "metadata": {},
   "source": [
    "In statistics, the Bayesian information criterion (BIC) or Schwarz information criterion (also SIC, SBC, SBIC) is a criterion for model selection among a finite set of models; the model with the lowest BIC is preferred. It is based, in part, on the likelihood function and it is closely related to the Akaike information criterion (AIC).\n",
    "When fitting models, it is possible to increase the likelihood by adding parameters, but doing so may result in overfitting. Both BIC and AIC attempt to resolve this problem by introducing a penalty term for the number of parameters in the model; the penalty term is larger in BIC than in AIC\n"
   ]
  },
  {
   "cell_type": "code",
   "execution_count": 26,
   "metadata": {},
   "outputs": [
    {
     "data": {
      "text/html": [
       "<dl>\n",
       "\t<dt>$names</dt>\n",
       "\t\t<dd><ol class=list-inline>\n",
       "\t<li>'coef'</li>\n",
       "\t<li>'sigma2'</li>\n",
       "\t<li>'var.coef'</li>\n",
       "\t<li>'mask'</li>\n",
       "\t<li>'loglik'</li>\n",
       "\t<li>'aic'</li>\n",
       "\t<li>'arma'</li>\n",
       "\t<li>'residuals'</li>\n",
       "\t<li>'call'</li>\n",
       "\t<li>'series'</li>\n",
       "\t<li>'code'</li>\n",
       "\t<li>'n.cond'</li>\n",
       "\t<li>'nobs'</li>\n",
       "\t<li>'model'</li>\n",
       "\t<li>'bic'</li>\n",
       "\t<li>'aicc'</li>\n",
       "\t<li>'x'</li>\n",
       "\t<li>'fitted'</li>\n",
       "</ol>\n",
       "</dd>\n",
       "\t<dt>$class</dt>\n",
       "\t\t<dd><ol class=list-inline>\n",
       "\t<li>'forecast_ARIMA'</li>\n",
       "\t<li>'ARIMA'</li>\n",
       "\t<li>'Arima'</li>\n",
       "</ol>\n",
       "</dd>\n",
       "</dl>\n"
      ],
      "text/latex": [
       "\\begin{description}\n",
       "\\item[\\$names] \\begin{enumerate*}\n",
       "\\item 'coef'\n",
       "\\item 'sigma2'\n",
       "\\item 'var.coef'\n",
       "\\item 'mask'\n",
       "\\item 'loglik'\n",
       "\\item 'aic'\n",
       "\\item 'arma'\n",
       "\\item 'residuals'\n",
       "\\item 'call'\n",
       "\\item 'series'\n",
       "\\item 'code'\n",
       "\\item 'n.cond'\n",
       "\\item 'nobs'\n",
       "\\item 'model'\n",
       "\\item 'bic'\n",
       "\\item 'aicc'\n",
       "\\item 'x'\n",
       "\\item 'fitted'\n",
       "\\end{enumerate*}\n",
       "\n",
       "\\item[\\$class] \\begin{enumerate*}\n",
       "\\item 'forecast\\_ARIMA'\n",
       "\\item 'ARIMA'\n",
       "\\item 'Arima'\n",
       "\\end{enumerate*}\n",
       "\n",
       "\\end{description}\n"
      ],
      "text/markdown": [
       "$names\n",
       ":   1. 'coef'\n",
       "2. 'sigma2'\n",
       "3. 'var.coef'\n",
       "4. 'mask'\n",
       "5. 'loglik'\n",
       "6. 'aic'\n",
       "7. 'arma'\n",
       "8. 'residuals'\n",
       "9. 'call'\n",
       "10. 'series'\n",
       "11. 'code'\n",
       "12. 'n.cond'\n",
       "13. 'nobs'\n",
       "14. 'model'\n",
       "15. 'bic'\n",
       "16. 'aicc'\n",
       "17. 'x'\n",
       "18. 'fitted'\n",
       "\n",
       "\n",
       "\n",
       "$class\n",
       ":   1. 'forecast_ARIMA'\n",
       "2. 'ARIMA'\n",
       "3. 'Arima'\n",
       "\n",
       "\n",
       "\n",
       "\n",
       "\n"
      ],
      "text/plain": [
       "$names\n",
       " [1] \"coef\"      \"sigma2\"    \"var.coef\"  \"mask\"      \"loglik\"    \"aic\"      \n",
       " [7] \"arma\"      \"residuals\" \"call\"      \"series\"    \"code\"      \"n.cond\"   \n",
       "[13] \"nobs\"      \"model\"     \"bic\"       \"aicc\"      \"x\"         \"fitted\"   \n",
       "\n",
       "$class\n",
       "[1] \"forecast_ARIMA\" \"ARIMA\"          \"Arima\"         \n"
      ]
     },
     "metadata": {},
     "output_type": "display_data"
    }
   ],
   "source": [
    "attributes(model)"
   ]
  },
  {
   "cell_type": "code",
   "execution_count": 27,
   "metadata": {},
   "outputs": [
    {
     "data": {
      "image/png": "[encoded data removed]",
      "text/plain": [
       "Plot with title \"Correlogram\""
      ]
     },
     "metadata": {},
     "output_type": "display_data"
    }
   ],
   "source": [
    "acf(model$residuals,main = \"Correlogram\")"
   ]
  },
  {
   "cell_type": "markdown",
   "metadata": {},
   "source": [
    "This graph shows the autocorrelation for insample forcast errors do not exceed these significant bounds "
   ]
  },
  {
   "cell_type": "code",
   "execution_count": 28,
   "metadata": {},
   "outputs": [
    {
     "data": {
      "image/png": "[encoded data removed]",
      "text/plain": [
       "Plot with title \"Partial Correlogram\""
      ]
     },
     "metadata": {},
     "output_type": "display_data"
    }
   ],
   "source": [
    "pacf(model$residuals,main = 'Partial Correlogram')"
   ]
  },
  {
   "cell_type": "markdown",
   "metadata": {},
   "source": [
    "# Ljung Box Test"
   ]
  },
  {
   "cell_type": "code",
   "execution_count": 29,
   "metadata": {},
   "outputs": [
    {
     "data": {
      "text/plain": [
       "\n",
       "\tBox-Ljung test\n",
       "\n",
       "data:  model$residuals\n",
       "X-squared = 17.688, df = 20, p-value = 0.6079\n"
      ]
     },
     "metadata": {},
     "output_type": "display_data"
    }
   ],
   "source": [
    "Box.test(model$residuals,lag = 20, type = 'Ljung-Box')"
   ]
  },
  {
   "cell_type": "markdown",
   "metadata": {},
   "source": [
    " # Residual Plot "
   ]
  },
  {
   "cell_type": "markdown",
   "metadata": {},
   "source": [
    "To confirm model is working fine "
   ]
  },
  {
   "cell_type": "code",
   "execution_count": 33,
   "metadata": {},
   "outputs": [
    {
     "data": {
      "image/png": "[encoded data removed]",
      "text/plain": [
       "Plot with title \"FALSE\""
      ]
     },
     "metadata": {},
     "output_type": "display_data"
    }
   ],
   "source": [
    "hist(model$residuals,\n",
    "    col = 'red',\n",
    "    xlab = 'Error',\n",
    "    main = FALSE)\n",
    "lines(density(model$residuals))"
   ]
  },
  {
   "cell_type": "code",
   "execution_count": 34,
   "metadata": {},
   "outputs": [
    {
     "name": "stderr",
     "output_type": "stream",
     "text": [
      "Warning message:\n",
      "\"package 'ggplot2' was built under R version 3.6.3\""
     ]
    },
    {
     "data": {
      "image/png": "[encoded data removed]",
      "text/plain": [
       "plot without title"
      ]
     },
     "metadata": {},
     "output_type": "display_data"
    }
   ],
   "source": [
    "f <- forecast(model,48)\n",
    "library(ggplot2)\n",
    "autoplot(f)"
   ]
  },
  {
   "cell_type": "code",
   "execution_count": 35,
   "metadata": {},
   "outputs": [
    {
     "data": {
      "text/html": [
       "<table>\n",
       "<thead><tr><th></th><th scope=col>ME</th><th scope=col>RMSE</th><th scope=col>MAE</th><th scope=col>MPE</th><th scope=col>MAPE</th><th scope=col>MASE</th><th scope=col>ACF1</th></tr></thead>\n",
       "<tbody>\n",
       "\t<tr><th scope=row>Training set</th><td>0.0005730622</td><td>0.03504883  </td><td>0.02626034  </td><td>0.01098898  </td><td>0.4752815   </td><td>0.2169522   </td><td>0.01443892  </td></tr>\n",
       "</tbody>\n",
       "</table>\n"
      ],
      "text/latex": [
       "\\begin{tabular}{r|lllllll}\n",
       "  & ME & RMSE & MAE & MPE & MAPE & MASE & ACF1\\\\\n",
       "\\hline\n",
       "\tTraining set & 0.0005730622 & 0.03504883   & 0.02626034   & 0.01098898   & 0.4752815    & 0.2169522    & 0.01443892  \\\\\n",
       "\\end{tabular}\n"
      ],
      "text/markdown": [
       "\n",
       "| <!--/--> | ME | RMSE | MAE | MPE | MAPE | MASE | ACF1 |\n",
       "|---|---|---|---|---|---|---|---|\n",
       "| Training set | 0.0005730622 | 0.03504883   | 0.02626034   | 0.01098898   | 0.4752815    | 0.2169522    | 0.01443892   |\n",
       "\n"
      ],
      "text/plain": [
       "             ME           RMSE       MAE        MPE        MAPE      MASE     \n",
       "Training set 0.0005730622 0.03504883 0.02626034 0.01098898 0.4752815 0.2169522\n",
       "             ACF1      \n",
       "Training set 0.01443892"
      ]
     },
     "metadata": {},
     "output_type": "display_data"
    }
   ],
   "source": [
    "accuracy(f)"
   ]
  },
  {
   "cell_type": "markdown",
   "metadata": {},
   "source": [
    "# Time Series Clustering "
   ]
  },
  {
   "cell_type": "code",
   "execution_count": 37,
   "metadata": {},
   "outputs": [],
   "source": [
    "data<- read.table(file.choose(),header = F,sep= '')"
   ]
  },
  {
   "cell_type": "code",
   "execution_count": 38,
   "metadata": {},
   "outputs": [
    {
     "data": {
      "text/html": [
       "<table>\n",
       "<thead><tr><th scope=col>V1</th><th scope=col>V2</th><th scope=col>V3</th><th scope=col>V4</th><th scope=col>V5</th><th scope=col>V6</th><th scope=col>V7</th><th scope=col>V8</th><th scope=col>V9</th><th scope=col>V10</th><th scope=col>...</th><th scope=col>V51</th><th scope=col>V52</th><th scope=col>V53</th><th scope=col>V54</th><th scope=col>V55</th><th scope=col>V56</th><th scope=col>V57</th><th scope=col>V58</th><th scope=col>V59</th><th scope=col>V60</th></tr></thead>\n",
       "<tbody>\n",
       "\t<tr><td>28.7812</td><td>34.4632</td><td>31.3381</td><td>31.2834</td><td>28.9207</td><td>33.7596</td><td>25.3969</td><td>27.7849</td><td>35.2479</td><td>27.1159</td><td>...    </td><td>31.4333</td><td>24.5556</td><td>33.7431</td><td>25.0466</td><td>34.9318</td><td>34.9879</td><td>32.4721</td><td>33.3759</td><td>25.4652</td><td>25.8717</td></tr>\n",
       "\t<tr><td>24.8923</td><td>25.7410</td><td>27.5532</td><td>32.8217</td><td>27.8789</td><td>31.5926</td><td>31.4861</td><td>35.5469</td><td>27.9516</td><td>31.6595</td><td>...    </td><td>32.5577</td><td>31.0205</td><td>26.6418</td><td>28.4331</td><td>33.6564</td><td>26.4244</td><td>28.4661</td><td>34.2484</td><td>32.1005</td><td>26.6910</td></tr>\n",
       "\t<tr><td>31.3987</td><td>30.6316</td><td>26.3983</td><td>24.2905</td><td>27.8613</td><td>28.5491</td><td>24.9717</td><td>32.4358</td><td>25.2239</td><td>27.3068</td><td>...    </td><td>33.6318</td><td>26.5966</td><td>25.5387</td><td>32.5434</td><td>25.5772</td><td>29.9897</td><td>31.3510</td><td>33.9002</td><td>29.5446</td><td>29.3430</td></tr>\n",
       "\t<tr><td>25.7740</td><td>30.5262</td><td>35.4209</td><td>25.6033</td><td>27.9700</td><td>25.2702</td><td>28.1320</td><td>29.4268</td><td>31.4549</td><td>27.3200</td><td>...    </td><td>34.6292</td><td>28.7261</td><td>28.2979</td><td>31.5787</td><td>34.6156</td><td>32.5492</td><td>30.9827</td><td>24.8938</td><td>27.3659</td><td>25.3069</td></tr>\n",
       "\t<tr><td>27.1798</td><td>29.2498</td><td>33.6928</td><td>25.6264</td><td>24.6555</td><td>28.9446</td><td>35.7980</td><td>34.9446</td><td>24.5596</td><td>34.2366</td><td>...    </td><td>27.7218</td><td>27.9601</td><td>35.7198</td><td>27.5760</td><td>35.3375</td><td>29.9993</td><td>34.2149</td><td>33.1276</td><td>31.1057</td><td>31.0179</td></tr>\n",
       "\t<tr><td>25.5067</td><td>29.7929</td><td>28.0765</td><td>34.4812</td><td>33.8000</td><td>27.6671</td><td>30.6122</td><td>25.6393</td><td>30.1171</td><td>26.5188</td><td>...    </td><td>26.9458</td><td>35.8381</td><td>26.7134</td><td>25.1641</td><td>27.3410</td><td>25.2093</td><td>33.4669</td><td>24.1094</td><td>33.1669</td><td>35.4907</td></tr>\n",
       "</tbody>\n",
       "</table>\n"
      ],
      "text/latex": [
       "\\begin{tabular}{r|llllllllllllllllllllllllllllllllllllllllllllllllllllllllllll}\n",
       " V1 & V2 & V3 & V4 & V5 & V6 & V7 & V8 & V9 & V10 & ... & V51 & V52 & V53 & V54 & V55 & V56 & V57 & V58 & V59 & V60\\\\\n",
       "\\hline\n",
       "\t 28.7812 & 34.4632 & 31.3381 & 31.2834 & 28.9207 & 33.7596 & 25.3969 & 27.7849 & 35.2479 & 27.1159 & ...     & 31.4333 & 24.5556 & 33.7431 & 25.0466 & 34.9318 & 34.9879 & 32.4721 & 33.3759 & 25.4652 & 25.8717\\\\\n",
       "\t 24.8923 & 25.7410 & 27.5532 & 32.8217 & 27.8789 & 31.5926 & 31.4861 & 35.5469 & 27.9516 & 31.6595 & ...     & 32.5577 & 31.0205 & 26.6418 & 28.4331 & 33.6564 & 26.4244 & 28.4661 & 34.2484 & 32.1005 & 26.6910\\\\\n",
       "\t 31.3987 & 30.6316 & 26.3983 & 24.2905 & 27.8613 & 28.5491 & 24.9717 & 32.4358 & 25.2239 & 27.3068 & ...     & 33.6318 & 26.5966 & 25.5387 & 32.5434 & 25.5772 & 29.9897 & 31.3510 & 33.9002 & 29.5446 & 29.3430\\\\\n",
       "\t 25.7740 & 30.5262 & 35.4209 & 25.6033 & 27.9700 & 25.2702 & 28.1320 & 29.4268 & 31.4549 & 27.3200 & ...     & 34.6292 & 28.7261 & 28.2979 & 31.5787 & 34.6156 & 32.5492 & 30.9827 & 24.8938 & 27.3659 & 25.3069\\\\\n",
       "\t 27.1798 & 29.2498 & 33.6928 & 25.6264 & 24.6555 & 28.9446 & 35.7980 & 34.9446 & 24.5596 & 34.2366 & ...     & 27.7218 & 27.9601 & 35.7198 & 27.5760 & 35.3375 & 29.9993 & 34.2149 & 33.1276 & 31.1057 & 31.0179\\\\\n",
       "\t 25.5067 & 29.7929 & 28.0765 & 34.4812 & 33.8000 & 27.6671 & 30.6122 & 25.6393 & 30.1171 & 26.5188 & ...     & 26.9458 & 35.8381 & 26.7134 & 25.1641 & 27.3410 & 25.2093 & 33.4669 & 24.1094 & 33.1669 & 35.4907\\\\\n",
       "\\end{tabular}\n"
      ],
      "text/markdown": [
       "\n",
       "| V1 | V2 | V3 | V4 | V5 | V6 | V7 | V8 | V9 | V10 | ... | V51 | V52 | V53 | V54 | V55 | V56 | V57 | V58 | V59 | V60 |\n",
       "|---|---|---|---|---|---|---|---|---|---|---|---|---|---|---|---|---|---|---|---|---|\n",
       "| 28.7812 | 34.4632 | 31.3381 | 31.2834 | 28.9207 | 33.7596 | 25.3969 | 27.7849 | 35.2479 | 27.1159 | ...     | 31.4333 | 24.5556 | 33.7431 | 25.0466 | 34.9318 | 34.9879 | 32.4721 | 33.3759 | 25.4652 | 25.8717 |\n",
       "| 24.8923 | 25.7410 | 27.5532 | 32.8217 | 27.8789 | 31.5926 | 31.4861 | 35.5469 | 27.9516 | 31.6595 | ...     | 32.5577 | 31.0205 | 26.6418 | 28.4331 | 33.6564 | 26.4244 | 28.4661 | 34.2484 | 32.1005 | 26.6910 |\n",
       "| 31.3987 | 30.6316 | 26.3983 | 24.2905 | 27.8613 | 28.5491 | 24.9717 | 32.4358 | 25.2239 | 27.3068 | ...     | 33.6318 | 26.5966 | 25.5387 | 32.5434 | 25.5772 | 29.9897 | 31.3510 | 33.9002 | 29.5446 | 29.3430 |\n",
       "| 25.7740 | 30.5262 | 35.4209 | 25.6033 | 27.9700 | 25.2702 | 28.1320 | 29.4268 | 31.4549 | 27.3200 | ...     | 34.6292 | 28.7261 | 28.2979 | 31.5787 | 34.6156 | 32.5492 | 30.9827 | 24.8938 | 27.3659 | 25.3069 |\n",
       "| 27.1798 | 29.2498 | 33.6928 | 25.6264 | 24.6555 | 28.9446 | 35.7980 | 34.9446 | 24.5596 | 34.2366 | ...     | 27.7218 | 27.9601 | 35.7198 | 27.5760 | 35.3375 | 29.9993 | 34.2149 | 33.1276 | 31.1057 | 31.0179 |\n",
       "| 25.5067 | 29.7929 | 28.0765 | 34.4812 | 33.8000 | 27.6671 | 30.6122 | 25.6393 | 30.1171 | 26.5188 | ...     | 26.9458 | 35.8381 | 26.7134 | 25.1641 | 27.3410 | 25.2093 | 33.4669 | 24.1094 | 33.1669 | 35.4907 |\n",
       "\n"
      ],
      "text/plain": [
       "  V1      V2      V3      V4      V5      V6      V7      V8      V9     \n",
       "1 28.7812 34.4632 31.3381 31.2834 28.9207 33.7596 25.3969 27.7849 35.2479\n",
       "2 24.8923 25.7410 27.5532 32.8217 27.8789 31.5926 31.4861 35.5469 27.9516\n",
       "3 31.3987 30.6316 26.3983 24.2905 27.8613 28.5491 24.9717 32.4358 25.2239\n",
       "4 25.7740 30.5262 35.4209 25.6033 27.9700 25.2702 28.1320 29.4268 31.4549\n",
       "5 27.1798 29.2498 33.6928 25.6264 24.6555 28.9446 35.7980 34.9446 24.5596\n",
       "6 25.5067 29.7929 28.0765 34.4812 33.8000 27.6671 30.6122 25.6393 30.1171\n",
       "  V10     ... V51     V52     V53     V54     V55     V56     V57     V58    \n",
       "1 27.1159 ... 31.4333 24.5556 33.7431 25.0466 34.9318 34.9879 32.4721 33.3759\n",
       "2 31.6595 ... 32.5577 31.0205 26.6418 28.4331 33.6564 26.4244 28.4661 34.2484\n",
       "3 27.3068 ... 33.6318 26.5966 25.5387 32.5434 25.5772 29.9897 31.3510 33.9002\n",
       "4 27.3200 ... 34.6292 28.7261 28.2979 31.5787 34.6156 32.5492 30.9827 24.8938\n",
       "5 34.2366 ... 27.7218 27.9601 35.7198 27.5760 35.3375 29.9993 34.2149 33.1276\n",
       "6 26.5188 ... 26.9458 35.8381 26.7134 25.1641 27.3410 25.2093 33.4669 24.1094\n",
       "  V59     V60    \n",
       "1 25.4652 25.8717\n",
       "2 32.1005 26.6910\n",
       "3 29.5446 29.3430\n",
       "4 27.3659 25.3069\n",
       "5 31.1057 31.0179\n",
       "6 33.1669 35.4907"
      ]
     },
     "metadata": {},
     "output_type": "display_data"
    }
   ],
   "source": [
    "head(data)"
   ]
  },
  {
   "cell_type": "code",
   "execution_count": 39,
   "metadata": {},
   "outputs": [
    {
     "data": {
      "image/png": "[encoded data removed]",
      "text/plain": [
       "plot without title"
      ]
     },
     "metadata": {},
     "output_type": "display_data"
    }
   ],
   "source": [
    "plot(data[,60],type='l')"
   ]
  },
  {
   "cell_type": "code",
   "execution_count": 40,
   "metadata": {},
   "outputs": [
    {
     "data": {
      "image/png": "[encoded data removed]",
      "text/plain": [
       "plot without title"
      ]
     },
     "metadata": {},
     "output_type": "display_data"
    }
   ],
   "source": [
    "plot(data[,60])"
   ]
  },
  {
   "cell_type": "code",
   "execution_count": 41,
   "metadata": {},
   "outputs": [],
   "source": [
    "j <- c(5,105,205,305,405,505)"
   ]
  },
  {
   "cell_type": "code",
   "execution_count": 43,
   "metadata": {},
   "outputs": [],
   "source": [
    "sample <- t(data[j,])"
   ]
  },
  {
   "cell_type": "code",
   "execution_count": 44,
   "metadata": {},
   "outputs": [
    {
     "data": {
      "image/png": "[encoded data removed]",
      "text/plain": [
       "plot without title"
      ]
     },
     "metadata": {},
     "output_type": "display_data"
    }
   ],
   "source": [
    "plot.ts(sample)"
   ]
  },
  {
   "cell_type": "code",
   "execution_count": 45,
   "metadata": {},
   "outputs": [
    {
     "data": {
      "image/png": "[encoded data removed]",
      "text/plain": [
       "plot without title"
      ]
     },
     "metadata": {},
     "output_type": "display_data"
    }
   ],
   "source": [
    "plot.ts(sample,\n",
    "       main = 'Time-Series Plot',\n",
    "       col = 'blue',\n",
    "       type = 'b')"
   ]
  },
  {
   "cell_type": "code",
   "execution_count": 46,
   "metadata": {},
   "outputs": [],
   "source": [
    "n <- 10 \n",
    "s <- sample(1:100,n)\n"
   ]
  },
  {
   "cell_type": "code",
   "execution_count": 47,
   "metadata": {},
   "outputs": [
    {
     "data": {
      "text/html": [
       "<ol class=list-inline>\n",
       "\t<li>55</li>\n",
       "\t<li>38</li>\n",
       "\t<li>12</li>\n",
       "\t<li>7</li>\n",
       "\t<li>36</li>\n",
       "\t<li>21</li>\n",
       "\t<li>42</li>\n",
       "\t<li>64</li>\n",
       "\t<li>74</li>\n",
       "\t<li>50</li>\n",
       "</ol>\n"
      ],
      "text/latex": [
       "\\begin{enumerate*}\n",
       "\\item 55\n",
       "\\item 38\n",
       "\\item 12\n",
       "\\item 7\n",
       "\\item 36\n",
       "\\item 21\n",
       "\\item 42\n",
       "\\item 64\n",
       "\\item 74\n",
       "\\item 50\n",
       "\\end{enumerate*}\n"
      ],
      "text/markdown": [
       "1. 55\n",
       "2. 38\n",
       "3. 12\n",
       "4. 7\n",
       "5. 36\n",
       "6. 21\n",
       "7. 42\n",
       "8. 64\n",
       "9. 74\n",
       "10. 50\n",
       "\n",
       "\n"
      ],
      "text/plain": [
       " [1] 55 38 12  7 36 21 42 64 74 50"
      ]
     },
     "metadata": {},
     "output_type": "display_data"
    }
   ],
   "source": [
    "s"
   ]
  },
  {
   "cell_type": "code",
   "execution_count": 48,
   "metadata": {},
   "outputs": [],
   "source": [
    "i <- c(s,100+s,200+s,300+s, 400+s,500+s)"
   ]
  },
  {
   "cell_type": "code",
   "execution_count": 49,
   "metadata": {},
   "outputs": [],
   "source": [
    "d <- data[i,]"
   ]
  },
  {
   "cell_type": "code",
   "execution_count": 50,
   "metadata": {},
   "outputs": [
    {
     "data": {
      "text/html": [
       "<table>\n",
       "<thead><tr><th></th><th scope=col>V1</th><th scope=col>V2</th><th scope=col>V3</th><th scope=col>V4</th><th scope=col>V5</th><th scope=col>V6</th><th scope=col>V7</th><th scope=col>V8</th><th scope=col>V9</th><th scope=col>V10</th><th scope=col>...</th><th scope=col>V51</th><th scope=col>V52</th><th scope=col>V53</th><th scope=col>V54</th><th scope=col>V55</th><th scope=col>V56</th><th scope=col>V57</th><th scope=col>V58</th><th scope=col>V59</th><th scope=col>V60</th></tr></thead>\n",
       "<tbody>\n",
       "\t<tr><th scope=row>55</th><td>26.0285  </td><td>26.5547  </td><td>32.1637  </td><td>34.9435  </td><td>30.7851  </td><td>28.2194  </td><td>34.3831  </td><td>34.1180  </td><td>29.6060  </td><td>25.2629  </td><td>...      </td><td>31.47220 </td><td>26.29510 </td><td>27.13680 </td><td>24.44580 </td><td>27.345000</td><td>33.127200</td><td>29.61040 </td><td>25.41200 </td><td>32.118900</td><td>29.65550 </td></tr>\n",
       "\t<tr><th scope=row>38</th><td>34.9666  </td><td>27.9138  </td><td>28.6666  </td><td>29.0522  </td><td>33.2348  </td><td>31.0326  </td><td>29.7922  </td><td>29.5990  </td><td>34.0420  </td><td>26.7446  </td><td>...      </td><td>31.40420 </td><td>27.68870 </td><td>31.72520 </td><td>31.58790 </td><td>30.178500</td><td>27.832700</td><td>24.52620 </td><td>29.32430 </td><td>24.437000</td><td>34.16790 </td></tr>\n",
       "\t<tr><th scope=row>12</th><td>26.7115  </td><td>24.0969  </td><td>30.0213  </td><td>29.9423  </td><td>31.5460  </td><td>33.7673  </td><td>26.7519  </td><td>28.7294  </td><td>26.0583  </td><td>35.7051  </td><td>...      </td><td>32.46990 </td><td>28.19660 </td><td>31.91950 </td><td>35.48590 </td><td>24.267000</td><td>30.708400</td><td>28.93510 </td><td>35.51120 </td><td>24.769000</td><td>33.88740 </td></tr>\n",
       "\t<tr><th scope=row>7</th><td>28.6989  </td><td>29.2101  </td><td>30.9291  </td><td>34.6229  </td><td>31.4138  </td><td>28.4636  </td><td>35.9115  </td><td>32.9058  </td><td>28.7669  </td><td>24.2868  </td><td>...      </td><td>29.82740 </td><td>24.03230 </td><td>31.07560 </td><td>34.33580 </td><td>25.435800</td><td>25.893000</td><td>35.67320 </td><td>25.18690 </td><td>29.666900</td><td>26.46370 </td></tr>\n",
       "\t<tr><th scope=row>36</th><td>33.0274  </td><td>30.1664  </td><td>34.7195  </td><td>26.2819  </td><td>26.4512  </td><td>27.5253  </td><td>30.5251  </td><td>24.0995  </td><td>26.0840  </td><td>34.5403  </td><td>...      </td><td>33.46140 </td><td>29.15910 </td><td>32.45160 </td><td>26.07700 </td><td>32.500800</td><td>27.820600</td><td>26.49600 </td><td>33.45590 </td><td>30.662100</td><td>29.99780 </td></tr>\n",
       "\t<tr><th scope=row>21</th><td>25.7946  </td><td>33.9116  </td><td>25.3323  </td><td>24.4300  </td><td>26.9818  </td><td>25.3804  </td><td>25.3411  </td><td>30.1135  </td><td>25.4443  </td><td>29.9155  </td><td>...      </td><td>35.40620 </td><td>28.57190 </td><td>27.19190 </td><td>24.72890 </td><td>34.033500</td><td>35.994500</td><td>32.16290 </td><td>33.22120 </td><td>32.090600</td><td>26.89770 </td></tr>\n",
       "\t<tr><th scope=row>42</th><td>32.5771  </td><td>34.6846  </td><td>33.8951  </td><td>32.1611  </td><td>30.2299  </td><td>25.5001  </td><td>28.6450  </td><td>29.7775  </td><td>32.3014  </td><td>32.4824  </td><td>...      </td><td>27.82390 </td><td>29.56780 </td><td>25.12960 </td><td>28.58440 </td><td>28.124600</td><td>28.737500</td><td>32.59730 </td><td>35.83220 </td><td>24.336000</td><td>26.49780 </td></tr>\n",
       "\t<tr><th scope=row>64</th><td>32.8603  </td><td>31.0176  </td><td>30.0819  </td><td>25.4839  </td><td>27.5719  </td><td>31.8365  </td><td>31.1443  </td><td>28.3082  </td><td>35.5883  </td><td>35.2406  </td><td>...      </td><td>30.28640 </td><td>35.88210 </td><td>29.42930 </td><td>29.67170 </td><td>32.582700</td><td>35.679100</td><td>24.95110 </td><td>25.48800 </td><td>28.166500</td><td>32.54740 </td></tr>\n",
       "\t<tr><th scope=row>74</th><td>26.8592  </td><td>32.5099  </td><td>28.4617  </td><td>29.4323  </td><td>31.5768  </td><td>29.1940  </td><td>32.7160  </td><td>25.5038  </td><td>29.5751  </td><td>26.3862  </td><td>...      </td><td>32.41340 </td><td>26.71230 </td><td>33.29580 </td><td>28.59980 </td><td>28.987900</td><td>28.682800</td><td>33.43060 </td><td>30.57360 </td><td>26.579000</td><td>29.53030 </td></tr>\n",
       "\t<tr><th scope=row>50</th><td>26.9161  </td><td>30.7253  </td><td>30.9511  </td><td>29.6203  </td><td>34.9325  </td><td>35.0063  </td><td>29.1201  </td><td>26.9172  </td><td>29.2039  </td><td>28.4874  </td><td>...      </td><td>24.79650 </td><td>27.99350 </td><td>24.78250 </td><td>35.62510 </td><td>28.675400</td><td>35.580300</td><td>30.76820 </td><td>33.16800 </td><td>33.281500</td><td>31.20930 </td></tr>\n",
       "\t<tr><th scope=row>155</th><td>29.6181  </td><td>41.2386  </td><td>44.6320  </td><td>47.8926  </td><td>44.6445  </td><td>41.1246  </td><td>41.4001  </td><td>36.0841  </td><td>26.7270  </td><td>26.1316  </td><td>...      </td><td>40.91790 </td><td>31.09780 </td><td>25.27230 </td><td>19.12130 </td><td>14.860700</td><td>21.393900</td><td>19.30020 </td><td>21.05800 </td><td>27.537300</td><td>33.67520 </td></tr>\n",
       "\t<tr><th scope=row>138</th><td>24.3422  </td><td>35.9905  </td><td>38.3697  </td><td>41.2425  </td><td>43.0979  </td><td>29.3166  </td><td>24.7874  </td><td>18.1550  </td><td>19.4387  </td><td>17.4181  </td><td>...      </td><td>17.64110 </td><td>25.29740 </td><td>32.83900 </td><td>42.08520 </td><td>45.868700</td><td>38.825500</td><td>46.12640 </td><td>35.34700 </td><td>30.212000</td><td>13.20600 </td></tr>\n",
       "\t<tr><th scope=row>112</th><td>32.1442  </td><td>37.6735  </td><td>44.3604  </td><td>43.7898  </td><td>48.9829  </td><td>39.6100  </td><td>30.8540  </td><td>32.2440  </td><td>26.7408  </td><td>16.4025  </td><td>...      </td><td>11.49260 </td><td>19.63350 </td><td>21.11720 </td><td>25.58080 </td><td>30.937300</td><td>39.519000</td><td>43.39490 </td><td>42.91090 </td><td>40.453500</td><td>32.71410 </td></tr>\n",
       "\t<tr><th scope=row>107</th><td>28.4004  </td><td>39.8835  </td><td>40.4039  </td><td>42.5002  </td><td>42.7544  </td><td>32.9513  </td><td>29.7748  </td><td>20.6785  </td><td>16.1984  </td><td>15.6932  </td><td>...      </td><td>14.10870 </td><td>10.79920 </td><td>24.67410 </td><td>23.58840 </td><td>32.726100</td><td>43.072600</td><td>49.63940 </td><td>44.26870 </td><td>32.695600</td><td>26.72850 </td></tr>\n",
       "\t<tr><th scope=row>136</th><td>29.5406  </td><td>33.5848  </td><td>35.8956  </td><td>38.0802  </td><td>42.6702  </td><td>33.6437  </td><td>31.6486  </td><td>20.7756  </td><td>24.8114  </td><td>13.2187  </td><td>...      </td><td>34.15970 </td><td>42.48610 </td><td>37.15470 </td><td>34.90410 </td><td>33.234100</td><td>31.323500</td><td>18.14520 </td><td>17.79950 </td><td>19.209600</td><td>18.73370 </td></tr>\n",
       "\t<tr><th scope=row>121</th><td>29.8417  </td><td>37.6570  </td><td>41.6643  </td><td>38.1337  </td><td>46.1419  </td><td>41.4995  </td><td>29.7408  </td><td>33.6235  </td><td>19.9875  </td><td>13.6796  </td><td>...      </td><td>17.10460 </td><td>11.75950 </td><td>20.10560 </td><td>27.30570 </td><td>31.843700</td><td>29.843900</td><td>43.96240 </td><td>44.91370 </td><td>38.462400</td><td>35.47450 </td></tr>\n",
       "\t<tr><th scope=row>142</th><td>32.8485  </td><td>32.6025  </td><td>44.1224  </td><td>44.1720  </td><td>38.9286  </td><td>45.4076  </td><td>33.8422  </td><td>30.8023  </td><td>23.2227  </td><td>24.3516  </td><td>...      </td><td>38.70690 </td><td>35.83270 </td><td>34.12500 </td><td>25.83610 </td><td>21.294700</td><td>13.220100</td><td>11.11400 </td><td>19.71520 </td><td>17.937000</td><td>24.27560 </td></tr>\n",
       "\t<tr><th scope=row>164</th><td>25.3437  </td><td>34.2930  </td><td>38.2116  </td><td>39.9892  </td><td>42.5053  </td><td>32.7023  </td><td>27.0690  </td><td>22.3364  </td><td>21.3176  </td><td>17.8632  </td><td>...      </td><td>12.89880 </td><td>20.08860 </td><td>17.86150 </td><td>25.01580 </td><td>31.490700</td><td>40.938700</td><td>48.54420 </td><td>42.90610 </td><td>43.902100</td><td>35.18270 </td></tr>\n",
       "\t<tr><th scope=row>174</th><td>26.2753  </td><td>32.9920  </td><td>42.9596  </td><td>44.7994  </td><td>35.8042  </td><td>38.0698  </td><td>37.8979  </td><td>22.6653  </td><td>18.6551  </td><td>19.9587  </td><td>...      </td><td>25.19150 </td><td>26.91360 </td><td>31.16220 </td><td>45.09250 </td><td>47.456700</td><td>39.601200</td><td>33.75000 </td><td>26.46140 </td><td>27.319200</td><td>25.54010 </td></tr>\n",
       "\t<tr><th scope=row>150</th><td>31.9525  </td><td>34.6294  </td><td>41.1201  </td><td>40.0693  </td><td>33.8886  </td><td>31.6604  </td><td>27.2420  </td><td>23.4285  </td><td>22.6107  </td><td>23.6916  </td><td>...      </td><td>29.61340 </td><td>24.37050 </td><td>18.00910 </td><td>22.68760 </td><td>21.753700</td><td>27.070300</td><td>29.69670 </td><td>32.91330 </td><td>44.065500</td><td>38.14590 </td></tr>\n",
       "\t<tr><th scope=row>255</th><td>34.3622  </td><td>27.1068  </td><td>25.2088  </td><td>30.0992  </td><td>36.0317  </td><td>29.5420  </td><td>31.7275  </td><td>34.4601  </td><td>37.1769  </td><td>31.7029  </td><td>...      </td><td>37.27240 </td><td>39.73770 </td><td>38.75700 </td><td>37.28560 </td><td>41.877500</td><td>38.028400</td><td>43.91070 </td><td>38.44140 </td><td>40.126400</td><td>45.23600 </td></tr>\n",
       "\t<tr><th scope=row>238</th><td>35.9394  </td><td>26.7841  </td><td>26.7745  </td><td>35.1025  </td><td>36.9021  </td><td>34.5345  </td><td>32.8467  </td><td>37.0652  </td><td>34.1574  </td><td>37.8901  </td><td>...      </td><td>48.32750 </td><td>48.73870 </td><td>50.74250 </td><td>55.60250 </td><td>52.708300</td><td>59.658200</td><td>50.09270 </td><td>60.53890 </td><td>58.963800</td><td>59.14540 </td></tr>\n",
       "\t<tr><th scope=row>212</th><td>28.4257  </td><td>26.9938  </td><td>26.9668  </td><td>30.8470  </td><td>35.5150  </td><td>34.0646  </td><td>33.1163  </td><td>27.1808  </td><td>37.2714  </td><td>36.2559  </td><td>...      </td><td>43.06550 </td><td>46.96640 </td><td>47.41310 </td><td>41.39820 </td><td>50.551000</td><td>46.523200</td><td>46.38460 </td><td>41.81870 </td><td>51.209800</td><td>45.77810 </td></tr>\n",
       "\t<tr><th scope=row>207</th><td>24.3085  </td><td>25.0208  </td><td>28.8281  </td><td>36.8007  </td><td>35.2880  </td><td>31.4105  </td><td>36.0205  </td><td>31.5055  </td><td>28.0319  </td><td>32.3991  </td><td>...      </td><td>55.88400 </td><td>52.41660 </td><td>58.46280 </td><td>53.90630 </td><td>61.116200</td><td>52.002100</td><td>50.09440 </td><td>58.25430 </td><td>53.513400</td><td>59.47150 </td></tr>\n",
       "\t<tr><th scope=row>236</th><td>24.9629  </td><td>25.8042  </td><td>35.4317  </td><td>30.5089  </td><td>30.8281  </td><td>31.3033  </td><td>28.9987  </td><td>26.2957  </td><td>37.8610  </td><td>30.8825  </td><td>...      </td><td>38.52520 </td><td>42.65180 </td><td>39.99470 </td><td>43.44110 </td><td>42.953500</td><td>48.104200</td><td>40.19290 </td><td>43.66910 </td><td>48.832700</td><td>47.91800 </td></tr>\n",
       "\t<tr><th scope=row>221</th><td>31.2383  </td><td>27.9815  </td><td>27.3265  </td><td>34.0107  </td><td>28.4496  </td><td>33.1527  </td><td>29.8152  </td><td>32.0028  </td><td>32.7252  </td><td>30.3241  </td><td>...      </td><td>47.74450 </td><td>46.70680 </td><td>50.05080 </td><td>57.66040 </td><td>56.386300</td><td>58.012500</td><td>49.92530 </td><td>50.16080 </td><td>51.147200</td><td>58.85560 </td></tr>\n",
       "\t<tr><th scope=row>242</th><td>24.3217  </td><td>33.0434  </td><td>26.3870  </td><td>32.6050  </td><td>30.6259  </td><td>25.6265  </td><td>29.8207  </td><td>37.5495  </td><td>27.2731  </td><td>27.9082  </td><td>...      </td><td>39.59530 </td><td>46.77210 </td><td>50.85660 </td><td>40.32970 </td><td>49.061300</td><td>49.605400</td><td>46.49160 </td><td>42.11570 </td><td>44.037600</td><td>49.91890 </td></tr>\n",
       "\t<tr><th scope=row>264</th><td>33.1680  </td><td>27.9691  </td><td>33.0336  </td><td>34.0712  </td><td>26.7101  </td><td>34.8409  </td><td>34.4721  </td><td>27.3897  </td><td>36.3332  </td><td>35.0426  </td><td>...      </td><td>46.38890 </td><td>56.23940 </td><td>57.37100 </td><td>55.93830 </td><td>59.450900</td><td>58.370400</td><td>58.41500 </td><td>50.85860 </td><td>60.945900</td><td>50.99520 </td></tr>\n",
       "\t<tr><th scope=row>274</th><td>26.2907  </td><td>24.5427  </td><td>35.2732  </td><td>29.6004  </td><td>27.9254  </td><td>36.0729  </td><td>26.0404  </td><td>35.1100  </td><td>37.7470  </td><td>37.2857  </td><td>...      </td><td>37.69050 </td><td>37.65150 </td><td>47.61630 </td><td>46.90350 </td><td>47.318500</td><td>43.740600</td><td>45.15690 </td><td>42.88270 </td><td>46.780700</td><td>44.16020 </td></tr>\n",
       "\t<tr><th scope=row>250</th><td>25.6910  </td><td>33.3709  </td><td>27.1828  </td><td>35.2622  </td><td>25.9799  </td><td>29.8029  </td><td>35.3159  </td><td>32.2472  </td><td>31.8300  </td><td>37.2008  </td><td>...      </td><td>38.24070 </td><td>35.54930 </td><td>37.26150 </td><td>39.34200 </td><td>42.469100</td><td>39.693600</td><td>39.81020 </td><td>36.70640 </td><td>47.602000</td><td>37.63700 </td></tr>\n",
       "\t<tr><th scope=row>355</th><td>30.5850  </td><td>27.6158  </td><td>28.1859  </td><td>32.4840  </td><td>23.2883  </td><td>23.5485  </td><td>33.9241  </td><td>26.1884  </td><td>26.0472  </td><td>29.0487  </td><td>...      </td><td>16.56110 </td><td>13.76450 </td><td>10.33190 </td><td>11.66330 </td><td>12.249200</td><td>16.382400</td><td>12.45300 </td><td>17.47670 </td><td>15.703200</td><td>14.95940 </td></tr>\n",
       "\t<tr><th scope=row>338</th><td>32.4196  </td><td>30.0036  </td><td>26.4940  </td><td>27.6558  </td><td>22.4996  </td><td>25.7333  </td><td>21.9773  </td><td>25.1915  </td><td>24.1323  </td><td>25.9592  </td><td>...      </td><td> 8.74702 </td><td> 5.02664 </td><td> 4.04425 </td><td> 5.49359 </td><td> 0.826886</td><td> 7.889180</td><td> 8.86150 </td><td> 9.36671 </td><td> 6.214060</td><td> 8.46026 </td></tr>\n",
       "\t<tr><th scope=row>312</th><td>29.3423  </td><td>32.1281  </td><td>24.4618  </td><td>23.8141  </td><td>31.1505  </td><td>23.2352  </td><td>24.2775  </td><td>32.6208  </td><td>24.8630  </td><td>23.8676  </td><td>...      </td><td> 7.16458 </td><td> 9.44180 </td><td> 6.34036 </td><td>11.03540 </td><td> 5.162520</td><td> 5.056860</td><td> 3.80988 </td><td>10.08430 </td><td> 4.273510</td><td> 7.15775 </td></tr>\n",
       "\t<tr><th scope=row>307</th><td>34.7265  </td><td>28.3248  </td><td>30.3314  </td><td>33.8817  </td><td>30.8269  </td><td>23.0724  </td><td>25.8050  </td><td>22.7909  </td><td>23.5405  </td><td>30.8883  </td><td>...      </td><td>13.49780 </td><td>11.77270 </td><td>14.87510 </td><td>13.52050 </td><td> 7.046460</td><td>12.578000</td><td>12.19870 </td><td>11.45260 </td><td> 5.871310</td><td> 8.74893 </td></tr>\n",
       "\t<tr><th scope=row>336</th><td>26.4975  </td><td>31.3143  </td><td>28.5503  </td><td>31.1094  </td><td>34.2562  </td><td>32.8993  </td><td>32.8097  </td><td>30.7952  </td><td>25.1867  </td><td>21.5465  </td><td>...      </td><td>18.80250 </td><td>11.03360 </td><td>18.24950 </td><td>13.60900 </td><td> 7.503620</td><td>14.355200</td><td>11.57280 </td><td>13.83640 </td><td>13.327800</td><td> 5.21633 </td></tr>\n",
       "\t<tr><th scope=row>321</th><td>35.0122  </td><td>34.2871  </td><td>26.4959  </td><td>28.2444  </td><td>27.2509  </td><td>32.2709  </td><td>28.2636  </td><td>29.2112  </td><td>30.8400  </td><td>27.9931  </td><td>...      </td><td> 1.88855 </td><td> 9.08363 </td><td> 3.18330 </td><td> 5.54762 </td><td>10.872500</td><td>-0.341912</td><td> 2.67715 </td><td> 3.55312 </td><td> 1.740310</td><td>-1.47968 </td></tr>\n",
       "\t<tr><th scope=row>342</th><td>30.7172  </td><td>26.5057  </td><td>32.4956  </td><td>27.2013  </td><td>25.0852  </td><td>23.5999  </td><td>30.7385  </td><td>25.8833  </td><td>23.4837  </td><td>29.8056  </td><td>...      </td><td> 4.80464 </td><td>-1.11585 </td><td> 2.70379 </td><td> 4.70496 </td><td> 5.562240</td><td> 7.394490</td><td>-3.78936 </td><td>-1.56456 </td><td> 0.526948</td><td> 5.25399 </td></tr>\n",
       "\t<tr><th scope=row>364</th><td>25.3855  </td><td>33.7287  </td><td>34.7253  </td><td>26.6200  </td><td>27.9633  </td><td>27.3849  </td><td>22.7025  </td><td>32.2296  </td><td>28.4300  </td><td>28.1527  </td><td>...      </td><td>14.57790 </td><td>10.46210 </td><td>19.68440 </td><td>14.51620 </td><td>19.482400</td><td> 9.795870</td><td>18.27200 </td><td> 9.33937 </td><td>14.182200</td><td>19.09160 </td></tr>\n",
       "\t<tr><th scope=row>374</th><td>35.0966  </td><td>33.1028  </td><td>28.9347  </td><td>27.8615  </td><td>34.0126  </td><td>22.4776  </td><td>23.8626  </td><td>22.9774  </td><td>26.8128  </td><td>25.5049  </td><td>...      </td><td>10.22500 </td><td> 6.09797 </td><td> 3.70608 </td><td> 8.11839 </td><td>-1.399030</td><td> 4.211890</td><td> 5.90127 </td><td>-1.51052 </td><td>-0.971271</td><td> 2.86561 </td></tr>\n",
       "\t<tr><th scope=row>350</th><td>34.5693  </td><td>29.6041  </td><td>26.5708  </td><td>29.1780  </td><td>32.6606  </td><td>28.3769  </td><td>26.3608  </td><td>21.5263  </td><td>22.0547  </td><td>25.2920  </td><td>...      </td><td> 6.94002 </td><td>10.16560 </td><td>14.35770 </td><td> 9.65100 </td><td>11.683500</td><td>10.807200</td><td>10.18620 </td><td>12.14380 </td><td> 2.373110</td><td> 9.61240 </td></tr>\n",
       "\t<tr><th scope=row>455</th><td>27.1019  </td><td>25.8456  </td><td>31.3510  </td><td>32.4152  </td><td>34.4551  </td><td>25.2298  </td><td>30.4671  </td><td>26.9304  </td><td>28.0585  </td><td>26.1332  </td><td>...      </td><td>43.93740 </td><td>53.56630 </td><td>44.80950 </td><td>50.73090 </td><td>52.103200</td><td>50.125800</td><td>45.47460 </td><td>49.52650 </td><td>53.652200</td><td>50.75700 </td></tr>\n",
       "\t<tr><th scope=row>438</th><td>28.0556  </td><td>35.4312  </td><td>34.5513  </td><td>31.9173  </td><td>30.6514  </td><td>34.6395  </td><td>25.8350  </td><td>25.5585  </td><td>31.7381  </td><td>34.7933  </td><td>...      </td><td>36.60990 </td><td>32.58520 </td><td>42.61180 </td><td>33.84990 </td><td>40.901300</td><td>33.542200</td><td>31.64510 </td><td>38.98110 </td><td>36.355800</td><td>39.47570 </td></tr>\n",
       "\t<tr><th scope=row>412</th><td>35.8120  </td><td>33.6685  </td><td>24.2288  </td><td>35.1929  </td><td>26.6499  </td><td>32.2937  </td><td>30.4469  </td><td>35.0999  </td><td>29.0838  </td><td>25.5060  </td><td>...      </td><td>49.73790 </td><td>47.66020 </td><td>48.89410 </td><td>53.46150 </td><td>53.183500</td><td>49.460300</td><td>45.36540 </td><td>51.87510 </td><td>53.967900</td><td>48.15230 </td></tr>\n",
       "\t<tr><th scope=row>407</th><td>35.9703  </td><td>29.5733  </td><td>25.2482  </td><td>24.0154  </td><td>29.7918  </td><td>25.5886  </td><td>30.9889  </td><td>30.1572  </td><td>35.3989  </td><td>27.3175  </td><td>...      </td><td>50.33930 </td><td>48.47830 </td><td>45.42010 </td><td>43.09850 </td><td>46.402700</td><td>47.604700</td><td>52.36530 </td><td>50.30040 </td><td>46.278600</td><td>51.80750 </td></tr>\n",
       "\t<tr><th scope=row>436</th><td>35.9695  </td><td>24.4447  </td><td>29.3614  </td><td>29.2175  </td><td>34.4507  </td><td>32.9682  </td><td>35.2520  </td><td>27.7412  </td><td>31.5882  </td><td>35.8142  </td><td>...      </td><td>39.96300 </td><td>44.93440 </td><td>39.15180 </td><td>34.03490 </td><td>35.809000</td><td>43.383600</td><td>35.38340 </td><td>41.48220 </td><td>40.198000</td><td>36.90950 </td></tr>\n",
       "\t<tr><th scope=row>421</th><td>32.0656  </td><td>24.5640  </td><td>30.0195  </td><td>29.2149  </td><td>25.5262  </td><td>35.4326  </td><td>25.4740  </td><td>25.4399  </td><td>33.1735  </td><td>34.8286  </td><td>...      </td><td>49.25730 </td><td>45.46580 </td><td>49.16730 </td><td>38.98430 </td><td>42.813000</td><td>44.970700</td><td>46.70220 </td><td>43.96240 </td><td>41.829200</td><td>46.14180 </td></tr>\n",
       "\t<tr><th scope=row>442</th><td>26.7435  </td><td>28.0269  </td><td>34.5234  </td><td>26.8544  </td><td>24.1954  </td><td>25.6382  </td><td>32.7982  </td><td>31.2787  </td><td>35.2924  </td><td>33.3880  </td><td>...      </td><td>35.86220 </td><td>42.43110 </td><td>34.86190 </td><td>40.28170 </td><td>36.559200</td><td>37.841600</td><td>34.61880 </td><td>39.25830 </td><td>43.876100</td><td>42.28340 </td></tr>\n",
       "\t<tr><th scope=row>464</th><td>28.9736  </td><td>34.1323  </td><td>27.6649  </td><td>31.9753  </td><td>34.5363  </td><td>27.6109  </td><td>30.7609  </td><td>29.9993  </td><td>24.4755  </td><td>27.7567  </td><td>...      </td><td>50.65100 </td><td>49.09690 </td><td>45.24960 </td><td>45.69680 </td><td>49.124500</td><td>55.927600</td><td>52.52820 </td><td>53.57150 </td><td>54.561900</td><td>55.11050 </td></tr>\n",
       "\t<tr><th scope=row>474</th><td>33.1287  </td><td>26.6333  </td><td>34.6758  </td><td>35.0963  </td><td>31.6554  </td><td>32.6719  </td><td>26.8639  </td><td>30.2780  </td><td>26.6421  </td><td>33.7519  </td><td>...      </td><td>50.21410 </td><td>40.14380 </td><td>40.07810 </td><td>49.45320 </td><td>40.206600</td><td>46.558400</td><td>40.07410 </td><td>50.24570 </td><td>40.494200</td><td>46.74720 </td></tr>\n",
       "\t<tr><th scope=row>450</th><td>34.4507  </td><td>34.0372  </td><td>25.6418  </td><td>25.2067  </td><td>32.3223  </td><td>32.2209  </td><td>27.2319  </td><td>33.1621  </td><td>26.9906  </td><td>27.0461  </td><td>...      </td><td>40.94660 </td><td>42.35490 </td><td>44.96360 </td><td>49.67400 </td><td>49.230400</td><td>42.112900</td><td>45.11420 </td><td>47.77400 </td><td>44.727500</td><td>45.64340 </td></tr>\n",
       "\t<tr><th scope=row>555</th><td>34.3765  </td><td>29.1760  </td><td>30.2714  </td><td>32.5658  </td><td>32.5052  </td><td>31.7671  </td><td>32.2467  </td><td>31.4457  </td><td>27.5815  </td><td>28.9211  </td><td>...      </td><td>23.21760 </td><td>21.59560 </td><td>14.75030 </td><td>21.15390 </td><td>17.659000</td><td>18.921200</td><td>19.27110 </td><td>22.25880 </td><td>18.028500</td><td>20.13590 </td></tr>\n",
       "\t<tr><th scope=row>538</th><td>33.9953  </td><td>33.5187  </td><td>35.9523  </td><td>30.8990  </td><td>29.5579  </td><td>34.1485  </td><td>27.1048  </td><td>32.8419  </td><td>29.3970  </td><td>29.4962  </td><td>...      </td><td>19.78790 </td><td>22.73160 </td><td>17.99850 </td><td>13.45780 </td><td>12.388500</td><td>13.695400</td><td>15.02730 </td><td>14.67960 </td><td>12.740300</td><td>21.66960 </td></tr>\n",
       "\t<tr><th scope=row>512</th><td>27.2873  </td><td>35.6034  </td><td>32.7002  </td><td>28.5708  </td><td>33.8999  </td><td>25.4061  </td><td>27.3439  </td><td>29.1690  </td><td>27.3061  </td><td>32.7211  </td><td>...      </td><td>20.35560 </td><td>20.07170 </td><td>21.12120 </td><td>16.10500 </td><td>10.497900</td><td>17.644800</td><td>17.53830 </td><td>19.04530 </td><td>13.937700</td><td>16.06680 </td></tr>\n",
       "\t<tr><th scope=row>507</th><td>24.2141  </td><td>33.1496  </td><td>31.5207  </td><td>31.9863  </td><td>29.0636  </td><td>32.6267  </td><td>24.7859  </td><td>35.9475  </td><td>32.9363  </td><td>24.5281  </td><td>...      </td><td>21.68380 </td><td>19.69380 </td><td>23.60650 </td><td>23.67450 </td><td>13.265300</td><td>17.523500</td><td>23.76810 </td><td>19.32290 </td><td>22.432900</td><td>24.07990 </td></tr>\n",
       "\t<tr><th scope=row>536</th><td>24.8630  </td><td>33.3355  </td><td>28.3622  </td><td>25.8464  </td><td>32.2276  </td><td>26.5889  </td><td>27.1203  </td><td>32.3693  </td><td>32.7729  </td><td>35.5145  </td><td>...      </td><td>16.15680 </td><td>15.68050 </td><td>11.00210 </td><td>17.64220 </td><td>18.843700</td><td>21.244200</td><td>10.52290 </td><td>15.78000 </td><td>18.655000</td><td>13.96700 </td></tr>\n",
       "\t<tr><th scope=row>521</th><td>27.8716  </td><td>27.0351  </td><td>28.2645  </td><td>31.3723  </td><td>34.9079  </td><td>24.3547  </td><td>30.2067  </td><td>28.6332  </td><td>31.3477  </td><td>29.7808  </td><td>...      </td><td>15.14280 </td><td> 9.02496 </td><td>17.08030 </td><td>11.67740 </td><td>14.012200</td><td>11.631800</td><td>13.61480 </td><td>15.04960 </td><td>18.882200</td><td>18.45480 </td></tr>\n",
       "\t<tr><th scope=row>542</th><td>31.5897  </td><td>32.1460  </td><td>35.1469  </td><td>31.8717  </td><td>31.4891  </td><td>24.2890  </td><td>25.4035  </td><td>33.5925  </td><td>33.9531  </td><td>26.1912  </td><td>...      </td><td>15.91810 </td><td>18.11960 </td><td>16.86590 </td><td> 8.09410 </td><td>19.333600</td><td>14.387500</td><td>10.32790 </td><td>15.31440 </td><td>15.040400</td><td>10.53210 </td></tr>\n",
       "\t<tr><th scope=row>564</th><td>27.4537  </td><td>27.9050  </td><td>29.5909  </td><td>31.2956  </td><td>24.4315  </td><td>24.7458  </td><td>34.8767  </td><td>30.2938  </td><td>24.1645  </td><td>31.8133  </td><td>...      </td><td>16.69210 </td><td>18.82460 </td><td>10.11890 </td><td>18.00750 </td><td>10.172100</td><td>12.502500</td><td>20.17010 </td><td> 9.54309 </td><td> 9.722660</td><td> 9.80308 </td></tr>\n",
       "\t<tr><th scope=row>574</th><td>34.2888  </td><td>32.7982  </td><td>32.1346  </td><td>28.6556  </td><td>27.8811  </td><td>32.3877  </td><td>28.4602  </td><td>29.2266  </td><td>24.7410  </td><td>24.1157  </td><td>...      </td><td>13.90750 </td><td> 8.19539 </td><td>14.92030 </td><td>12.95570 </td><td> 9.314680</td><td>15.839100</td><td> 6.18927 </td><td> 9.16926 </td><td>12.583300</td><td>11.52500 </td></tr>\n",
       "\t<tr><th scope=row>550</th><td>30.4884  </td><td>31.4006  </td><td>28.7555  </td><td>30.9588  </td><td>27.8382  </td><td>25.7381  </td><td>27.2859  </td><td>27.9616  </td><td>30.7701  </td><td>35.7070  </td><td>...      </td><td>13.29290 </td><td>12.62120 </td><td>21.72200 </td><td>14.66080 </td><td>13.070000</td><td>14.432700</td><td>13.16430 </td><td>12.68580 </td><td>20.456600</td><td>15.73670 </td></tr>\n",
       "</tbody>\n",
       "</table>\n"
      ],
      "text/latex": [
       "\\begin{tabular}{r|llllllllllllllllllllllllllllllllllllllllllllllllllllllllllll}\n",
       "  & V1 & V2 & V3 & V4 & V5 & V6 & V7 & V8 & V9 & V10 & ... & V51 & V52 & V53 & V54 & V55 & V56 & V57 & V58 & V59 & V60\\\\\n",
       "\\hline\n",
       "\t55 & 26.0285   & 26.5547   & 32.1637   & 34.9435   & 30.7851   & 28.2194   & 34.3831   & 34.1180   & 29.6060   & 25.2629   & ...       & 31.47220  & 26.29510  & 27.13680  & 24.44580  & 27.345000 & 33.127200 & 29.61040  & 25.41200  & 32.118900 & 29.65550 \\\\\n",
       "\t38 & 34.9666   & 27.9138   & 28.6666   & 29.0522   & 33.2348   & 31.0326   & 29.7922   & 29.5990   & 34.0420   & 26.7446   & ...       & 31.40420  & 27.68870  & 31.72520  & 31.58790  & 30.178500 & 27.832700 & 24.52620  & 29.32430  & 24.437000 & 34.16790 \\\\\n",
       "\t12 & 26.7115   & 24.0969   & 30.0213   & 29.9423   & 31.5460   & 33.7673   & 26.7519   & 28.7294   & 26.0583   & 35.7051   & ...       & 32.46990  & 28.19660  & 31.91950  & 35.48590  & 24.267000 & 30.708400 & 28.93510  & 35.51120  & 24.769000 & 33.88740 \\\\\n",
       "\t7 & 28.6989   & 29.2101   & 30.9291   & 34.6229   & 31.4138   & 28.4636   & 35.9115   & 32.9058   & 28.7669   & 24.2868   & ...       & 29.82740  & 24.03230  & 31.07560  & 34.33580  & 25.435800 & 25.893000 & 35.67320  & 25.18690  & 29.666900 & 26.46370 \\\\\n",
       "\t36 & 33.0274   & 30.1664   & 34.7195   & 26.2819   & 26.4512   & 27.5253   & 30.5251   & 24.0995   & 26.0840   & 34.5403   & ...       & 33.46140  & 29.15910  & 32.45160  & 26.07700  & 32.500800 & 27.820600 & 26.49600  & 33.45590  & 30.662100 & 29.99780 \\\\\n",
       "\t21 & 25.7946   & 33.9116   & 25.3323   & 24.4300   & 26.9818   & 25.3804   & 25.3411   & 30.1135   & 25.4443   & 29.9155   & ...       & 35.40620  & 28.57190  & 27.19190  & 24.72890  & 34.033500 & 35.994500 & 32.16290  & 33.22120  & 32.090600 & 26.89770 \\\\\n",
       "\t42 & 32.5771   & 34.6846   & 33.8951   & 32.1611   & 30.2299   & 25.5001   & 28.6450   & 29.7775   & 32.3014   & 32.4824   & ...       & 27.82390  & 29.56780  & 25.12960  & 28.58440  & 28.124600 & 28.737500 & 32.59730  & 35.83220  & 24.336000 & 26.49780 \\\\\n",
       "\t64 & 32.8603   & 31.0176   & 30.0819   & 25.4839   & 27.5719   & 31.8365   & 31.1443   & 28.3082   & 35.5883   & 35.2406   & ...       & 30.28640  & 35.88210  & 29.42930  & 29.67170  & 32.582700 & 35.679100 & 24.95110  & 25.48800  & 28.166500 & 32.54740 \\\\\n",
       "\t74 & 26.8592   & 32.5099   & 28.4617   & 29.4323   & 31.5768   & 29.1940   & 32.7160   & 25.5038   & 29.5751   & 26.3862   & ...       & 32.41340  & 26.71230  & 33.29580  & 28.59980  & 28.987900 & 28.682800 & 33.43060  & 30.57360  & 26.579000 & 29.53030 \\\\\n",
       "\t50 & 26.9161   & 30.7253   & 30.9511   & 29.6203   & 34.9325   & 35.0063   & 29.1201   & 26.9172   & 29.2039   & 28.4874   & ...       & 24.79650  & 27.99350  & 24.78250  & 35.62510  & 28.675400 & 35.580300 & 30.76820  & 33.16800  & 33.281500 & 31.20930 \\\\\n",
       "\t155 & 29.6181   & 41.2386   & 44.6320   & 47.8926   & 44.6445   & 41.1246   & 41.4001   & 36.0841   & 26.7270   & 26.1316   & ...       & 40.91790  & 31.09780  & 25.27230  & 19.12130  & 14.860700 & 21.393900 & 19.30020  & 21.05800  & 27.537300 & 33.67520 \\\\\n",
       "\t138 & 24.3422   & 35.9905   & 38.3697   & 41.2425   & 43.0979   & 29.3166   & 24.7874   & 18.1550   & 19.4387   & 17.4181   & ...       & 17.64110  & 25.29740  & 32.83900  & 42.08520  & 45.868700 & 38.825500 & 46.12640  & 35.34700  & 30.212000 & 13.20600 \\\\\n",
       "\t112 & 32.1442   & 37.6735   & 44.3604   & 43.7898   & 48.9829   & 39.6100   & 30.8540   & 32.2440   & 26.7408   & 16.4025   & ...       & 11.49260  & 19.63350  & 21.11720  & 25.58080  & 30.937300 & 39.519000 & 43.39490  & 42.91090  & 40.453500 & 32.71410 \\\\\n",
       "\t107 & 28.4004   & 39.8835   & 40.4039   & 42.5002   & 42.7544   & 32.9513   & 29.7748   & 20.6785   & 16.1984   & 15.6932   & ...       & 14.10870  & 10.79920  & 24.67410  & 23.58840  & 32.726100 & 43.072600 & 49.63940  & 44.26870  & 32.695600 & 26.72850 \\\\\n",
       "\t136 & 29.5406   & 33.5848   & 35.8956   & 38.0802   & 42.6702   & 33.6437   & 31.6486   & 20.7756   & 24.8114   & 13.2187   & ...       & 34.15970  & 42.48610  & 37.15470  & 34.90410  & 33.234100 & 31.323500 & 18.14520  & 17.79950  & 19.209600 & 18.73370 \\\\\n",
       "\t121 & 29.8417   & 37.6570   & 41.6643   & 38.1337   & 46.1419   & 41.4995   & 29.7408   & 33.6235   & 19.9875   & 13.6796   & ...       & 17.10460  & 11.75950  & 20.10560  & 27.30570  & 31.843700 & 29.843900 & 43.96240  & 44.91370  & 38.462400 & 35.47450 \\\\\n",
       "\t142 & 32.8485   & 32.6025   & 44.1224   & 44.1720   & 38.9286   & 45.4076   & 33.8422   & 30.8023   & 23.2227   & 24.3516   & ...       & 38.70690  & 35.83270  & 34.12500  & 25.83610  & 21.294700 & 13.220100 & 11.11400  & 19.71520  & 17.937000 & 24.27560 \\\\\n",
       "\t164 & 25.3437   & 34.2930   & 38.2116   & 39.9892   & 42.5053   & 32.7023   & 27.0690   & 22.3364   & 21.3176   & 17.8632   & ...       & 12.89880  & 20.08860  & 17.86150  & 25.01580  & 31.490700 & 40.938700 & 48.54420  & 42.90610  & 43.902100 & 35.18270 \\\\\n",
       "\t174 & 26.2753   & 32.9920   & 42.9596   & 44.7994   & 35.8042   & 38.0698   & 37.8979   & 22.6653   & 18.6551   & 19.9587   & ...       & 25.19150  & 26.91360  & 31.16220  & 45.09250  & 47.456700 & 39.601200 & 33.75000  & 26.46140  & 27.319200 & 25.54010 \\\\\n",
       "\t150 & 31.9525   & 34.6294   & 41.1201   & 40.0693   & 33.8886   & 31.6604   & 27.2420   & 23.4285   & 22.6107   & 23.6916   & ...       & 29.61340  & 24.37050  & 18.00910  & 22.68760  & 21.753700 & 27.070300 & 29.69670  & 32.91330  & 44.065500 & 38.14590 \\\\\n",
       "\t255 & 34.3622   & 27.1068   & 25.2088   & 30.0992   & 36.0317   & 29.5420   & 31.7275   & 34.4601   & 37.1769   & 31.7029   & ...       & 37.27240  & 39.73770  & 38.75700  & 37.28560  & 41.877500 & 38.028400 & 43.91070  & 38.44140  & 40.126400 & 45.23600 \\\\\n",
       "\t238 & 35.9394   & 26.7841   & 26.7745   & 35.1025   & 36.9021   & 34.5345   & 32.8467   & 37.0652   & 34.1574   & 37.8901   & ...       & 48.32750  & 48.73870  & 50.74250  & 55.60250  & 52.708300 & 59.658200 & 50.09270  & 60.53890  & 58.963800 & 59.14540 \\\\\n",
       "\t212 & 28.4257   & 26.9938   & 26.9668   & 30.8470   & 35.5150   & 34.0646   & 33.1163   & 27.1808   & 37.2714   & 36.2559   & ...       & 43.06550  & 46.96640  & 47.41310  & 41.39820  & 50.551000 & 46.523200 & 46.38460  & 41.81870  & 51.209800 & 45.77810 \\\\\n",
       "\t207 & 24.3085   & 25.0208   & 28.8281   & 36.8007   & 35.2880   & 31.4105   & 36.0205   & 31.5055   & 28.0319   & 32.3991   & ...       & 55.88400  & 52.41660  & 58.46280  & 53.90630  & 61.116200 & 52.002100 & 50.09440  & 58.25430  & 53.513400 & 59.47150 \\\\\n",
       "\t236 & 24.9629   & 25.8042   & 35.4317   & 30.5089   & 30.8281   & 31.3033   & 28.9987   & 26.2957   & 37.8610   & 30.8825   & ...       & 38.52520  & 42.65180  & 39.99470  & 43.44110  & 42.953500 & 48.104200 & 40.19290  & 43.66910  & 48.832700 & 47.91800 \\\\\n",
       "\t221 & 31.2383   & 27.9815   & 27.3265   & 34.0107   & 28.4496   & 33.1527   & 29.8152   & 32.0028   & 32.7252   & 30.3241   & ...       & 47.74450  & 46.70680  & 50.05080  & 57.66040  & 56.386300 & 58.012500 & 49.92530  & 50.16080  & 51.147200 & 58.85560 \\\\\n",
       "\t242 & 24.3217   & 33.0434   & 26.3870   & 32.6050   & 30.6259   & 25.6265   & 29.8207   & 37.5495   & 27.2731   & 27.9082   & ...       & 39.59530  & 46.77210  & 50.85660  & 40.32970  & 49.061300 & 49.605400 & 46.49160  & 42.11570  & 44.037600 & 49.91890 \\\\\n",
       "\t264 & 33.1680   & 27.9691   & 33.0336   & 34.0712   & 26.7101   & 34.8409   & 34.4721   & 27.3897   & 36.3332   & 35.0426   & ...       & 46.38890  & 56.23940  & 57.37100  & 55.93830  & 59.450900 & 58.370400 & 58.41500  & 50.85860  & 60.945900 & 50.99520 \\\\\n",
       "\t274 & 26.2907   & 24.5427   & 35.2732   & 29.6004   & 27.9254   & 36.0729   & 26.0404   & 35.1100   & 37.7470   & 37.2857   & ...       & 37.69050  & 37.65150  & 47.61630  & 46.90350  & 47.318500 & 43.740600 & 45.15690  & 42.88270  & 46.780700 & 44.16020 \\\\\n",
       "\t250 & 25.6910   & 33.3709   & 27.1828   & 35.2622   & 25.9799   & 29.8029   & 35.3159   & 32.2472   & 31.8300   & 37.2008   & ...       & 38.24070  & 35.54930  & 37.26150  & 39.34200  & 42.469100 & 39.693600 & 39.81020  & 36.70640  & 47.602000 & 37.63700 \\\\\n",
       "\t355 & 30.5850   & 27.6158   & 28.1859   & 32.4840   & 23.2883   & 23.5485   & 33.9241   & 26.1884   & 26.0472   & 29.0487   & ...       & 16.56110  & 13.76450  & 10.33190  & 11.66330  & 12.249200 & 16.382400 & 12.45300  & 17.47670  & 15.703200 & 14.95940 \\\\\n",
       "\t338 & 32.4196   & 30.0036   & 26.4940   & 27.6558   & 22.4996   & 25.7333   & 21.9773   & 25.1915   & 24.1323   & 25.9592   & ...       &  8.74702  &  5.02664  &  4.04425  &  5.49359  &  0.826886 &  7.889180 &  8.86150  &  9.36671  &  6.214060 &  8.46026 \\\\\n",
       "\t312 & 29.3423   & 32.1281   & 24.4618   & 23.8141   & 31.1505   & 23.2352   & 24.2775   & 32.6208   & 24.8630   & 23.8676   & ...       &  7.16458  &  9.44180  &  6.34036  & 11.03540  &  5.162520 &  5.056860 &  3.80988  & 10.08430  &  4.273510 &  7.15775 \\\\\n",
       "\t307 & 34.7265   & 28.3248   & 30.3314   & 33.8817   & 30.8269   & 23.0724   & 25.8050   & 22.7909   & 23.5405   & 30.8883   & ...       & 13.49780  & 11.77270  & 14.87510  & 13.52050  &  7.046460 & 12.578000 & 12.19870  & 11.45260  &  5.871310 &  8.74893 \\\\\n",
       "\t336 & 26.4975   & 31.3143   & 28.5503   & 31.1094   & 34.2562   & 32.8993   & 32.8097   & 30.7952   & 25.1867   & 21.5465   & ...       & 18.80250  & 11.03360  & 18.24950  & 13.60900  &  7.503620 & 14.355200 & 11.57280  & 13.83640  & 13.327800 &  5.21633 \\\\\n",
       "\t321 & 35.0122   & 34.2871   & 26.4959   & 28.2444   & 27.2509   & 32.2709   & 28.2636   & 29.2112   & 30.8400   & 27.9931   & ...       &  1.88855  &  9.08363  &  3.18330  &  5.54762  & 10.872500 & -0.341912 &  2.67715  &  3.55312  &  1.740310 & -1.47968 \\\\\n",
       "\t342 & 30.7172   & 26.5057   & 32.4956   & 27.2013   & 25.0852   & 23.5999   & 30.7385   & 25.8833   & 23.4837   & 29.8056   & ...       &  4.80464  & -1.11585  &  2.70379  &  4.70496  &  5.562240 &  7.394490 & -3.78936  & -1.56456  &  0.526948 &  5.25399 \\\\\n",
       "\t364 & 25.3855   & 33.7287   & 34.7253   & 26.6200   & 27.9633   & 27.3849   & 22.7025   & 32.2296   & 28.4300   & 28.1527   & ...       & 14.57790  & 10.46210  & 19.68440  & 14.51620  & 19.482400 &  9.795870 & 18.27200  &  9.33937  & 14.182200 & 19.09160 \\\\\n",
       "\t374 & 35.0966   & 33.1028   & 28.9347   & 27.8615   & 34.0126   & 22.4776   & 23.8626   & 22.9774   & 26.8128   & 25.5049   & ...       & 10.22500  &  6.09797  &  3.70608  &  8.11839  & -1.399030 &  4.211890 &  5.90127  & -1.51052  & -0.971271 &  2.86561 \\\\\n",
       "\t350 & 34.5693   & 29.6041   & 26.5708   & 29.1780   & 32.6606   & 28.3769   & 26.3608   & 21.5263   & 22.0547   & 25.2920   & ...       &  6.94002  & 10.16560  & 14.35770  &  9.65100  & 11.683500 & 10.807200 & 10.18620  & 12.14380  &  2.373110 &  9.61240 \\\\\n",
       "\t455 & 27.1019   & 25.8456   & 31.3510   & 32.4152   & 34.4551   & 25.2298   & 30.4671   & 26.9304   & 28.0585   & 26.1332   & ...       & 43.93740  & 53.56630  & 44.80950  & 50.73090  & 52.103200 & 50.125800 & 45.47460  & 49.52650  & 53.652200 & 50.75700 \\\\\n",
       "\t438 & 28.0556   & 35.4312   & 34.5513   & 31.9173   & 30.6514   & 34.6395   & 25.8350   & 25.5585   & 31.7381   & 34.7933   & ...       & 36.60990  & 32.58520  & 42.61180  & 33.84990  & 40.901300 & 33.542200 & 31.64510  & 38.98110  & 36.355800 & 39.47570 \\\\\n",
       "\t412 & 35.8120   & 33.6685   & 24.2288   & 35.1929   & 26.6499   & 32.2937   & 30.4469   & 35.0999   & 29.0838   & 25.5060   & ...       & 49.73790  & 47.66020  & 48.89410  & 53.46150  & 53.183500 & 49.460300 & 45.36540  & 51.87510  & 53.967900 & 48.15230 \\\\\n",
       "\t407 & 35.9703   & 29.5733   & 25.2482   & 24.0154   & 29.7918   & 25.5886   & 30.9889   & 30.1572   & 35.3989   & 27.3175   & ...       & 50.33930  & 48.47830  & 45.42010  & 43.09850  & 46.402700 & 47.604700 & 52.36530  & 50.30040  & 46.278600 & 51.80750 \\\\\n",
       "\t436 & 35.9695   & 24.4447   & 29.3614   & 29.2175   & 34.4507   & 32.9682   & 35.2520   & 27.7412   & 31.5882   & 35.8142   & ...       & 39.96300  & 44.93440  & 39.15180  & 34.03490  & 35.809000 & 43.383600 & 35.38340  & 41.48220  & 40.198000 & 36.90950 \\\\\n",
       "\t421 & 32.0656   & 24.5640   & 30.0195   & 29.2149   & 25.5262   & 35.4326   & 25.4740   & 25.4399   & 33.1735   & 34.8286   & ...       & 49.25730  & 45.46580  & 49.16730  & 38.98430  & 42.813000 & 44.970700 & 46.70220  & 43.96240  & 41.829200 & 46.14180 \\\\\n",
       "\t442 & 26.7435   & 28.0269   & 34.5234   & 26.8544   & 24.1954   & 25.6382   & 32.7982   & 31.2787   & 35.2924   & 33.3880   & ...       & 35.86220  & 42.43110  & 34.86190  & 40.28170  & 36.559200 & 37.841600 & 34.61880  & 39.25830  & 43.876100 & 42.28340 \\\\\n",
       "\t464 & 28.9736   & 34.1323   & 27.6649   & 31.9753   & 34.5363   & 27.6109   & 30.7609   & 29.9993   & 24.4755   & 27.7567   & ...       & 50.65100  & 49.09690  & 45.24960  & 45.69680  & 49.124500 & 55.927600 & 52.52820  & 53.57150  & 54.561900 & 55.11050 \\\\\n",
       "\t474 & 33.1287   & 26.6333   & 34.6758   & 35.0963   & 31.6554   & 32.6719   & 26.8639   & 30.2780   & 26.6421   & 33.7519   & ...       & 50.21410  & 40.14380  & 40.07810  & 49.45320  & 40.206600 & 46.558400 & 40.07410  & 50.24570  & 40.494200 & 46.74720 \\\\\n",
       "\t450 & 34.4507   & 34.0372   & 25.6418   & 25.2067   & 32.3223   & 32.2209   & 27.2319   & 33.1621   & 26.9906   & 27.0461   & ...       & 40.94660  & 42.35490  & 44.96360  & 49.67400  & 49.230400 & 42.112900 & 45.11420  & 47.77400  & 44.727500 & 45.64340 \\\\\n",
       "\t555 & 34.3765   & 29.1760   & 30.2714   & 32.5658   & 32.5052   & 31.7671   & 32.2467   & 31.4457   & 27.5815   & 28.9211   & ...       & 23.21760  & 21.59560  & 14.75030  & 21.15390  & 17.659000 & 18.921200 & 19.27110  & 22.25880  & 18.028500 & 20.13590 \\\\\n",
       "\t538 & 33.9953   & 33.5187   & 35.9523   & 30.8990   & 29.5579   & 34.1485   & 27.1048   & 32.8419   & 29.3970   & 29.4962   & ...       & 19.78790  & 22.73160  & 17.99850  & 13.45780  & 12.388500 & 13.695400 & 15.02730  & 14.67960  & 12.740300 & 21.66960 \\\\\n",
       "\t512 & 27.2873   & 35.6034   & 32.7002   & 28.5708   & 33.8999   & 25.4061   & 27.3439   & 29.1690   & 27.3061   & 32.7211   & ...       & 20.35560  & 20.07170  & 21.12120  & 16.10500  & 10.497900 & 17.644800 & 17.53830  & 19.04530  & 13.937700 & 16.06680 \\\\\n",
       "\t507 & 24.2141   & 33.1496   & 31.5207   & 31.9863   & 29.0636   & 32.6267   & 24.7859   & 35.9475   & 32.9363   & 24.5281   & ...       & 21.68380  & 19.69380  & 23.60650  & 23.67450  & 13.265300 & 17.523500 & 23.76810  & 19.32290  & 22.432900 & 24.07990 \\\\\n",
       "\t536 & 24.8630   & 33.3355   & 28.3622   & 25.8464   & 32.2276   & 26.5889   & 27.1203   & 32.3693   & 32.7729   & 35.5145   & ...       & 16.15680  & 15.68050  & 11.00210  & 17.64220  & 18.843700 & 21.244200 & 10.52290  & 15.78000  & 18.655000 & 13.96700 \\\\\n",
       "\t521 & 27.8716   & 27.0351   & 28.2645   & 31.3723   & 34.9079   & 24.3547   & 30.2067   & 28.6332   & 31.3477   & 29.7808   & ...       & 15.14280  &  9.02496  & 17.08030  & 11.67740  & 14.012200 & 11.631800 & 13.61480  & 15.04960  & 18.882200 & 18.45480 \\\\\n",
       "\t542 & 31.5897   & 32.1460   & 35.1469   & 31.8717   & 31.4891   & 24.2890   & 25.4035   & 33.5925   & 33.9531   & 26.1912   & ...       & 15.91810  & 18.11960  & 16.86590  &  8.09410  & 19.333600 & 14.387500 & 10.32790  & 15.31440  & 15.040400 & 10.53210 \\\\\n",
       "\t564 & 27.4537   & 27.9050   & 29.5909   & 31.2956   & 24.4315   & 24.7458   & 34.8767   & 30.2938   & 24.1645   & 31.8133   & ...       & 16.69210  & 18.82460  & 10.11890  & 18.00750  & 10.172100 & 12.502500 & 20.17010  &  9.54309  &  9.722660 &  9.80308 \\\\\n",
       "\t574 & 34.2888   & 32.7982   & 32.1346   & 28.6556   & 27.8811   & 32.3877   & 28.4602   & 29.2266   & 24.7410   & 24.1157   & ...       & 13.90750  &  8.19539  & 14.92030  & 12.95570  &  9.314680 & 15.839100 &  6.18927  &  9.16926  & 12.583300 & 11.52500 \\\\\n",
       "\t550 & 30.4884   & 31.4006   & 28.7555   & 30.9588   & 27.8382   & 25.7381   & 27.2859   & 27.9616   & 30.7701   & 35.7070   & ...       & 13.29290  & 12.62120  & 21.72200  & 14.66080  & 13.070000 & 14.432700 & 13.16430  & 12.68580  & 20.456600 & 15.73670 \\\\\n",
       "\\end{tabular}\n"
      ],
      "text/markdown": [
       "\n",
       "| <!--/--> | V1 | V2 | V3 | V4 | V5 | V6 | V7 | V8 | V9 | V10 | ... | V51 | V52 | V53 | V54 | V55 | V56 | V57 | V58 | V59 | V60 |\n",
       "|---|---|---|---|---|---|---|---|---|---|---|---|---|---|---|---|---|---|---|---|---|---|\n",
       "| 55 | 26.0285   | 26.5547   | 32.1637   | 34.9435   | 30.7851   | 28.2194   | 34.3831   | 34.1180   | 29.6060   | 25.2629   | ...       | 31.47220  | 26.29510  | 27.13680  | 24.44580  | 27.345000 | 33.127200 | 29.61040  | 25.41200  | 32.118900 | 29.65550  |\n",
       "| 38 | 34.9666   | 27.9138   | 28.6666   | 29.0522   | 33.2348   | 31.0326   | 29.7922   | 29.5990   | 34.0420   | 26.7446   | ...       | 31.40420  | 27.68870  | 31.72520  | 31.58790  | 30.178500 | 27.832700 | 24.52620  | 29.32430  | 24.437000 | 34.16790  |\n",
       "| 12 | 26.7115   | 24.0969   | 30.0213   | 29.9423   | 31.5460   | 33.7673   | 26.7519   | 28.7294   | 26.0583   | 35.7051   | ...       | 32.46990  | 28.19660  | 31.91950  | 35.48590  | 24.267000 | 30.708400 | 28.93510  | 35.51120  | 24.769000 | 33.88740  |\n",
       "| 7 | 28.6989   | 29.2101   | 30.9291   | 34.6229   | 31.4138   | 28.4636   | 35.9115   | 32.9058   | 28.7669   | 24.2868   | ...       | 29.82740  | 24.03230  | 31.07560  | 34.33580  | 25.435800 | 25.893000 | 35.67320  | 25.18690  | 29.666900 | 26.46370  |\n",
       "| 36 | 33.0274   | 30.1664   | 34.7195   | 26.2819   | 26.4512   | 27.5253   | 30.5251   | 24.0995   | 26.0840   | 34.5403   | ...       | 33.46140  | 29.15910  | 32.45160  | 26.07700  | 32.500800 | 27.820600 | 26.49600  | 33.45590  | 30.662100 | 29.99780  |\n",
       "| 21 | 25.7946   | 33.9116   | 25.3323   | 24.4300   | 26.9818   | 25.3804   | 25.3411   | 30.1135   | 25.4443   | 29.9155   | ...       | 35.40620  | 28.57190  | 27.19190  | 24.72890  | 34.033500 | 35.994500 | 32.16290  | 33.22120  | 32.090600 | 26.89770  |\n",
       "| 42 | 32.5771   | 34.6846   | 33.8951   | 32.1611   | 30.2299   | 25.5001   | 28.6450   | 29.7775   | 32.3014   | 32.4824   | ...       | 27.82390  | 29.56780  | 25.12960  | 28.58440  | 28.124600 | 28.737500 | 32.59730  | 35.83220  | 24.336000 | 26.49780  |\n",
       "| 64 | 32.8603   | 31.0176   | 30.0819   | 25.4839   | 27.5719   | 31.8365   | 31.1443   | 28.3082   | 35.5883   | 35.2406   | ...       | 30.28640  | 35.88210  | 29.42930  | 29.67170  | 32.582700 | 35.679100 | 24.95110  | 25.48800  | 28.166500 | 32.54740  |\n",
       "| 74 | 26.8592   | 32.5099   | 28.4617   | 29.4323   | 31.5768   | 29.1940   | 32.7160   | 25.5038   | 29.5751   | 26.3862   | ...       | 32.41340  | 26.71230  | 33.29580  | 28.59980  | 28.987900 | 28.682800 | 33.43060  | 30.57360  | 26.579000 | 29.53030  |\n",
       "| 50 | 26.9161   | 30.7253   | 30.9511   | 29.6203   | 34.9325   | 35.0063   | 29.1201   | 26.9172   | 29.2039   | 28.4874   | ...       | 24.79650  | 27.99350  | 24.78250  | 35.62510  | 28.675400 | 35.580300 | 30.76820  | 33.16800  | 33.281500 | 31.20930  |\n",
       "| 155 | 29.6181   | 41.2386   | 44.6320   | 47.8926   | 44.6445   | 41.1246   | 41.4001   | 36.0841   | 26.7270   | 26.1316   | ...       | 40.91790  | 31.09780  | 25.27230  | 19.12130  | 14.860700 | 21.393900 | 19.30020  | 21.05800  | 27.537300 | 33.67520  |\n",
       "| 138 | 24.3422   | 35.9905   | 38.3697   | 41.2425   | 43.0979   | 29.3166   | 24.7874   | 18.1550   | 19.4387   | 17.4181   | ...       | 17.64110  | 25.29740  | 32.83900  | 42.08520  | 45.868700 | 38.825500 | 46.12640  | 35.34700  | 30.212000 | 13.20600  |\n",
       "| 112 | 32.1442   | 37.6735   | 44.3604   | 43.7898   | 48.9829   | 39.6100   | 30.8540   | 32.2440   | 26.7408   | 16.4025   | ...       | 11.49260  | 19.63350  | 21.11720  | 25.58080  | 30.937300 | 39.519000 | 43.39490  | 42.91090  | 40.453500 | 32.71410  |\n",
       "| 107 | 28.4004   | 39.8835   | 40.4039   | 42.5002   | 42.7544   | 32.9513   | 29.7748   | 20.6785   | 16.1984   | 15.6932   | ...       | 14.10870  | 10.79920  | 24.67410  | 23.58840  | 32.726100 | 43.072600 | 49.63940  | 44.26870  | 32.695600 | 26.72850  |\n",
       "| 136 | 29.5406   | 33.5848   | 35.8956   | 38.0802   | 42.6702   | 33.6437   | 31.6486   | 20.7756   | 24.8114   | 13.2187   | ...       | 34.15970  | 42.48610  | 37.15470  | 34.90410  | 33.234100 | 31.323500 | 18.14520  | 17.79950  | 19.209600 | 18.73370  |\n",
       "| 121 | 29.8417   | 37.6570   | 41.6643   | 38.1337   | 46.1419   | 41.4995   | 29.7408   | 33.6235   | 19.9875   | 13.6796   | ...       | 17.10460  | 11.75950  | 20.10560  | 27.30570  | 31.843700 | 29.843900 | 43.96240  | 44.91370  | 38.462400 | 35.47450  |\n",
       "| 142 | 32.8485   | 32.6025   | 44.1224   | 44.1720   | 38.9286   | 45.4076   | 33.8422   | 30.8023   | 23.2227   | 24.3516   | ...       | 38.70690  | 35.83270  | 34.12500  | 25.83610  | 21.294700 | 13.220100 | 11.11400  | 19.71520  | 17.937000 | 24.27560  |\n",
       "| 164 | 25.3437   | 34.2930   | 38.2116   | 39.9892   | 42.5053   | 32.7023   | 27.0690   | 22.3364   | 21.3176   | 17.8632   | ...       | 12.89880  | 20.08860  | 17.86150  | 25.01580  | 31.490700 | 40.938700 | 48.54420  | 42.90610  | 43.902100 | 35.18270  |\n",
       "| 174 | 26.2753   | 32.9920   | 42.9596   | 44.7994   | 35.8042   | 38.0698   | 37.8979   | 22.6653   | 18.6551   | 19.9587   | ...       | 25.19150  | 26.91360  | 31.16220  | 45.09250  | 47.456700 | 39.601200 | 33.75000  | 26.46140  | 27.319200 | 25.54010  |\n",
       "| 150 | 31.9525   | 34.6294   | 41.1201   | 40.0693   | 33.8886   | 31.6604   | 27.2420   | 23.4285   | 22.6107   | 23.6916   | ...       | 29.61340  | 24.37050  | 18.00910  | 22.68760  | 21.753700 | 27.070300 | 29.69670  | 32.91330  | 44.065500 | 38.14590  |\n",
       "| 255 | 34.3622   | 27.1068   | 25.2088   | 30.0992   | 36.0317   | 29.5420   | 31.7275   | 34.4601   | 37.1769   | 31.7029   | ...       | 37.27240  | 39.73770  | 38.75700  | 37.28560  | 41.877500 | 38.028400 | 43.91070  | 38.44140  | 40.126400 | 45.23600  |\n",
       "| 238 | 35.9394   | 26.7841   | 26.7745   | 35.1025   | 36.9021   | 34.5345   | 32.8467   | 37.0652   | 34.1574   | 37.8901   | ...       | 48.32750  | 48.73870  | 50.74250  | 55.60250  | 52.708300 | 59.658200 | 50.09270  | 60.53890  | 58.963800 | 59.14540  |\n",
       "| 212 | 28.4257   | 26.9938   | 26.9668   | 30.8470   | 35.5150   | 34.0646   | 33.1163   | 27.1808   | 37.2714   | 36.2559   | ...       | 43.06550  | 46.96640  | 47.41310  | 41.39820  | 50.551000 | 46.523200 | 46.38460  | 41.81870  | 51.209800 | 45.77810  |\n",
       "| 207 | 24.3085   | 25.0208   | 28.8281   | 36.8007   | 35.2880   | 31.4105   | 36.0205   | 31.5055   | 28.0319   | 32.3991   | ...       | 55.88400  | 52.41660  | 58.46280  | 53.90630  | 61.116200 | 52.002100 | 50.09440  | 58.25430  | 53.513400 | 59.47150  |\n",
       "| 236 | 24.9629   | 25.8042   | 35.4317   | 30.5089   | 30.8281   | 31.3033   | 28.9987   | 26.2957   | 37.8610   | 30.8825   | ...       | 38.52520  | 42.65180  | 39.99470  | 43.44110  | 42.953500 | 48.104200 | 40.19290  | 43.66910  | 48.832700 | 47.91800  |\n",
       "| 221 | 31.2383   | 27.9815   | 27.3265   | 34.0107   | 28.4496   | 33.1527   | 29.8152   | 32.0028   | 32.7252   | 30.3241   | ...       | 47.74450  | 46.70680  | 50.05080  | 57.66040  | 56.386300 | 58.012500 | 49.92530  | 50.16080  | 51.147200 | 58.85560  |\n",
       "| 242 | 24.3217   | 33.0434   | 26.3870   | 32.6050   | 30.6259   | 25.6265   | 29.8207   | 37.5495   | 27.2731   | 27.9082   | ...       | 39.59530  | 46.77210  | 50.85660  | 40.32970  | 49.061300 | 49.605400 | 46.49160  | 42.11570  | 44.037600 | 49.91890  |\n",
       "| 264 | 33.1680   | 27.9691   | 33.0336   | 34.0712   | 26.7101   | 34.8409   | 34.4721   | 27.3897   | 36.3332   | 35.0426   | ...       | 46.38890  | 56.23940  | 57.37100  | 55.93830  | 59.450900 | 58.370400 | 58.41500  | 50.85860  | 60.945900 | 50.99520  |\n",
       "| 274 | 26.2907   | 24.5427   | 35.2732   | 29.6004   | 27.9254   | 36.0729   | 26.0404   | 35.1100   | 37.7470   | 37.2857   | ...       | 37.69050  | 37.65150  | 47.61630  | 46.90350  | 47.318500 | 43.740600 | 45.15690  | 42.88270  | 46.780700 | 44.16020  |\n",
       "| 250 | 25.6910   | 33.3709   | 27.1828   | 35.2622   | 25.9799   | 29.8029   | 35.3159   | 32.2472   | 31.8300   | 37.2008   | ...       | 38.24070  | 35.54930  | 37.26150  | 39.34200  | 42.469100 | 39.693600 | 39.81020  | 36.70640  | 47.602000 | 37.63700  |\n",
       "| 355 | 30.5850   | 27.6158   | 28.1859   | 32.4840   | 23.2883   | 23.5485   | 33.9241   | 26.1884   | 26.0472   | 29.0487   | ...       | 16.56110  | 13.76450  | 10.33190  | 11.66330  | 12.249200 | 16.382400 | 12.45300  | 17.47670  | 15.703200 | 14.95940  |\n",
       "| 338 | 32.4196   | 30.0036   | 26.4940   | 27.6558   | 22.4996   | 25.7333   | 21.9773   | 25.1915   | 24.1323   | 25.9592   | ...       |  8.74702  |  5.02664  |  4.04425  |  5.49359  |  0.826886 |  7.889180 |  8.86150  |  9.36671  |  6.214060 |  8.46026  |\n",
       "| 312 | 29.3423   | 32.1281   | 24.4618   | 23.8141   | 31.1505   | 23.2352   | 24.2775   | 32.6208   | 24.8630   | 23.8676   | ...       |  7.16458  |  9.44180  |  6.34036  | 11.03540  |  5.162520 |  5.056860 |  3.80988  | 10.08430  |  4.273510 |  7.15775  |\n",
       "| 307 | 34.7265   | 28.3248   | 30.3314   | 33.8817   | 30.8269   | 23.0724   | 25.8050   | 22.7909   | 23.5405   | 30.8883   | ...       | 13.49780  | 11.77270  | 14.87510  | 13.52050  |  7.046460 | 12.578000 | 12.19870  | 11.45260  |  5.871310 |  8.74893  |\n",
       "| 336 | 26.4975   | 31.3143   | 28.5503   | 31.1094   | 34.2562   | 32.8993   | 32.8097   | 30.7952   | 25.1867   | 21.5465   | ...       | 18.80250  | 11.03360  | 18.24950  | 13.60900  |  7.503620 | 14.355200 | 11.57280  | 13.83640  | 13.327800 |  5.21633  |\n",
       "| 321 | 35.0122   | 34.2871   | 26.4959   | 28.2444   | 27.2509   | 32.2709   | 28.2636   | 29.2112   | 30.8400   | 27.9931   | ...       |  1.88855  |  9.08363  |  3.18330  |  5.54762  | 10.872500 | -0.341912 |  2.67715  |  3.55312  |  1.740310 | -1.47968  |\n",
       "| 342 | 30.7172   | 26.5057   | 32.4956   | 27.2013   | 25.0852   | 23.5999   | 30.7385   | 25.8833   | 23.4837   | 29.8056   | ...       |  4.80464  | -1.11585  |  2.70379  |  4.70496  |  5.562240 |  7.394490 | -3.78936  | -1.56456  |  0.526948 |  5.25399  |\n",
       "| 364 | 25.3855   | 33.7287   | 34.7253   | 26.6200   | 27.9633   | 27.3849   | 22.7025   | 32.2296   | 28.4300   | 28.1527   | ...       | 14.57790  | 10.46210  | 19.68440  | 14.51620  | 19.482400 |  9.795870 | 18.27200  |  9.33937  | 14.182200 | 19.09160  |\n",
       "| 374 | 35.0966   | 33.1028   | 28.9347   | 27.8615   | 34.0126   | 22.4776   | 23.8626   | 22.9774   | 26.8128   | 25.5049   | ...       | 10.22500  |  6.09797  |  3.70608  |  8.11839  | -1.399030 |  4.211890 |  5.90127  | -1.51052  | -0.971271 |  2.86561  |\n",
       "| 350 | 34.5693   | 29.6041   | 26.5708   | 29.1780   | 32.6606   | 28.3769   | 26.3608   | 21.5263   | 22.0547   | 25.2920   | ...       |  6.94002  | 10.16560  | 14.35770  |  9.65100  | 11.683500 | 10.807200 | 10.18620  | 12.14380  |  2.373110 |  9.61240  |\n",
       "| 455 | 27.1019   | 25.8456   | 31.3510   | 32.4152   | 34.4551   | 25.2298   | 30.4671   | 26.9304   | 28.0585   | 26.1332   | ...       | 43.93740  | 53.56630  | 44.80950  | 50.73090  | 52.103200 | 50.125800 | 45.47460  | 49.52650  | 53.652200 | 50.75700  |\n",
       "| 438 | 28.0556   | 35.4312   | 34.5513   | 31.9173   | 30.6514   | 34.6395   | 25.8350   | 25.5585   | 31.7381   | 34.7933   | ...       | 36.60990  | 32.58520  | 42.61180  | 33.84990  | 40.901300 | 33.542200 | 31.64510  | 38.98110  | 36.355800 | 39.47570  |\n",
       "| 412 | 35.8120   | 33.6685   | 24.2288   | 35.1929   | 26.6499   | 32.2937   | 30.4469   | 35.0999   | 29.0838   | 25.5060   | ...       | 49.73790  | 47.66020  | 48.89410  | 53.46150  | 53.183500 | 49.460300 | 45.36540  | 51.87510  | 53.967900 | 48.15230  |\n",
       "| 407 | 35.9703   | 29.5733   | 25.2482   | 24.0154   | 29.7918   | 25.5886   | 30.9889   | 30.1572   | 35.3989   | 27.3175   | ...       | 50.33930  | 48.47830  | 45.42010  | 43.09850  | 46.402700 | 47.604700 | 52.36530  | 50.30040  | 46.278600 | 51.80750  |\n",
       "| 436 | 35.9695   | 24.4447   | 29.3614   | 29.2175   | 34.4507   | 32.9682   | 35.2520   | 27.7412   | 31.5882   | 35.8142   | ...       | 39.96300  | 44.93440  | 39.15180  | 34.03490  | 35.809000 | 43.383600 | 35.38340  | 41.48220  | 40.198000 | 36.90950  |\n",
       "| 421 | 32.0656   | 24.5640   | 30.0195   | 29.2149   | 25.5262   | 35.4326   | 25.4740   | 25.4399   | 33.1735   | 34.8286   | ...       | 49.25730  | 45.46580  | 49.16730  | 38.98430  | 42.813000 | 44.970700 | 46.70220  | 43.96240  | 41.829200 | 46.14180  |\n",
       "| 442 | 26.7435   | 28.0269   | 34.5234   | 26.8544   | 24.1954   | 25.6382   | 32.7982   | 31.2787   | 35.2924   | 33.3880   | ...       | 35.86220  | 42.43110  | 34.86190  | 40.28170  | 36.559200 | 37.841600 | 34.61880  | 39.25830  | 43.876100 | 42.28340  |\n",
       "| 464 | 28.9736   | 34.1323   | 27.6649   | 31.9753   | 34.5363   | 27.6109   | 30.7609   | 29.9993   | 24.4755   | 27.7567   | ...       | 50.65100  | 49.09690  | 45.24960  | 45.69680  | 49.124500 | 55.927600 | 52.52820  | 53.57150  | 54.561900 | 55.11050  |\n",
       "| 474 | 33.1287   | 26.6333   | 34.6758   | 35.0963   | 31.6554   | 32.6719   | 26.8639   | 30.2780   | 26.6421   | 33.7519   | ...       | 50.21410  | 40.14380  | 40.07810  | 49.45320  | 40.206600 | 46.558400 | 40.07410  | 50.24570  | 40.494200 | 46.74720  |\n",
       "| 450 | 34.4507   | 34.0372   | 25.6418   | 25.2067   | 32.3223   | 32.2209   | 27.2319   | 33.1621   | 26.9906   | 27.0461   | ...       | 40.94660  | 42.35490  | 44.96360  | 49.67400  | 49.230400 | 42.112900 | 45.11420  | 47.77400  | 44.727500 | 45.64340  |\n",
       "| 555 | 34.3765   | 29.1760   | 30.2714   | 32.5658   | 32.5052   | 31.7671   | 32.2467   | 31.4457   | 27.5815   | 28.9211   | ...       | 23.21760  | 21.59560  | 14.75030  | 21.15390  | 17.659000 | 18.921200 | 19.27110  | 22.25880  | 18.028500 | 20.13590  |\n",
       "| 538 | 33.9953   | 33.5187   | 35.9523   | 30.8990   | 29.5579   | 34.1485   | 27.1048   | 32.8419   | 29.3970   | 29.4962   | ...       | 19.78790  | 22.73160  | 17.99850  | 13.45780  | 12.388500 | 13.695400 | 15.02730  | 14.67960  | 12.740300 | 21.66960  |\n",
       "| 512 | 27.2873   | 35.6034   | 32.7002   | 28.5708   | 33.8999   | 25.4061   | 27.3439   | 29.1690   | 27.3061   | 32.7211   | ...       | 20.35560  | 20.07170  | 21.12120  | 16.10500  | 10.497900 | 17.644800 | 17.53830  | 19.04530  | 13.937700 | 16.06680  |\n",
       "| 507 | 24.2141   | 33.1496   | 31.5207   | 31.9863   | 29.0636   | 32.6267   | 24.7859   | 35.9475   | 32.9363   | 24.5281   | ...       | 21.68380  | 19.69380  | 23.60650  | 23.67450  | 13.265300 | 17.523500 | 23.76810  | 19.32290  | 22.432900 | 24.07990  |\n",
       "| 536 | 24.8630   | 33.3355   | 28.3622   | 25.8464   | 32.2276   | 26.5889   | 27.1203   | 32.3693   | 32.7729   | 35.5145   | ...       | 16.15680  | 15.68050  | 11.00210  | 17.64220  | 18.843700 | 21.244200 | 10.52290  | 15.78000  | 18.655000 | 13.96700  |\n",
       "| 521 | 27.8716   | 27.0351   | 28.2645   | 31.3723   | 34.9079   | 24.3547   | 30.2067   | 28.6332   | 31.3477   | 29.7808   | ...       | 15.14280  |  9.02496  | 17.08030  | 11.67740  | 14.012200 | 11.631800 | 13.61480  | 15.04960  | 18.882200 | 18.45480  |\n",
       "| 542 | 31.5897   | 32.1460   | 35.1469   | 31.8717   | 31.4891   | 24.2890   | 25.4035   | 33.5925   | 33.9531   | 26.1912   | ...       | 15.91810  | 18.11960  | 16.86590  |  8.09410  | 19.333600 | 14.387500 | 10.32790  | 15.31440  | 15.040400 | 10.53210  |\n",
       "| 564 | 27.4537   | 27.9050   | 29.5909   | 31.2956   | 24.4315   | 24.7458   | 34.8767   | 30.2938   | 24.1645   | 31.8133   | ...       | 16.69210  | 18.82460  | 10.11890  | 18.00750  | 10.172100 | 12.502500 | 20.17010  |  9.54309  |  9.722660 |  9.80308  |\n",
       "| 574 | 34.2888   | 32.7982   | 32.1346   | 28.6556   | 27.8811   | 32.3877   | 28.4602   | 29.2266   | 24.7410   | 24.1157   | ...       | 13.90750  |  8.19539  | 14.92030  | 12.95570  |  9.314680 | 15.839100 |  6.18927  |  9.16926  | 12.583300 | 11.52500  |\n",
       "| 550 | 30.4884   | 31.4006   | 28.7555   | 30.9588   | 27.8382   | 25.7381   | 27.2859   | 27.9616   | 30.7701   | 35.7070   | ...       | 13.29290  | 12.62120  | 21.72200  | 14.66080  | 13.070000 | 14.432700 | 13.16430  | 12.68580  | 20.456600 | 15.73670  |\n",
       "\n"
      ],
      "text/plain": [
       "    V1      V2      V3      V4      V5      V6      V7      V8      V9     \n",
       "55  26.0285 26.5547 32.1637 34.9435 30.7851 28.2194 34.3831 34.1180 29.6060\n",
       "38  34.9666 27.9138 28.6666 29.0522 33.2348 31.0326 29.7922 29.5990 34.0420\n",
       "12  26.7115 24.0969 30.0213 29.9423 31.5460 33.7673 26.7519 28.7294 26.0583\n",
       "7   28.6989 29.2101 30.9291 34.6229 31.4138 28.4636 35.9115 32.9058 28.7669\n",
       "36  33.0274 30.1664 34.7195 26.2819 26.4512 27.5253 30.5251 24.0995 26.0840\n",
       "21  25.7946 33.9116 25.3323 24.4300 26.9818 25.3804 25.3411 30.1135 25.4443\n",
       "42  32.5771 34.6846 33.8951 32.1611 30.2299 25.5001 28.6450 29.7775 32.3014\n",
       "64  32.8603 31.0176 30.0819 25.4839 27.5719 31.8365 31.1443 28.3082 35.5883\n",
       "74  26.8592 32.5099 28.4617 29.4323 31.5768 29.1940 32.7160 25.5038 29.5751\n",
       "50  26.9161 30.7253 30.9511 29.6203 34.9325 35.0063 29.1201 26.9172 29.2039\n",
       "155 29.6181 41.2386 44.6320 47.8926 44.6445 41.1246 41.4001 36.0841 26.7270\n",
       "138 24.3422 35.9905 38.3697 41.2425 43.0979 29.3166 24.7874 18.1550 19.4387\n",
       "112 32.1442 37.6735 44.3604 43.7898 48.9829 39.6100 30.8540 32.2440 26.7408\n",
       "107 28.4004 39.8835 40.4039 42.5002 42.7544 32.9513 29.7748 20.6785 16.1984\n",
       "136 29.5406 33.5848 35.8956 38.0802 42.6702 33.6437 31.6486 20.7756 24.8114\n",
       "121 29.8417 37.6570 41.6643 38.1337 46.1419 41.4995 29.7408 33.6235 19.9875\n",
       "142 32.8485 32.6025 44.1224 44.1720 38.9286 45.4076 33.8422 30.8023 23.2227\n",
       "164 25.3437 34.2930 38.2116 39.9892 42.5053 32.7023 27.0690 22.3364 21.3176\n",
       "174 26.2753 32.9920 42.9596 44.7994 35.8042 38.0698 37.8979 22.6653 18.6551\n",
       "150 31.9525 34.6294 41.1201 40.0693 33.8886 31.6604 27.2420 23.4285 22.6107\n",
       "255 34.3622 27.1068 25.2088 30.0992 36.0317 29.5420 31.7275 34.4601 37.1769\n",
       "238 35.9394 26.7841 26.7745 35.1025 36.9021 34.5345 32.8467 37.0652 34.1574\n",
       "212 28.4257 26.9938 26.9668 30.8470 35.5150 34.0646 33.1163 27.1808 37.2714\n",
       "207 24.3085 25.0208 28.8281 36.8007 35.2880 31.4105 36.0205 31.5055 28.0319\n",
       "236 24.9629 25.8042 35.4317 30.5089 30.8281 31.3033 28.9987 26.2957 37.8610\n",
       "221 31.2383 27.9815 27.3265 34.0107 28.4496 33.1527 29.8152 32.0028 32.7252\n",
       "242 24.3217 33.0434 26.3870 32.6050 30.6259 25.6265 29.8207 37.5495 27.2731\n",
       "264 33.1680 27.9691 33.0336 34.0712 26.7101 34.8409 34.4721 27.3897 36.3332\n",
       "274 26.2907 24.5427 35.2732 29.6004 27.9254 36.0729 26.0404 35.1100 37.7470\n",
       "250 25.6910 33.3709 27.1828 35.2622 25.9799 29.8029 35.3159 32.2472 31.8300\n",
       "355 30.5850 27.6158 28.1859 32.4840 23.2883 23.5485 33.9241 26.1884 26.0472\n",
       "338 32.4196 30.0036 26.4940 27.6558 22.4996 25.7333 21.9773 25.1915 24.1323\n",
       "312 29.3423 32.1281 24.4618 23.8141 31.1505 23.2352 24.2775 32.6208 24.8630\n",
       "307 34.7265 28.3248 30.3314 33.8817 30.8269 23.0724 25.8050 22.7909 23.5405\n",
       "336 26.4975 31.3143 28.5503 31.1094 34.2562 32.8993 32.8097 30.7952 25.1867\n",
       "321 35.0122 34.2871 26.4959 28.2444 27.2509 32.2709 28.2636 29.2112 30.8400\n",
       "342 30.7172 26.5057 32.4956 27.2013 25.0852 23.5999 30.7385 25.8833 23.4837\n",
       "364 25.3855 33.7287 34.7253 26.6200 27.9633 27.3849 22.7025 32.2296 28.4300\n",
       "374 35.0966 33.1028 28.9347 27.8615 34.0126 22.4776 23.8626 22.9774 26.8128\n",
       "350 34.5693 29.6041 26.5708 29.1780 32.6606 28.3769 26.3608 21.5263 22.0547\n",
       "455 27.1019 25.8456 31.3510 32.4152 34.4551 25.2298 30.4671 26.9304 28.0585\n",
       "438 28.0556 35.4312 34.5513 31.9173 30.6514 34.6395 25.8350 25.5585 31.7381\n",
       "412 35.8120 33.6685 24.2288 35.1929 26.6499 32.2937 30.4469 35.0999 29.0838\n",
       "407 35.9703 29.5733 25.2482 24.0154 29.7918 25.5886 30.9889 30.1572 35.3989\n",
       "436 35.9695 24.4447 29.3614 29.2175 34.4507 32.9682 35.2520 27.7412 31.5882\n",
       "421 32.0656 24.5640 30.0195 29.2149 25.5262 35.4326 25.4740 25.4399 33.1735\n",
       "442 26.7435 28.0269 34.5234 26.8544 24.1954 25.6382 32.7982 31.2787 35.2924\n",
       "464 28.9736 34.1323 27.6649 31.9753 34.5363 27.6109 30.7609 29.9993 24.4755\n",
       "474 33.1287 26.6333 34.6758 35.0963 31.6554 32.6719 26.8639 30.2780 26.6421\n",
       "450 34.4507 34.0372 25.6418 25.2067 32.3223 32.2209 27.2319 33.1621 26.9906\n",
       "555 34.3765 29.1760 30.2714 32.5658 32.5052 31.7671 32.2467 31.4457 27.5815\n",
       "538 33.9953 33.5187 35.9523 30.8990 29.5579 34.1485 27.1048 32.8419 29.3970\n",
       "512 27.2873 35.6034 32.7002 28.5708 33.8999 25.4061 27.3439 29.1690 27.3061\n",
       "507 24.2141 33.1496 31.5207 31.9863 29.0636 32.6267 24.7859 35.9475 32.9363\n",
       "536 24.8630 33.3355 28.3622 25.8464 32.2276 26.5889 27.1203 32.3693 32.7729\n",
       "521 27.8716 27.0351 28.2645 31.3723 34.9079 24.3547 30.2067 28.6332 31.3477\n",
       "542 31.5897 32.1460 35.1469 31.8717 31.4891 24.2890 25.4035 33.5925 33.9531\n",
       "564 27.4537 27.9050 29.5909 31.2956 24.4315 24.7458 34.8767 30.2938 24.1645\n",
       "574 34.2888 32.7982 32.1346 28.6556 27.8811 32.3877 28.4602 29.2266 24.7410\n",
       "550 30.4884 31.4006 28.7555 30.9588 27.8382 25.7381 27.2859 27.9616 30.7701\n",
       "    V10     ... V51      V52      V53      V54      V55       V56      \n",
       "55  25.2629 ... 31.47220 26.29510 27.13680 24.44580 27.345000 33.127200\n",
       "38  26.7446 ... 31.40420 27.68870 31.72520 31.58790 30.178500 27.832700\n",
       "12  35.7051 ... 32.46990 28.19660 31.91950 35.48590 24.267000 30.708400\n",
       "7   24.2868 ... 29.82740 24.03230 31.07560 34.33580 25.435800 25.893000\n",
       "36  34.5403 ... 33.46140 29.15910 32.45160 26.07700 32.500800 27.820600\n",
       "21  29.9155 ... 35.40620 28.57190 27.19190 24.72890 34.033500 35.994500\n",
       "42  32.4824 ... 27.82390 29.56780 25.12960 28.58440 28.124600 28.737500\n",
       "64  35.2406 ... 30.28640 35.88210 29.42930 29.67170 32.582700 35.679100\n",
       "74  26.3862 ... 32.41340 26.71230 33.29580 28.59980 28.987900 28.682800\n",
       "50  28.4874 ... 24.79650 27.99350 24.78250 35.62510 28.675400 35.580300\n",
       "155 26.1316 ... 40.91790 31.09780 25.27230 19.12130 14.860700 21.393900\n",
       "138 17.4181 ... 17.64110 25.29740 32.83900 42.08520 45.868700 38.825500\n",
       "112 16.4025 ... 11.49260 19.63350 21.11720 25.58080 30.937300 39.519000\n",
       "107 15.6932 ... 14.10870 10.79920 24.67410 23.58840 32.726100 43.072600\n",
       "136 13.2187 ... 34.15970 42.48610 37.15470 34.90410 33.234100 31.323500\n",
       "121 13.6796 ... 17.10460 11.75950 20.10560 27.30570 31.843700 29.843900\n",
       "142 24.3516 ... 38.70690 35.83270 34.12500 25.83610 21.294700 13.220100\n",
       "164 17.8632 ... 12.89880 20.08860 17.86150 25.01580 31.490700 40.938700\n",
       "174 19.9587 ... 25.19150 26.91360 31.16220 45.09250 47.456700 39.601200\n",
       "150 23.6916 ... 29.61340 24.37050 18.00910 22.68760 21.753700 27.070300\n",
       "255 31.7029 ... 37.27240 39.73770 38.75700 37.28560 41.877500 38.028400\n",
       "238 37.8901 ... 48.32750 48.73870 50.74250 55.60250 52.708300 59.658200\n",
       "212 36.2559 ... 43.06550 46.96640 47.41310 41.39820 50.551000 46.523200\n",
       "207 32.3991 ... 55.88400 52.41660 58.46280 53.90630 61.116200 52.002100\n",
       "236 30.8825 ... 38.52520 42.65180 39.99470 43.44110 42.953500 48.104200\n",
       "221 30.3241 ... 47.74450 46.70680 50.05080 57.66040 56.386300 58.012500\n",
       "242 27.9082 ... 39.59530 46.77210 50.85660 40.32970 49.061300 49.605400\n",
       "264 35.0426 ... 46.38890 56.23940 57.37100 55.93830 59.450900 58.370400\n",
       "274 37.2857 ... 37.69050 37.65150 47.61630 46.90350 47.318500 43.740600\n",
       "250 37.2008 ... 38.24070 35.54930 37.26150 39.34200 42.469100 39.693600\n",
       "355 29.0487 ... 16.56110 13.76450 10.33190 11.66330 12.249200 16.382400\n",
       "338 25.9592 ...  8.74702  5.02664  4.04425  5.49359  0.826886  7.889180\n",
       "312 23.8676 ...  7.16458  9.44180  6.34036 11.03540  5.162520  5.056860\n",
       "307 30.8883 ... 13.49780 11.77270 14.87510 13.52050  7.046460 12.578000\n",
       "336 21.5465 ... 18.80250 11.03360 18.24950 13.60900  7.503620 14.355200\n",
       "321 27.9931 ...  1.88855  9.08363  3.18330  5.54762 10.872500 -0.341912\n",
       "342 29.8056 ...  4.80464 -1.11585  2.70379  4.70496  5.562240  7.394490\n",
       "364 28.1527 ... 14.57790 10.46210 19.68440 14.51620 19.482400  9.795870\n",
       "374 25.5049 ... 10.22500  6.09797  3.70608  8.11839 -1.399030  4.211890\n",
       "350 25.2920 ...  6.94002 10.16560 14.35770  9.65100 11.683500 10.807200\n",
       "455 26.1332 ... 43.93740 53.56630 44.80950 50.73090 52.103200 50.125800\n",
       "438 34.7933 ... 36.60990 32.58520 42.61180 33.84990 40.901300 33.542200\n",
       "412 25.5060 ... 49.73790 47.66020 48.89410 53.46150 53.183500 49.460300\n",
       "407 27.3175 ... 50.33930 48.47830 45.42010 43.09850 46.402700 47.604700\n",
       "436 35.8142 ... 39.96300 44.93440 39.15180 34.03490 35.809000 43.383600\n",
       "421 34.8286 ... 49.25730 45.46580 49.16730 38.98430 42.813000 44.970700\n",
       "442 33.3880 ... 35.86220 42.43110 34.86190 40.28170 36.559200 37.841600\n",
       "464 27.7567 ... 50.65100 49.09690 45.24960 45.69680 49.124500 55.927600\n",
       "474 33.7519 ... 50.21410 40.14380 40.07810 49.45320 40.206600 46.558400\n",
       "450 27.0461 ... 40.94660 42.35490 44.96360 49.67400 49.230400 42.112900\n",
       "555 28.9211 ... 23.21760 21.59560 14.75030 21.15390 17.659000 18.921200\n",
       "538 29.4962 ... 19.78790 22.73160 17.99850 13.45780 12.388500 13.695400\n",
       "512 32.7211 ... 20.35560 20.07170 21.12120 16.10500 10.497900 17.644800\n",
       "507 24.5281 ... 21.68380 19.69380 23.60650 23.67450 13.265300 17.523500\n",
       "536 35.5145 ... 16.15680 15.68050 11.00210 17.64220 18.843700 21.244200\n",
       "521 29.7808 ... 15.14280  9.02496 17.08030 11.67740 14.012200 11.631800\n",
       "542 26.1912 ... 15.91810 18.11960 16.86590  8.09410 19.333600 14.387500\n",
       "564 31.8133 ... 16.69210 18.82460 10.11890 18.00750 10.172100 12.502500\n",
       "574 24.1157 ... 13.90750  8.19539 14.92030 12.95570  9.314680 15.839100\n",
       "550 35.7070 ... 13.29290 12.62120 21.72200 14.66080 13.070000 14.432700\n",
       "    V57      V58      V59       V60     \n",
       "55  29.61040 25.41200 32.118900 29.65550\n",
       "38  24.52620 29.32430 24.437000 34.16790\n",
       "12  28.93510 35.51120 24.769000 33.88740\n",
       "7   35.67320 25.18690 29.666900 26.46370\n",
       "36  26.49600 33.45590 30.662100 29.99780\n",
       "21  32.16290 33.22120 32.090600 26.89770\n",
       "42  32.59730 35.83220 24.336000 26.49780\n",
       "64  24.95110 25.48800 28.166500 32.54740\n",
       "74  33.43060 30.57360 26.579000 29.53030\n",
       "50  30.76820 33.16800 33.281500 31.20930\n",
       "155 19.30020 21.05800 27.537300 33.67520\n",
       "138 46.12640 35.34700 30.212000 13.20600\n",
       "112 43.39490 42.91090 40.453500 32.71410\n",
       "107 49.63940 44.26870 32.695600 26.72850\n",
       "136 18.14520 17.79950 19.209600 18.73370\n",
       "121 43.96240 44.91370 38.462400 35.47450\n",
       "142 11.11400 19.71520 17.937000 24.27560\n",
       "164 48.54420 42.90610 43.902100 35.18270\n",
       "174 33.75000 26.46140 27.319200 25.54010\n",
       "150 29.69670 32.91330 44.065500 38.14590\n",
       "255 43.91070 38.44140 40.126400 45.23600\n",
       "238 50.09270 60.53890 58.963800 59.14540\n",
       "212 46.38460 41.81870 51.209800 45.77810\n",
       "207 50.09440 58.25430 53.513400 59.47150\n",
       "236 40.19290 43.66910 48.832700 47.91800\n",
       "221 49.92530 50.16080 51.147200 58.85560\n",
       "242 46.49160 42.11570 44.037600 49.91890\n",
       "264 58.41500 50.85860 60.945900 50.99520\n",
       "274 45.15690 42.88270 46.780700 44.16020\n",
       "250 39.81020 36.70640 47.602000 37.63700\n",
       "355 12.45300 17.47670 15.703200 14.95940\n",
       "338  8.86150  9.36671  6.214060  8.46026\n",
       "312  3.80988 10.08430  4.273510  7.15775\n",
       "307 12.19870 11.45260  5.871310  8.74893\n",
       "336 11.57280 13.83640 13.327800  5.21633\n",
       "321  2.67715  3.55312  1.740310 -1.47968\n",
       "342 -3.78936 -1.56456  0.526948  5.25399\n",
       "364 18.27200  9.33937 14.182200 19.09160\n",
       "374  5.90127 -1.51052 -0.971271  2.86561\n",
       "350 10.18620 12.14380  2.373110  9.61240\n",
       "455 45.47460 49.52650 53.652200 50.75700\n",
       "438 31.64510 38.98110 36.355800 39.47570\n",
       "412 45.36540 51.87510 53.967900 48.15230\n",
       "407 52.36530 50.30040 46.278600 51.80750\n",
       "436 35.38340 41.48220 40.198000 36.90950\n",
       "421 46.70220 43.96240 41.829200 46.14180\n",
       "442 34.61880 39.25830 43.876100 42.28340\n",
       "464 52.52820 53.57150 54.561900 55.11050\n",
       "474 40.07410 50.24570 40.494200 46.74720\n",
       "450 45.11420 47.77400 44.727500 45.64340\n",
       "555 19.27110 22.25880 18.028500 20.13590\n",
       "538 15.02730 14.67960 12.740300 21.66960\n",
       "512 17.53830 19.04530 13.937700 16.06680\n",
       "507 23.76810 19.32290 22.432900 24.07990\n",
       "536 10.52290 15.78000 18.655000 13.96700\n",
       "521 13.61480 15.04960 18.882200 18.45480\n",
       "542 10.32790 15.31440 15.040400 10.53210\n",
       "564 20.17010  9.54309  9.722660  9.80308\n",
       "574  6.18927  9.16926 12.583300 11.52500\n",
       "550 13.16430 12.68580 20.456600 15.73670"
      ]
     },
     "metadata": {},
     "output_type": "display_data"
    }
   ],
   "source": [
    "d"
   ]
  },
  {
   "cell_type": "code",
   "execution_count": 51,
   "metadata": {},
   "outputs": [],
   "source": [
    "pattern <- c(rep('Normal',n),\n",
    "            rep('Cyclic',n),\n",
    "            rep('Increasing Trend',n),\n",
    "            rep('Decreasing trend',n),\n",
    "            rep('Upward Shift',n),\n",
    "            rep('Downward Shift',n))"
   ]
  },
  {
   "cell_type": "markdown",
   "metadata": {},
   "source": [
    "# Calculate Distances"
   ]
  },
  {
   "cell_type": "code",
   "execution_count": 53,
   "metadata": {},
   "outputs": [
    {
     "name": "stderr",
     "output_type": "stream",
     "text": [
      "also installing the dependency 'proxy'\n",
      "\n"
     ]
    },
    {
     "name": "stdout",
     "output_type": "stream",
     "text": [
      "package 'proxy' successfully unpacked and MD5 sums checked\n",
      "package 'dtw' successfully unpacked and MD5 sums checked\n",
      "\n",
      "The downloaded binary packages are in\n",
      "\tC:\\Users\\Microsoft\\AppData\\Local\\Temp\\RtmpeWeB0H\\downloaded_packages\n"
     ]
    }
   ],
   "source": [
    "install.packages(\"dtw\")"
   ]
  },
  {
   "cell_type": "code",
   "execution_count": 54,
   "metadata": {},
   "outputs": [
    {
     "name": "stderr",
     "output_type": "stream",
     "text": [
      "Warning message:\n",
      "\"package 'dtw' was built under R version 3.6.3\"Loading required package: proxy\n",
      "Warning message:\n",
      "\"package 'proxy' was built under R version 3.6.3\"\n",
      "Attaching package: 'proxy'\n",
      "\n",
      "The following objects are masked from 'package:stats':\n",
      "\n",
      "    as.dist, dist\n",
      "\n",
      "The following object is masked from 'package:base':\n",
      "\n",
      "    as.matrix\n",
      "\n",
      "Loaded dtw v1.22-3. See ?dtw for help, citation(\"dtw\") for use in publication.\n",
      "\n"
     ]
    }
   ],
   "source": [
    "library(dtw)"
   ]
  },
  {
   "cell_type": "code",
   "execution_count": 55,
   "metadata": {},
   "outputs": [],
   "source": [
    "distance <-dist(d,method = \"DTW\")"
   ]
  },
  {
   "cell_type": "code",
   "execution_count": 56,
   "metadata": {},
   "outputs": [],
   "source": [
    "hc <- hclust(distance,method = 'average')"
   ]
  },
  {
   "cell_type": "code",
   "execution_count": 58,
   "metadata": {},
   "outputs": [
    {
     "data": {
      "image/png": "[encoded data removed]",
      "text/plain": [
       "Plot with title \"Cluster Dendrogram\""
      ]
     },
     "metadata": {},
     "output_type": "display_data"
    }
   ],
   "source": [
    "plot(hc,labels = pattern,\n",
    "    cex = 0.7,\n",
    "    hang = -1,\n",
    "    col = 'blue')"
   ]
  },
  {
   "cell_type": "code",
   "execution_count": 60,
   "metadata": {},
   "outputs": [
    {
     "data": {
      "image/png": "[encoded data removed]",
      "text/plain": [
       "Plot with title \"Cluster Dendrogram\""
      ]
     },
     "metadata": {},
     "output_type": "display_data"
    }
   ],
   "source": [
    "plot(hc,labels = pattern,\n",
    "    cex = 0.7,\n",
    "    hang = -1,\n",
    "    col = 'blue')\n",
    "rect.hclust(hc,k = 4)"
   ]
  },
  {
   "cell_type": "markdown",
   "metadata": {},
   "source": [
    "# Classification"
   ]
  },
  {
   "cell_type": "code",
   "execution_count": 61,
   "metadata": {},
   "outputs": [],
   "source": [
    "pattern100 <- c(rep(\"Normal\",100),\n",
    "               rep(\"Cyclic\",100),\n",
    "               rep(\"Increasing trend\",100),\n",
    "               rep(\"Decreasing trend\",100),\n",
    "               rep(\"Upward Shift\",100),\n",
    "               rep(\"Downward Shift\",100))"
   ]
  },
  {
   "cell_type": "code",
   "execution_count": 62,
   "metadata": {},
   "outputs": [],
   "source": [
    "newdata <- data.frame(data,pattern100)"
   ]
  },
  {
   "cell_type": "code",
   "execution_count": 63,
   "metadata": {},
   "outputs": [
    {
     "name": "stdout",
     "output_type": "stream",
     "text": [
      "'data.frame':\t600 obs. of  61 variables:\n",
      " $ V1        : num  28.8 24.9 31.4 25.8 27.2 ...\n",
      " $ V2        : num  34.5 25.7 30.6 30.5 29.2 ...\n",
      " $ V3        : num  31.3 27.6 26.4 35.4 33.7 ...\n",
      " $ V4        : num  31.3 32.8 24.3 25.6 25.6 ...\n",
      " $ V5        : num  28.9 27.9 27.9 28 24.7 ...\n",
      " $ V6        : num  33.8 31.6 28.5 25.3 28.9 ...\n",
      " $ V7        : num  25.4 31.5 25 28.1 35.8 ...\n",
      " $ V8        : num  27.8 35.5 32.4 29.4 34.9 ...\n",
      " $ V9        : num  35.2 28 25.2 31.5 24.6 ...\n",
      " $ V10       : num  27.1 31.7 27.3 27.3 34.2 ...\n",
      " $ V11       : num  32.9 27.5 31.8 29 28 ...\n",
      " $ V12       : num  29.2 31.2 27.3 29 25.3 ...\n",
      " $ V13       : num  36 27.5 28.3 30 35.4 ...\n",
      " $ V14       : num  32.3 31.4 26.6 30.3 34.9 ...\n",
      " $ V15       : num  34.5 27.8 24 30.4 25.1 ...\n",
      " $ V16       : num  32.9 24.5 35.1 24.3 29.5 ...\n",
      " $ V17       : num  34.1 27.6 31.6 24.3 33.2 ...\n",
      " $ V18       : num  26.5 35.6 32.6 35.1 31.1 ...\n",
      " $ V19       : num  27.7 35.4 31 25.4 31.4 ...\n",
      " $ V20       : num  26.4 31.4 34.1 32.1 26.5 ...\n",
      " $ V21       : num  25.8 30.7 26.9 33.3 28.6 ...\n",
      " $ V22       : num  29.3 24.1 31.5 25 31.7 ...\n",
      " $ V23       : num  30.7 35.1 35 35.3 35.9 ...\n",
      " $ V24       : num  29.5 30.5 32.4 31.6 33 ...\n",
      " $ V25       : num  33 32 24.3 29.3 24.6 ...\n",
      " $ V26       : num  25 33.7 30.2 34.2 33.2 ...\n",
      " $ V27       : num  28.9 25.6 31.2 26.5 27.4 ...\n",
      " $ V28       : num  24.3 30.5 26.7 32.2 32.6 ...\n",
      " $ V29       : num  26.1 33.6 31.5 25.5 35.9 ...\n",
      " $ V30       : num  34.9 25.1 28.9 24.8 28 ...\n",
      " $ V31       : num  25 34.1 27.3 27.6 33.1 ...\n",
      " $ V32       : num  26.6 32.6 24.2 28.4 33.4 ...\n",
      " $ V33       : num  35.7 28.3 27 32.4 26.9 ...\n",
      " $ V34       : num  28.4 26.1 25.3 27 30.2 ...\n",
      " $ V35       : num  29.1 26.9 31.6 35.9 29.7 ...\n",
      " $ V36       : num  28.2 31.5 24.7 35.1 30.9 ...\n",
      " $ V37       : num  26.2 33.1 27.5 24.4 24.5 ...\n",
      " $ V38       : num  33.3 24.1 24.2 27.6 34 ...\n",
      " $ V39       : num  31 28.5 26.8 27.8 33.3 ...\n",
      " $ V40       : num  27 25.8 35.1 29.9 33.2 ...\n",
      " $ V41       : num  35.5 36 32.6 32.4 31.3 ...\n",
      " $ V42       : num  26.2 26.5 31.1 26.9 27.9 ...\n",
      " $ V43       : num  29 24.9 26.4 31.3 35.1 ...\n",
      " $ V44       : num  32 26 28.1 29.4 35.1 ...\n",
      " $ V45       : num  31.1 32.8 31.4 34.3 33.8 ...\n",
      " $ V46       : num  34.3 28.5 27.3 24.7 25.9 ...\n",
      " $ V47       : num  28.1 26.3 29.6 35.8 29.1 ...\n",
      " $ V48       : num  28.9 30.6 36 31.9 24.3 ...\n",
      " $ V49       : num  35.5 29 34.1 34.2 32.3 ...\n",
      " $ V50       : num  29.7 29.4 27.2 31.2 34.9 ...\n",
      " $ V51       : num  31.4 32.6 33.6 34.6 27.7 ...\n",
      " $ V52       : num  24.6 31 26.6 28.7 28 ...\n",
      " $ V53       : num  33.7 26.6 25.5 28.3 35.7 ...\n",
      " $ V54       : num  25 28.4 32.5 31.6 27.6 ...\n",
      " $ V55       : num  34.9 33.7 25.6 34.6 35.3 ...\n",
      " $ V56       : num  35 26.4 30 32.5 30 ...\n",
      " $ V57       : num  32.5 28.5 31.4 31 34.2 ...\n",
      " $ V58       : num  33.4 34.2 33.9 24.9 33.1 ...\n",
      " $ V59       : num  25.5 32.1 29.5 27.4 31.1 ...\n",
      " $ V60       : num  25.9 26.7 29.3 25.3 31 ...\n",
      " $ pattern100: Factor w/ 6 levels \"Cyclic\",\"Decreasing trend\",..: 5 5 5 5 5 5 5 5 5 5 ...\n"
     ]
    }
   ],
   "source": [
    "str(newdata)"
   ]
  },
  {
   "cell_type": "markdown",
   "metadata": {},
   "source": [
    "# Classification using Tree"
   ]
  },
  {
   "cell_type": "code",
   "execution_count": 64,
   "metadata": {},
   "outputs": [
    {
     "name": "stderr",
     "output_type": "stream",
     "text": [
      "Warning message:\n",
      "\"package 'party' was built under R version 3.6.3\"Loading required package: grid\n",
      "Loading required package: mvtnorm\n",
      "Warning message:\n",
      "\"package 'mvtnorm' was built under R version 3.6.3\"Loading required package: modeltools\n",
      "Warning message:\n",
      "\"package 'modeltools' was built under R version 3.6.3\"Loading required package: stats4\n",
      "Loading required package: strucchange\n",
      "Warning message:\n",
      "\"package 'strucchange' was built under R version 3.6.3\"Loading required package: zoo\n",
      "\n",
      "Attaching package: 'zoo'\n",
      "\n",
      "The following objects are masked from 'package:base':\n",
      "\n",
      "    as.Date, as.Date.numeric\n",
      "\n",
      "Loading required package: sandwich\n",
      "Warning message:\n",
      "\"package 'sandwich' was built under R version 3.6.3\""
     ]
    }
   ],
   "source": [
    "library(party)"
   ]
  },
  {
   "cell_type": "code",
   "execution_count": 69,
   "metadata": {},
   "outputs": [],
   "source": [
    "tree <- ctree(pattern100~.,newdata)"
   ]
  },
  {
   "cell_type": "code",
   "execution_count": 70,
   "metadata": {},
   "outputs": [
    {
     "data": {
      "text/plain": [
       "\n",
       "\t Conditional inference tree with 25 terminal nodes\n",
       "\n",
       "Response:  pattern100 \n",
       "Inputs:  V1, V2, V3, V4, V5, V6, V7, V8, V9, V10, V11, V12, V13, V14, V15, V16, V17, V18, V19, V20, V21, V22, V23, V24, V25, V26, V27, V28, V29, V30, V31, V32, V33, V34, V35, V36, V37, V38, V39, V40, V41, V42, V43, V44, V45, V46, V47, V48, V49, V50, V51, V52, V53, V54, V55, V56, V57, V58, V59, V60 \n",
       "Number of observations:  600 \n",
       "\n",
       "1) V59 <= 45.6952; criterion = 1, statistic = 510.323\n",
       "  2) V59 <= 35.9324; criterion = 1, statistic = 382.48\n",
       "    3) V59 <= 23.9595; criterion = 1, statistic = 264.546\n",
       "      4) V54 <= 27.3847; criterion = 1, statistic = 149.907\n",
       "        5) V19 <= 35.1025; criterion = 1, statistic = 97.167\n",
       "          6) V16 <= 24.8534; criterion = 1, statistic = 77.304\n",
       "            7) V8 <= 31.5525; criterion = 0.961, statistic = 11.609\n",
       "              8)*  weights = 54 \n",
       "            7) V8 > 31.5525\n",
       "              9)*  weights = 7 \n",
       "          6) V16 > 24.8534\n",
       "            10) V19 <= 23.9112; criterion = 1, statistic = 48.619\n",
       "              11)*  weights = 21 \n",
       "            10) V19 > 23.9112\n",
       "              12) V17 <= 24.8025; criterion = 1, statistic = 22.548\n",
       "                13)*  weights = 11 \n",
       "              12) V17 > 24.8025\n",
       "                14) V20 <= 24.0984; criterion = 0.994, statistic = 15.014\n",
       "                  15)*  weights = 7 \n",
       "                14) V20 > 24.0984\n",
       "                  16) V13 <= 24.2266; criterion = 0.985, statistic = 13.343\n",
       "                    17)*  weights = 7 \n",
       "                  16) V13 > 24.2266\n",
       "                    18) V57 <= 10.1064; criterion = 0.977, statistic = 12.573\n",
       "                      19)*  weights = 7 \n",
       "                    18) V57 > 10.1064\n",
       "                      20)*  weights = 76 \n",
       "        5) V19 > 35.1025\n",
       "          21)*  weights = 7 \n",
       "      4) V54 > 27.3847\n",
       "        22)*  weights = 21 \n",
       "    3) V59 > 23.9595\n",
       "      23) V4 <= 36.0264; criterion = 1, statistic = 112.745\n",
       "        24) V51 <= 22.3131; criterion = 1, statistic = 56.717\n",
       "          25)*  weights = 7 \n",
       "        24) V51 > 22.3131\n",
       "          26) V60 <= 35.4907; criterion = 1, statistic = 33.063\n",
       "            27) V41 <= 35.2384; criterion = 0.997, statistic = 16.711\n",
       "              28)*  weights = 91 \n",
       "            27) V41 > 35.2384\n",
       "              29)*  weights = 7 \n",
       "          26) V60 > 35.4907\n",
       "            30)*  weights = 7 \n",
       "      23) V4 > 36.0264\n",
       "        31)*  weights = 41 \n",
       "  2) V59 > 35.9324\n",
       "    32) V54 <= 32.3239; criterion = 1, statistic = 92.267\n",
       "      33)*  weights = 31 \n",
       "    32) V54 > 32.3239\n",
       "      34) V19 <= 35.9115; criterion = 1, statistic = 32.264\n",
       "        35) V15 <= 35.9747; criterion = 1, statistic = 21.416\n",
       "          36)*  weights = 62 \n",
       "        35) V15 > 35.9747\n",
       "          37)*  weights = 7 \n",
       "      34) V19 > 35.9115\n",
       "        38)*  weights = 13 \n",
       "1) V59 > 45.6952\n",
       "  39) V20 <= 32.8423; criterion = 1, statistic = 57.208\n",
       "    40) V41 <= 41.5426; criterion = 1, statistic = 25.128\n",
       "      41)*  weights = 9 \n",
       "    40) V41 > 41.5426\n",
       "      42) V57 <= 51.2746; criterion = 0.973, statistic = 12.286\n",
       "        43)*  weights = 25 \n",
       "      42) V57 > 51.2746\n",
       "        44)*  weights = 7 \n",
       "  39) V20 > 32.8423\n",
       "    45) V39 <= 38.2428; criterion = 1, statistic = 34.564\n",
       "      46)*  weights = 7 \n",
       "    45) V39 > 38.2428\n",
       "      47) V15 <= 30.4466; criterion = 0.959, statistic = 11.478\n",
       "        48)*  weights = 7 \n",
       "      47) V15 > 30.4466\n",
       "        49)*  weights = 61 "
      ]
     },
     "metadata": {},
     "output_type": "display_data"
    }
   ],
   "source": [
    "tree"
   ]
  },
  {
   "cell_type": "code",
   "execution_count": 75,
   "metadata": {},
   "outputs": [],
   "source": [
    "tab<- table(Predicted = predict(tree,newdata),Actual = newdata$pattern100)"
   ]
  },
  {
   "cell_type": "code",
   "execution_count": 76,
   "metadata": {},
   "outputs": [
    {
     "data": {
      "text/plain": [
       "                  Actual\n",
       "Predicted          Cyclic Decreasing trend Downward Shift Increasing trend\n",
       "  Cyclic               97                0              3                0\n",
       "  Decreasing trend      0               99              8                0\n",
       "  Downward Shift        0                1             89                0\n",
       "  Increasing trend      2                0              0               96\n",
       "  Normal                1                0              0                0\n",
       "  Upward Shift          0                0              0                4\n",
       "                  Actual\n",
       "Predicted          Normal Upward Shift\n",
       "  Cyclic                0            0\n",
       "  Decreasing trend      0            0\n",
       "  Downward Shift        0            0\n",
       "  Increasing trend      0            6\n",
       "  Normal              100            4\n",
       "  Upward Shift          0           90"
      ]
     },
     "metadata": {},
     "output_type": "display_data"
    }
   ],
   "source": [
    "tab"
   ]
  },
  {
   "cell_type": "code",
   "execution_count": 77,
   "metadata": {},
   "outputs": [
    {
     "data": {
      "text/html": [
       "0.951666666666667"
      ],
      "text/latex": [
       "0.951666666666667"
      ],
      "text/markdown": [
       "0.951666666666667"
      ],
      "text/plain": [
       "[1] 0.9516667"
      ]
     },
     "metadata": {},
     "output_type": "display_data"
    }
   ],
   "source": [
    "sum(diag(tab))/sum(tab)"
   ]
  },
  {
   "cell_type": "code",
   "execution_count": 78,
   "metadata": {},
   "outputs": [
    {
     "data": {
      "image/png": "[encoded data removed]",
      "text/plain": [
       "plot without title"
      ]
     },
     "metadata": {},
     "output_type": "display_data"
    }
   ],
   "source": [
    "plot(tree)"
   ]
  },
  {
   "cell_type": "code",
   "execution_count": null,
   "metadata": {},
   "outputs": [],
   "source": []
  }
 ],
 "metadata": {
  "kernelspec": {
   "display_name": "R",
   "language": "R",
   "name": "ir"
  },
  "language_info": {
   "codemirror_mode": "r",
   "file_extension": ".r",
   "mimetype": "text/x-r-source",
   "name": "R",
   "pygments_lexer": "r",
   "version": "3.6.1"
  }
 },
 "nbformat": 4,
 "nbformat_minor": 2
}
