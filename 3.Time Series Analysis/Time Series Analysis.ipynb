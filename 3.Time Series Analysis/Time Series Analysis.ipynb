{
 "cells": [
  {
   "cell_type": "markdown",
   "metadata": {},
   "source": [
    "# Time Series Analysis"
   ]
  },
  {
   "cell_type": "code",
   "execution_count": 1,
   "metadata": {},
   "outputs": [],
   "source": [
    "kings <- scan(\"http://robjhyndman.com/tsdldata/misc/kings.dat\",skip=3)"
   ]
  },
  {
   "cell_type": "code",
   "execution_count": 2,
   "metadata": {},
   "outputs": [
    {
     "data": {
      "text/html": [
       "<ol class=list-inline>\n",
       "\t<li>60</li>\n",
       "\t<li>43</li>\n",
       "\t<li>67</li>\n",
       "\t<li>50</li>\n",
       "\t<li>56</li>\n",
       "\t<li>42</li>\n",
       "\t<li>50</li>\n",
       "\t<li>65</li>\n",
       "\t<li>68</li>\n",
       "\t<li>43</li>\n",
       "\t<li>65</li>\n",
       "\t<li>34</li>\n",
       "\t<li>47</li>\n",
       "\t<li>34</li>\n",
       "\t<li>49</li>\n",
       "\t<li>41</li>\n",
       "\t<li>13</li>\n",
       "\t<li>35</li>\n",
       "\t<li>53</li>\n",
       "\t<li>56</li>\n",
       "\t<li>16</li>\n",
       "\t<li>43</li>\n",
       "\t<li>69</li>\n",
       "\t<li>59</li>\n",
       "\t<li>48</li>\n",
       "\t<li>59</li>\n",
       "\t<li>86</li>\n",
       "\t<li>55</li>\n",
       "\t<li>68</li>\n",
       "\t<li>51</li>\n",
       "\t<li>33</li>\n",
       "\t<li>49</li>\n",
       "\t<li>67</li>\n",
       "\t<li>77</li>\n",
       "\t<li>81</li>\n",
       "\t<li>67</li>\n",
       "\t<li>71</li>\n",
       "\t<li>81</li>\n",
       "\t<li>68</li>\n",
       "\t<li>70</li>\n",
       "\t<li>77</li>\n",
       "\t<li>56</li>\n",
       "</ol>\n"
      ],
      "text/latex": [
       "\\begin{enumerate*}\n",
       "\\item 60\n",
       "\\item 43\n",
       "\\item 67\n",
       "\\item 50\n",
       "\\item 56\n",
       "\\item 42\n",
       "\\item 50\n",
       "\\item 65\n",
       "\\item 68\n",
       "\\item 43\n",
       "\\item 65\n",
       "\\item 34\n",
       "\\item 47\n",
       "\\item 34\n",
       "\\item 49\n",
       "\\item 41\n",
       "\\item 13\n",
       "\\item 35\n",
       "\\item 53\n",
       "\\item 56\n",
       "\\item 16\n",
       "\\item 43\n",
       "\\item 69\n",
       "\\item 59\n",
       "\\item 48\n",
       "\\item 59\n",
       "\\item 86\n",
       "\\item 55\n",
       "\\item 68\n",
       "\\item 51\n",
       "\\item 33\n",
       "\\item 49\n",
       "\\item 67\n",
       "\\item 77\n",
       "\\item 81\n",
       "\\item 67\n",
       "\\item 71\n",
       "\\item 81\n",
       "\\item 68\n",
       "\\item 70\n",
       "\\item 77\n",
       "\\item 56\n",
       "\\end{enumerate*}\n"
      ],
      "text/markdown": [
       "1. 60\n",
       "2. 43\n",
       "3. 67\n",
       "4. 50\n",
       "5. 56\n",
       "6. 42\n",
       "7. 50\n",
       "8. 65\n",
       "9. 68\n",
       "10. 43\n",
       "11. 65\n",
       "12. 34\n",
       "13. 47\n",
       "14. 34\n",
       "15. 49\n",
       "16. 41\n",
       "17. 13\n",
       "18. 35\n",
       "19. 53\n",
       "20. 56\n",
       "21. 16\n",
       "22. 43\n",
       "23. 69\n",
       "24. 59\n",
       "25. 48\n",
       "26. 59\n",
       "27. 86\n",
       "28. 55\n",
       "29. 68\n",
       "30. 51\n",
       "31. 33\n",
       "32. 49\n",
       "33. 67\n",
       "34. 77\n",
       "35. 81\n",
       "36. 67\n",
       "37. 71\n",
       "38. 81\n",
       "39. 68\n",
       "40. 70\n",
       "41. 77\n",
       "42. 56\n",
       "\n",
       "\n"
      ],
      "text/plain": [
       " [1] 60 43 67 50 56 42 50 65 68 43 65 34 47 34 49 41 13 35 53 56 16 43 69 59 48\n",
       "[26] 59 86 55 68 51 33 49 67 77 81 67 71 81 68 70 77 56"
      ]
     },
     "metadata": {},
     "output_type": "display_data"
    }
   ],
   "source": [
    "kings"
   ]
  },
  {
   "cell_type": "markdown",
   "metadata": {},
   "source": [
    "Once you have read the time series data into R, the next step is to store the data in a time series object in R, so that you can use R’s many functions for analysing time series data. To store the data in a time series object, we use the **ts()** function in R."
   ]
  },
  {
   "cell_type": "code",
   "execution_count": 3,
   "metadata": {},
   "outputs": [],
   "source": [
    "kingtimeseries <- ts(kings)"
   ]
  },
  {
   "cell_type": "code",
   "execution_count": 4,
   "metadata": {},
   "outputs": [
    {
     "name": "stderr",
     "output_type": "stream",
     "text": [
      "ERROR while rich displaying an object: Error in if (many_rows) {: argument is of length zero\n",
      "\n",
      "Traceback:\n",
      "1. FUN(X[[i]], ...)\n",
      "2. tryCatch(withCallingHandlers({\n",
      " .     if (!mime %in% names(repr::mime2repr)) \n",
      " .         stop(\"No repr_* for mimetype \", mime, \" in repr::mime2repr\")\n",
      " .     rpr <- repr::mime2repr[[mime]](obj)\n",
      " .     if (is.null(rpr)) \n",
      " .         return(NULL)\n",
      " .     prepare_content(is.raw(rpr), rpr)\n",
      " . }, error = error_handler), error = outer_handler)\n",
      "3. tryCatchList(expr, classes, parentenv, handlers)\n",
      "4. tryCatchOne(expr, names, parentenv, handlers[[1L]])\n",
      "5. doTryCatch(return(expr), name, parentenv, handler)\n",
      "6. withCallingHandlers({\n",
      " .     if (!mime %in% names(repr::mime2repr)) \n",
      " .         stop(\"No repr_* for mimetype \", mime, \" in repr::mime2repr\")\n",
      " .     rpr <- repr::mime2repr[[mime]](obj)\n",
      " .     if (is.null(rpr)) \n",
      " .         return(NULL)\n",
      " .     prepare_content(is.raw(rpr), rpr)\n",
      " . }, error = error_handler)\n",
      "7. repr::mime2repr[[mime]](obj)\n",
      "8. repr_text.ts(obj)\n",
      "9. repr_ts_generic(obj, repr_text.matrix, ...)\n",
      "10. repr_func(m, ..., rows = nrow(m), cols = ncol(m))\n",
      "11. ellip_limit_arr(obj, ...)\n",
      "12. arr_partition(a, rows, cols)\n"
     ]
    }
   ],
   "source": [
    "kingtimeseries"
   ]
  },
  {
   "cell_type": "code",
   "execution_count": 5,
   "metadata": {},
   "outputs": [],
   "source": [
    "births <- scan(\"http://robjhyndman.com/tsdldata/data/nybirths.dat\")"
   ]
  },
  {
   "cell_type": "code",
   "execution_count": 6,
   "metadata": {},
   "outputs": [
    {
     "data": {
      "text/html": [
       "<ol class=list-inline>\n",
       "\t<li>26.663</li>\n",
       "\t<li>23.598</li>\n",
       "\t<li>26.931</li>\n",
       "\t<li>24.74</li>\n",
       "\t<li>25.806</li>\n",
       "\t<li>24.364</li>\n",
       "</ol>\n"
      ],
      "text/latex": [
       "\\begin{enumerate*}\n",
       "\\item 26.663\n",
       "\\item 23.598\n",
       "\\item 26.931\n",
       "\\item 24.74\n",
       "\\item 25.806\n",
       "\\item 24.364\n",
       "\\end{enumerate*}\n"
      ],
      "text/markdown": [
       "1. 26.663\n",
       "2. 23.598\n",
       "3. 26.931\n",
       "4. 24.74\n",
       "5. 25.806\n",
       "6. 24.364\n",
       "\n",
       "\n"
      ],
      "text/plain": [
       "[1] 26.663 23.598 26.931 24.740 25.806 24.364"
      ]
     },
     "metadata": {},
     "output_type": "display_data"
    }
   ],
   "source": [
    "head(births)"
   ]
  },
  {
   "cell_type": "code",
   "execution_count": 7,
   "metadata": {},
   "outputs": [],
   "source": [
    "birthstimeseries <- ts(births, frequency=12, start=c(1946,1))"
   ]
  },
  {
   "cell_type": "code",
   "execution_count": 8,
   "metadata": {},
   "outputs": [
    {
     "name": "stderr",
     "output_type": "stream",
     "text": [
      "ERROR while rich displaying an object: Error in repr_matrix_generic(obj, \"\\n%s%s\\n\", sprintf(\"|%%s\\n|%s|\\n\", : formal argument \"cols\" matched by multiple actual arguments\n",
      "\n",
      "Traceback:\n",
      "1. FUN(X[[i]], ...)\n",
      "2. tryCatch(withCallingHandlers({\n",
      " .     if (!mime %in% names(repr::mime2repr)) \n",
      " .         stop(\"No repr_* for mimetype \", mime, \" in repr::mime2repr\")\n",
      " .     rpr <- repr::mime2repr[[mime]](obj)\n",
      " .     if (is.null(rpr)) \n",
      " .         return(NULL)\n",
      " .     prepare_content(is.raw(rpr), rpr)\n",
      " . }, error = error_handler), error = outer_handler)\n",
      "3. tryCatchList(expr, classes, parentenv, handlers)\n",
      "4. tryCatchOne(expr, names, parentenv, handlers[[1L]])\n",
      "5. doTryCatch(return(expr), name, parentenv, handler)\n",
      "6. withCallingHandlers({\n",
      " .     if (!mime %in% names(repr::mime2repr)) \n",
      " .         stop(\"No repr_* for mimetype \", mime, \" in repr::mime2repr\")\n",
      " .     rpr <- repr::mime2repr[[mime]](obj)\n",
      " .     if (is.null(rpr)) \n",
      " .         return(NULL)\n",
      " .     prepare_content(is.raw(rpr), rpr)\n",
      " . }, error = error_handler)\n",
      "7. repr::mime2repr[[mime]](obj)\n",
      "8. repr_markdown.ts(obj)\n",
      "9. repr_ts_generic(obj, repr_markdown.matrix, ...)\n",
      "10. repr_func(m, ..., rows = nrow(m), cols = ncol(m))\n"
     ]
    },
    {
     "data": {
      "text/html": [
       "<table>\n",
       "<thead><tr><th></th><th scope=col>Jan</th><th scope=col>Feb</th><th scope=col>Mar</th><th scope=col>Apr</th><th scope=col>May</th><th scope=col>Jun</th><th scope=col>Jul</th><th scope=col>Aug</th><th scope=col>Sep</th><th scope=col>Oct</th><th scope=col>Nov</th><th scope=col>Dec</th></tr></thead>\n",
       "<tbody>\n",
       "\t<tr><th scope=row>1946</th><td>26.663</td><td>23.598</td><td>26.931</td><td>24.740</td><td>25.806</td><td>24.364</td><td>24.477</td><td>23.901</td><td>23.175</td><td>23.227</td><td>21.672</td><td>21.870</td></tr>\n",
       "\t<tr><th scope=row>1947</th><td>21.439</td><td>21.089</td><td>23.709</td><td>21.669</td><td>21.752</td><td>20.761</td><td>23.479</td><td>23.824</td><td>23.105</td><td>23.110</td><td>21.759</td><td>22.073</td></tr>\n",
       "\t<tr><th scope=row>1948</th><td>21.937</td><td>20.035</td><td>23.590</td><td>21.672</td><td>22.222</td><td>22.123</td><td>23.950</td><td>23.504</td><td>22.238</td><td>23.142</td><td>21.059</td><td>21.573</td></tr>\n",
       "\t<tr><th scope=row>1949</th><td>21.548</td><td>20.000</td><td>22.424</td><td>20.615</td><td>21.761</td><td>22.874</td><td>24.104</td><td>23.748</td><td>23.262</td><td>22.907</td><td>21.519</td><td>22.025</td></tr>\n",
       "\t<tr><th scope=row>1950</th><td>22.604</td><td>20.894</td><td>24.677</td><td>23.673</td><td>25.320</td><td>23.583</td><td>24.671</td><td>24.454</td><td>24.122</td><td>24.252</td><td>22.084</td><td>22.991</td></tr>\n",
       "\t<tr><th scope=row>1951</th><td>23.287</td><td>23.049</td><td>25.076</td><td>24.037</td><td>24.430</td><td>24.667</td><td>26.451</td><td>25.618</td><td>25.014</td><td>25.110</td><td>22.964</td><td>23.981</td></tr>\n",
       "\t<tr><th scope=row>1952</th><td>23.798</td><td>22.270</td><td>24.775</td><td>22.646</td><td>23.988</td><td>24.737</td><td>26.276</td><td>25.816</td><td>25.210</td><td>25.199</td><td>23.162</td><td>24.707</td></tr>\n",
       "\t<tr><th scope=row>1953</th><td>24.364</td><td>22.644</td><td>25.565</td><td>24.062</td><td>25.431</td><td>24.635</td><td>27.009</td><td>26.606</td><td>26.268</td><td>26.462</td><td>25.246</td><td>25.180</td></tr>\n",
       "\t<tr><th scope=row>1954</th><td>24.657</td><td>23.304</td><td>26.982</td><td>26.199</td><td>27.210</td><td>26.122</td><td>26.706</td><td>26.878</td><td>26.152</td><td>26.379</td><td>24.712</td><td>25.688</td></tr>\n",
       "\t<tr><th scope=row>1955</th><td>24.990</td><td>24.239</td><td>26.721</td><td>23.475</td><td>24.767</td><td>26.219</td><td>28.361</td><td>28.599</td><td>27.914</td><td>27.784</td><td>25.693</td><td>26.881</td></tr>\n",
       "\t<tr><th scope=row>1956</th><td>26.217</td><td>24.218</td><td>27.914</td><td>26.975</td><td>28.527</td><td>27.139</td><td>28.982</td><td>28.169</td><td>28.056</td><td>29.136</td><td>26.291</td><td>26.987</td></tr>\n",
       "\t<tr><th scope=row>1957</th><td>26.589</td><td>24.848</td><td>27.543</td><td>26.896</td><td>28.878</td><td>27.390</td><td>28.065</td><td>28.141</td><td>29.048</td><td>28.484</td><td>26.634</td><td>27.735</td></tr>\n",
       "\t<tr><th scope=row>1958</th><td>27.132</td><td>24.924</td><td>28.963</td><td>26.589</td><td>27.931</td><td>28.009</td><td>29.229</td><td>28.759</td><td>28.405</td><td>27.945</td><td>25.912</td><td>26.619</td></tr>\n",
       "\t<tr><th scope=row>1959</th><td>26.076</td><td>25.286</td><td>27.660</td><td>25.951</td><td>26.398</td><td>25.565</td><td>28.865</td><td>30.000</td><td>29.261</td><td>29.012</td><td>26.992</td><td>27.897</td></tr>\n",
       "</tbody>\n",
       "</table>\n"
      ],
      "text/latex": [
       "\\begin{tabular}{r|llllllllllll}\n",
       "  & Jan & Feb & Mar & Apr & May & Jun & Jul & Aug & Sep & Oct & Nov & Dec\\\\\n",
       "\\hline\n",
       "\t1946 & 26.663 & 23.598 & 26.931 & 24.740 & 25.806 & 24.364 & 24.477 & 23.901 & 23.175 & 23.227 & 21.672 & 21.870\\\\\n",
       "\t1947 & 21.439 & 21.089 & 23.709 & 21.669 & 21.752 & 20.761 & 23.479 & 23.824 & 23.105 & 23.110 & 21.759 & 22.073\\\\\n",
       "\t1948 & 21.937 & 20.035 & 23.590 & 21.672 & 22.222 & 22.123 & 23.950 & 23.504 & 22.238 & 23.142 & 21.059 & 21.573\\\\\n",
       "\t1949 & 21.548 & 20.000 & 22.424 & 20.615 & 21.761 & 22.874 & 24.104 & 23.748 & 23.262 & 22.907 & 21.519 & 22.025\\\\\n",
       "\t1950 & 22.604 & 20.894 & 24.677 & 23.673 & 25.320 & 23.583 & 24.671 & 24.454 & 24.122 & 24.252 & 22.084 & 22.991\\\\\n",
       "\t1951 & 23.287 & 23.049 & 25.076 & 24.037 & 24.430 & 24.667 & 26.451 & 25.618 & 25.014 & 25.110 & 22.964 & 23.981\\\\\n",
       "\t1952 & 23.798 & 22.270 & 24.775 & 22.646 & 23.988 & 24.737 & 26.276 & 25.816 & 25.210 & 25.199 & 23.162 & 24.707\\\\\n",
       "\t1953 & 24.364 & 22.644 & 25.565 & 24.062 & 25.431 & 24.635 & 27.009 & 26.606 & 26.268 & 26.462 & 25.246 & 25.180\\\\\n",
       "\t1954 & 24.657 & 23.304 & 26.982 & 26.199 & 27.210 & 26.122 & 26.706 & 26.878 & 26.152 & 26.379 & 24.712 & 25.688\\\\\n",
       "\t1955 & 24.990 & 24.239 & 26.721 & 23.475 & 24.767 & 26.219 & 28.361 & 28.599 & 27.914 & 27.784 & 25.693 & 26.881\\\\\n",
       "\t1956 & 26.217 & 24.218 & 27.914 & 26.975 & 28.527 & 27.139 & 28.982 & 28.169 & 28.056 & 29.136 & 26.291 & 26.987\\\\\n",
       "\t1957 & 26.589 & 24.848 & 27.543 & 26.896 & 28.878 & 27.390 & 28.065 & 28.141 & 29.048 & 28.484 & 26.634 & 27.735\\\\\n",
       "\t1958 & 27.132 & 24.924 & 28.963 & 26.589 & 27.931 & 28.009 & 29.229 & 28.759 & 28.405 & 27.945 & 25.912 & 26.619\\\\\n",
       "\t1959 & 26.076 & 25.286 & 27.660 & 25.951 & 26.398 & 25.565 & 28.865 & 30.000 & 29.261 & 29.012 & 26.992 & 27.897\\\\\n",
       "\\end{tabular}\n"
      ],
      "text/plain": [
       "     Jan    Feb    Mar    Apr    May    Jun    Jul    Aug    Sep    Oct   \n",
       "1946 26.663 23.598 26.931 24.740 25.806 24.364 24.477 23.901 23.175 23.227\n",
       "1947 21.439 21.089 23.709 21.669 21.752 20.761 23.479 23.824 23.105 23.110\n",
       "1948 21.937 20.035 23.590 21.672 22.222 22.123 23.950 23.504 22.238 23.142\n",
       "1949 21.548 20.000 22.424 20.615 21.761 22.874 24.104 23.748 23.262 22.907\n",
       "1950 22.604 20.894 24.677 23.673 25.320 23.583 24.671 24.454 24.122 24.252\n",
       "1951 23.287 23.049 25.076 24.037 24.430 24.667 26.451 25.618 25.014 25.110\n",
       "1952 23.798 22.270 24.775 22.646 23.988 24.737 26.276 25.816 25.210 25.199\n",
       "1953 24.364 22.644 25.565 24.062 25.431 24.635 27.009 26.606 26.268 26.462\n",
       "1954 24.657 23.304 26.982 26.199 27.210 26.122 26.706 26.878 26.152 26.379\n",
       "1955 24.990 24.239 26.721 23.475 24.767 26.219 28.361 28.599 27.914 27.784\n",
       "1956 26.217 24.218 27.914 26.975 28.527 27.139 28.982 28.169 28.056 29.136\n",
       "1957 26.589 24.848 27.543 26.896 28.878 27.390 28.065 28.141 29.048 28.484\n",
       "1958 27.132 24.924 28.963 26.589 27.931 28.009 29.229 28.759 28.405 27.945\n",
       "1959 26.076 25.286 27.660 25.951 26.398 25.565 28.865 30.000 29.261 29.012\n",
       "     Nov    Dec   \n",
       "1946 21.672 21.870\n",
       "1947 21.759 22.073\n",
       "1948 21.059 21.573\n",
       "1949 21.519 22.025\n",
       "1950 22.084 22.991\n",
       "1951 22.964 23.981\n",
       "1952 23.162 24.707\n",
       "1953 25.246 25.180\n",
       "1954 24.712 25.688\n",
       "1955 25.693 26.881\n",
       "1956 26.291 26.987\n",
       "1957 26.634 27.735\n",
       "1958 25.912 26.619\n",
       "1959 26.992 27.897"
      ]
     },
     "metadata": {},
     "output_type": "display_data"
    }
   ],
   "source": [
    "birthstimeseries"
   ]
  },
  {
   "cell_type": "code",
   "execution_count": 9,
   "metadata": {},
   "outputs": [],
   "source": [
    "souvenir <- scan(\"http://robjhyndman.com/tsdldata/data/fancy.dat\")"
   ]
  },
  {
   "cell_type": "code",
   "execution_count": 10,
   "metadata": {},
   "outputs": [],
   "source": [
    "souvenirtimeseries <- ts(souvenir,frequency = 12,start=c(1987,1))"
   ]
  },
  {
   "cell_type": "code",
   "execution_count": 11,
   "metadata": {},
   "outputs": [
    {
     "name": "stderr",
     "output_type": "stream",
     "text": [
      "ERROR while rich displaying an object: Error in repr_matrix_generic(obj, \"\\n%s%s\\n\", sprintf(\"|%%s\\n|%s|\\n\", : formal argument \"cols\" matched by multiple actual arguments\n",
      "\n",
      "Traceback:\n",
      "1. FUN(X[[i]], ...)\n",
      "2. tryCatch(withCallingHandlers({\n",
      " .     if (!mime %in% names(repr::mime2repr)) \n",
      " .         stop(\"No repr_* for mimetype \", mime, \" in repr::mime2repr\")\n",
      " .     rpr <- repr::mime2repr[[mime]](obj)\n",
      " .     if (is.null(rpr)) \n",
      " .         return(NULL)\n",
      " .     prepare_content(is.raw(rpr), rpr)\n",
      " . }, error = error_handler), error = outer_handler)\n",
      "3. tryCatchList(expr, classes, parentenv, handlers)\n",
      "4. tryCatchOne(expr, names, parentenv, handlers[[1L]])\n",
      "5. doTryCatch(return(expr), name, parentenv, handler)\n",
      "6. withCallingHandlers({\n",
      " .     if (!mime %in% names(repr::mime2repr)) \n",
      " .         stop(\"No repr_* for mimetype \", mime, \" in repr::mime2repr\")\n",
      " .     rpr <- repr::mime2repr[[mime]](obj)\n",
      " .     if (is.null(rpr)) \n",
      " .         return(NULL)\n",
      " .     prepare_content(is.raw(rpr), rpr)\n",
      " . }, error = error_handler)\n",
      "7. repr::mime2repr[[mime]](obj)\n",
      "8. repr_markdown.ts(obj)\n",
      "9. repr_ts_generic(obj, repr_markdown.matrix, ...)\n",
      "10. repr_func(m, ..., rows = nrow(m), cols = ncol(m))\n"
     ]
    },
    {
     "data": {
      "text/html": [
       "<table>\n",
       "<thead><tr><th></th><th scope=col>Jan</th><th scope=col>Feb</th><th scope=col>Mar</th><th scope=col>Apr</th><th scope=col>May</th><th scope=col>Jun</th><th scope=col>Jul</th><th scope=col>Aug</th><th scope=col>Sep</th><th scope=col>Oct</th><th scope=col>Nov</th><th scope=col>Dec</th></tr></thead>\n",
       "<tbody>\n",
       "\t<tr><th scope=row>1987</th><td>  1664.81</td><td>  2397.53</td><td>  2840.71</td><td>  3547.29</td><td>  3752.96</td><td>  3714.74</td><td>  4349.61</td><td>  3566.34</td><td>  5021.82</td><td>  6423.48</td><td>  7600.60</td><td> 19756.21</td></tr>\n",
       "\t<tr><th scope=row>1988</th><td>  2499.81</td><td>  5198.24</td><td>  7225.14</td><td>  4806.03</td><td>  5900.88</td><td>  4951.34</td><td>  6179.12</td><td>  4752.15</td><td>  5496.43</td><td>  5835.10</td><td> 12600.08</td><td> 28541.72</td></tr>\n",
       "\t<tr><th scope=row>1989</th><td>  4717.02</td><td>  5702.63</td><td>  9957.58</td><td>  5304.78</td><td>  6492.43</td><td>  6630.80</td><td>  7349.62</td><td>  8176.62</td><td>  8573.17</td><td>  9690.50</td><td> 15151.84</td><td> 34061.01</td></tr>\n",
       "\t<tr><th scope=row>1990</th><td>  5921.10</td><td>  5814.58</td><td> 12421.25</td><td>  6369.77</td><td>  7609.12</td><td>  7224.75</td><td>  8121.22</td><td>  7979.25</td><td>  8093.06</td><td>  8476.70</td><td> 17914.66</td><td> 30114.41</td></tr>\n",
       "\t<tr><th scope=row>1991</th><td>  4826.64</td><td>  6470.23</td><td>  9638.77</td><td>  8821.17</td><td>  8722.37</td><td> 10209.48</td><td> 11276.55</td><td> 12552.22</td><td> 11637.39</td><td> 13606.89</td><td> 21822.11</td><td> 45060.69</td></tr>\n",
       "\t<tr><th scope=row>1992</th><td>  7615.03</td><td>  9849.69</td><td> 14558.40</td><td> 11587.33</td><td>  9332.56</td><td> 13082.09</td><td> 16732.78</td><td> 19888.61</td><td> 23933.38</td><td> 25391.35</td><td> 36024.80</td><td> 80721.71</td></tr>\n",
       "\t<tr><th scope=row>1993</th><td> 10243.24</td><td> 11266.88</td><td> 21826.84</td><td> 17357.33</td><td> 15997.79</td><td> 18601.53</td><td> 26155.15</td><td> 28586.52</td><td> 30505.41</td><td> 30821.33</td><td> 46634.38</td><td>104660.67</td></tr>\n",
       "</tbody>\n",
       "</table>\n"
      ],
      "text/latex": [
       "\\begin{tabular}{r|llllllllllll}\n",
       "  & Jan & Feb & Mar & Apr & May & Jun & Jul & Aug & Sep & Oct & Nov & Dec\\\\\n",
       "\\hline\n",
       "\t1987 &   1664.81 &   2397.53 &   2840.71 &   3547.29 &   3752.96 &   3714.74 &   4349.61 &   3566.34 &   5021.82 &   6423.48 &   7600.60 &  19756.21\\\\\n",
       "\t1988 &   2499.81 &   5198.24 &   7225.14 &   4806.03 &   5900.88 &   4951.34 &   6179.12 &   4752.15 &   5496.43 &   5835.10 &  12600.08 &  28541.72\\\\\n",
       "\t1989 &   4717.02 &   5702.63 &   9957.58 &   5304.78 &   6492.43 &   6630.80 &   7349.62 &   8176.62 &   8573.17 &   9690.50 &  15151.84 &  34061.01\\\\\n",
       "\t1990 &   5921.10 &   5814.58 &  12421.25 &   6369.77 &   7609.12 &   7224.75 &   8121.22 &   7979.25 &   8093.06 &   8476.70 &  17914.66 &  30114.41\\\\\n",
       "\t1991 &   4826.64 &   6470.23 &   9638.77 &   8821.17 &   8722.37 &  10209.48 &  11276.55 &  12552.22 &  11637.39 &  13606.89 &  21822.11 &  45060.69\\\\\n",
       "\t1992 &   7615.03 &   9849.69 &  14558.40 &  11587.33 &   9332.56 &  13082.09 &  16732.78 &  19888.61 &  23933.38 &  25391.35 &  36024.80 &  80721.71\\\\\n",
       "\t1993 &  10243.24 &  11266.88 &  21826.84 &  17357.33 &  15997.79 &  18601.53 &  26155.15 &  28586.52 &  30505.41 &  30821.33 &  46634.38 & 104660.67\\\\\n",
       "\\end{tabular}\n"
      ],
      "text/plain": [
       "     Jan       Feb       Mar       Apr       May       Jun       Jul      \n",
       "1987   1664.81   2397.53   2840.71   3547.29   3752.96   3714.74   4349.61\n",
       "1988   2499.81   5198.24   7225.14   4806.03   5900.88   4951.34   6179.12\n",
       "1989   4717.02   5702.63   9957.58   5304.78   6492.43   6630.80   7349.62\n",
       "1990   5921.10   5814.58  12421.25   6369.77   7609.12   7224.75   8121.22\n",
       "1991   4826.64   6470.23   9638.77   8821.17   8722.37  10209.48  11276.55\n",
       "1992   7615.03   9849.69  14558.40  11587.33   9332.56  13082.09  16732.78\n",
       "1993  10243.24  11266.88  21826.84  17357.33  15997.79  18601.53  26155.15\n",
       "     Aug       Sep       Oct       Nov       Dec      \n",
       "1987   3566.34   5021.82   6423.48   7600.60  19756.21\n",
       "1988   4752.15   5496.43   5835.10  12600.08  28541.72\n",
       "1989   8176.62   8573.17   9690.50  15151.84  34061.01\n",
       "1990   7979.25   8093.06   8476.70  17914.66  30114.41\n",
       "1991  12552.22  11637.39  13606.89  21822.11  45060.69\n",
       "1992  19888.61  23933.38  25391.35  36024.80  80721.71\n",
       "1993  28586.52  30505.41  30821.33  46634.38 104660.67"
      ]
     },
     "metadata": {},
     "output_type": "display_data"
    }
   ],
   "source": [
    "souvenirtimeseries"
   ]
  },
  {
   "cell_type": "markdown",
   "metadata": {},
   "source": [
    "# Plotting Time Series "
   ]
  },
  {
   "cell_type": "code",
   "execution_count": 12,
   "metadata": {},
   "outputs": [
    {
     "data": {
      "image/png": "[encoded data removed]",
      "text/plain": [
       "plot without title"
      ]
     },
     "metadata": {},
     "output_type": "display_data"
    }
   ],
   "source": [
    "plot.ts(kingtimeseries)"
   ]
  },
  {
   "cell_type": "markdown",
   "metadata": {},
   "source": [
    "We can see from the time plot that this time series could probably be described using an additive model, since the random fluctuations in the data are roughly constant in size over time."
   ]
  },
  {
   "cell_type": "code",
   "execution_count": 13,
   "metadata": {},
   "outputs": [
    {
     "data": {
      "image/png": "[encoded data removed]",
      "text/plain": [
       "plot without title"
      ]
     },
     "metadata": {},
     "output_type": "display_data"
    }
   ],
   "source": [
    "plot.ts(birthstimeseries)"
   ]
  },
  {
   "cell_type": "markdown",
   "metadata": {},
   "source": [
    "We can see from this time series that there seems to be seasonal variation in the number of births per month: there is a peak every summer, and a trough every winter. "
   ]
  },
  {
   "cell_type": "code",
   "execution_count": 14,
   "metadata": {},
   "outputs": [
    {
     "data": {
      "image/png": "[encoded data removed]",
      "text/plain": [
       "plot without title"
      ]
     },
     "metadata": {},
     "output_type": "display_data"
    }
   ],
   "source": [
    "plot.ts(souvenirtimeseries)"
   ]
  },
  {
   "cell_type": "markdown",
   "metadata": {},
   "source": [
    "In this case, it appears that an additive model is not appropriate for describing this time series, since the size of the seasonal fluctuations and random fluctuations seem to increase with the level of the time series"
   ]
  },
  {
   "cell_type": "code",
   "execution_count": 15,
   "metadata": {},
   "outputs": [
    {
     "data": {
      "image/png": "[encoded data removed]",
      "text/plain": [
       "plot without title"
      ]
     },
     "metadata": {},
     "output_type": "display_data"
    }
   ],
   "source": [
    "logsouvenirtimeseries <- log(souvenirtimeseries)\n",
    "plot.ts(logsouvenirtimeseries)"
   ]
  },
  {
   "cell_type": "markdown",
   "metadata": {},
   "source": [
    "## Decomposing Non-Seasonal Data\n",
    "A non-seasonal time series consists of a trend component and an irregular component. Decomposing the time series involves trying to separate the time series into these components, that is, estimating the the trend component and the irregular component."
   ]
  },
  {
   "cell_type": "code",
   "execution_count": 16,
   "metadata": {},
   "outputs": [
    {
     "name": "stdout",
     "output_type": "stream",
     "text": [
      "package 'TTR' successfully unpacked and MD5 sums checked\n",
      "\n",
      "The downloaded binary packages are in\n",
      "\tC:\\Users\\Microsoft\\AppData\\Local\\Temp\\RtmpyyHHT2\\downloaded_packages\n"
     ]
    }
   ],
   "source": [
    "install.packages(\"TTR\")"
   ]
  },
  {
   "cell_type": "code",
   "execution_count": 17,
   "metadata": {},
   "outputs": [
    {
     "name": "stderr",
     "output_type": "stream",
     "text": [
      "Warning message:\n",
      "\"package 'TTR' was built under R version 3.6.3\"Registered S3 method overwritten by 'xts':\n",
      "  method     from\n",
      "  as.zoo.xts zoo \n"
     ]
    }
   ],
   "source": [
    "library(TTR)"
   ]
  },
  {
   "cell_type": "markdown",
   "metadata": {},
   "source": [
    "We will use **SMA()** function to smooth the time series "
   ]
  },
  {
   "cell_type": "markdown",
   "metadata": {},
   "source": [
    "Thus, we can try to estimate the trend component of this time series by smoothing using a simple moving average. To smooth the time series using a **simple moving average** of order 3, and plot the smoothed time series data, we type"
   ]
  },
  {
   "cell_type": "code",
   "execution_count": 18,
   "metadata": {},
   "outputs": [
    {
     "data": {
      "image/png": "[encoded data removed]",
      "text/plain": [
       "plot without title"
      ]
     },
     "metadata": {},
     "output_type": "display_data"
    }
   ],
   "source": [
    "kingstimeseriesSMA3 <- SMA(kingtimeseries,n = 3)\n",
    "plot.ts(kingstimeseriesSMA3)"
   ]
  },
  {
   "cell_type": "markdown",
   "metadata": {},
   "source": [
    "There still appears to be quite a lot of random fluctuations in the time series smoothed using a simple moving average of order 3. Thus, to estimate the trend component more accurately, we might want to try smoothing the data with a simple moving average of a higher order. This takes a little bit of trial-and-error, to find the right amount of smoothing. For example, we can try using a simple moving average of order 8:"
   ]
  },
  {
   "cell_type": "code",
   "execution_count": 19,
   "metadata": {},
   "outputs": [
    {
     "data": {
      "image/png": "[encoded data removed]",
      "text/plain": [
       "plot without title"
      ]
     },
     "metadata": {},
     "output_type": "display_data"
    }
   ],
   "source": [
    "kingstimeseriesSMA8 <- SMA(kingtimeseries,n = 8)\n",
    "plot.ts(kingstimeseriesSMA8)"
   ]
  },
  {
   "cell_type": "markdown",
   "metadata": {},
   "source": [
    "The data smoothed with a simple moving average of order 8 gives a clearer picture of the trend component, and we can see that the age of death of the English kings seems to have decreased from about 55 years old to about 38 years old during the reign of the first 20 kings, and then increased after that to about 73 years old by the end of the reign of the 40th king in the time series."
   ]
  },
  {
   "cell_type": "markdown",
   "metadata": {},
   "source": [
    "# Decomposing Seasonal Data\n",
    "A seasonal time series consists of a trend component, a seasonal component and an irregular component. Decomposing the time series means separating the time series into these three components: that is, estimating these three components.\n",
    "\n",
    "To estimate the trend component and seasonal component of a seasonal time series that can be described using an additive model, we can use the “decompose()” function in R. This function estimates the trend, seasonal, and irregular components of a time series that can be described using an additive model.\n",
    "\n",
    "The function “decompose()” returns a list object as its result, where the estimates of the seasonal component, trend component and irregular component are stored in named elements of that list objects, called “seasonal”, “trend”, and “random” respectively.\n",
    "\n",
    "For example, as discussed above, the time series of the number of births per month in New York city is seasonal with a peak every summer and trough every winter, and can probably be described using an additive model since the seasonal and random fluctuations seem to be roughly constant in size over time:"
   ]
  },
  {
   "cell_type": "code",
   "execution_count": 20,
   "metadata": {},
   "outputs": [],
   "source": [
    "birthstimeseriescomponents <- decompose(birthstimeseries)"
   ]
  },
  {
   "cell_type": "code",
   "execution_count": 21,
   "metadata": {},
   "outputs": [
    {
     "name": "stderr",
     "output_type": "stream",
     "text": [
      "ERROR while rich displaying an object: Error in repr_matrix_generic(obj, \"\\n%s%s\\n\", sprintf(\"|%%s\\n|%s|\\n\", : formal argument \"cols\" matched by multiple actual arguments\n",
      "\n",
      "Traceback:\n",
      "1. FUN(X[[i]], ...)\n",
      "2. tryCatch(withCallingHandlers({\n",
      " .     if (!mime %in% names(repr::mime2repr)) \n",
      " .         stop(\"No repr_* for mimetype \", mime, \" in repr::mime2repr\")\n",
      " .     rpr <- repr::mime2repr[[mime]](obj)\n",
      " .     if (is.null(rpr)) \n",
      " .         return(NULL)\n",
      " .     prepare_content(is.raw(rpr), rpr)\n",
      " . }, error = error_handler), error = outer_handler)\n",
      "3. tryCatchList(expr, classes, parentenv, handlers)\n",
      "4. tryCatchOne(expr, names, parentenv, handlers[[1L]])\n",
      "5. doTryCatch(return(expr), name, parentenv, handler)\n",
      "6. withCallingHandlers({\n",
      " .     if (!mime %in% names(repr::mime2repr)) \n",
      " .         stop(\"No repr_* for mimetype \", mime, \" in repr::mime2repr\")\n",
      " .     rpr <- repr::mime2repr[[mime]](obj)\n",
      " .     if (is.null(rpr)) \n",
      " .         return(NULL)\n",
      " .     prepare_content(is.raw(rpr), rpr)\n",
      " . }, error = error_handler)\n",
      "7. repr::mime2repr[[mime]](obj)\n",
      "8. repr_markdown.ts(obj)\n",
      "9. repr_ts_generic(obj, repr_markdown.matrix, ...)\n",
      "10. repr_func(m, ..., rows = nrow(m), cols = ncol(m))\n"
     ]
    },
    {
     "data": {
      "text/html": [
       "<table>\n",
       "<thead><tr><th></th><th scope=col>Jan</th><th scope=col>Feb</th><th scope=col>Mar</th><th scope=col>Apr</th><th scope=col>May</th><th scope=col>Jun</th><th scope=col>Jul</th><th scope=col>Aug</th><th scope=col>Sep</th><th scope=col>Oct</th><th scope=col>Nov</th><th scope=col>Dec</th></tr></thead>\n",
       "<tbody>\n",
       "\t<tr><th scope=row>1946</th><td>-0.6771947</td><td>-2.0829607</td><td> 0.8625232</td><td>-0.8016787</td><td> 0.2516514</td><td>-0.1532556</td><td> 1.4560457</td><td> 1.1645938</td><td> 0.6916162</td><td> 0.7752444</td><td>-1.1097652</td><td>-0.3768197</td></tr>\n",
       "\t<tr><th scope=row>1947</th><td>-0.6771947</td><td>-2.0829607</td><td> 0.8625232</td><td>-0.8016787</td><td> 0.2516514</td><td>-0.1532556</td><td> 1.4560457</td><td> 1.1645938</td><td> 0.6916162</td><td> 0.7752444</td><td>-1.1097652</td><td>-0.3768197</td></tr>\n",
       "\t<tr><th scope=row>1948</th><td>-0.6771947</td><td>-2.0829607</td><td> 0.8625232</td><td>-0.8016787</td><td> 0.2516514</td><td>-0.1532556</td><td> 1.4560457</td><td> 1.1645938</td><td> 0.6916162</td><td> 0.7752444</td><td>-1.1097652</td><td>-0.3768197</td></tr>\n",
       "\t<tr><th scope=row>1949</th><td>-0.6771947</td><td>-2.0829607</td><td> 0.8625232</td><td>-0.8016787</td><td> 0.2516514</td><td>-0.1532556</td><td> 1.4560457</td><td> 1.1645938</td><td> 0.6916162</td><td> 0.7752444</td><td>-1.1097652</td><td>-0.3768197</td></tr>\n",
       "\t<tr><th scope=row>1950</th><td>-0.6771947</td><td>-2.0829607</td><td> 0.8625232</td><td>-0.8016787</td><td> 0.2516514</td><td>-0.1532556</td><td> 1.4560457</td><td> 1.1645938</td><td> 0.6916162</td><td> 0.7752444</td><td>-1.1097652</td><td>-0.3768197</td></tr>\n",
       "\t<tr><th scope=row>1951</th><td>-0.6771947</td><td>-2.0829607</td><td> 0.8625232</td><td>-0.8016787</td><td> 0.2516514</td><td>-0.1532556</td><td> 1.4560457</td><td> 1.1645938</td><td> 0.6916162</td><td> 0.7752444</td><td>-1.1097652</td><td>-0.3768197</td></tr>\n",
       "\t<tr><th scope=row>1952</th><td>-0.6771947</td><td>-2.0829607</td><td> 0.8625232</td><td>-0.8016787</td><td> 0.2516514</td><td>-0.1532556</td><td> 1.4560457</td><td> 1.1645938</td><td> 0.6916162</td><td> 0.7752444</td><td>-1.1097652</td><td>-0.3768197</td></tr>\n",
       "\t<tr><th scope=row>1953</th><td>-0.6771947</td><td>-2.0829607</td><td> 0.8625232</td><td>-0.8016787</td><td> 0.2516514</td><td>-0.1532556</td><td> 1.4560457</td><td> 1.1645938</td><td> 0.6916162</td><td> 0.7752444</td><td>-1.1097652</td><td>-0.3768197</td></tr>\n",
       "\t<tr><th scope=row>1954</th><td>-0.6771947</td><td>-2.0829607</td><td> 0.8625232</td><td>-0.8016787</td><td> 0.2516514</td><td>-0.1532556</td><td> 1.4560457</td><td> 1.1645938</td><td> 0.6916162</td><td> 0.7752444</td><td>-1.1097652</td><td>-0.3768197</td></tr>\n",
       "\t<tr><th scope=row>1955</th><td>-0.6771947</td><td>-2.0829607</td><td> 0.8625232</td><td>-0.8016787</td><td> 0.2516514</td><td>-0.1532556</td><td> 1.4560457</td><td> 1.1645938</td><td> 0.6916162</td><td> 0.7752444</td><td>-1.1097652</td><td>-0.3768197</td></tr>\n",
       "\t<tr><th scope=row>1956</th><td>-0.6771947</td><td>-2.0829607</td><td> 0.8625232</td><td>-0.8016787</td><td> 0.2516514</td><td>-0.1532556</td><td> 1.4560457</td><td> 1.1645938</td><td> 0.6916162</td><td> 0.7752444</td><td>-1.1097652</td><td>-0.3768197</td></tr>\n",
       "\t<tr><th scope=row>1957</th><td>-0.6771947</td><td>-2.0829607</td><td> 0.8625232</td><td>-0.8016787</td><td> 0.2516514</td><td>-0.1532556</td><td> 1.4560457</td><td> 1.1645938</td><td> 0.6916162</td><td> 0.7752444</td><td>-1.1097652</td><td>-0.3768197</td></tr>\n",
       "\t<tr><th scope=row>1958</th><td>-0.6771947</td><td>-2.0829607</td><td> 0.8625232</td><td>-0.8016787</td><td> 0.2516514</td><td>-0.1532556</td><td> 1.4560457</td><td> 1.1645938</td><td> 0.6916162</td><td> 0.7752444</td><td>-1.1097652</td><td>-0.3768197</td></tr>\n",
       "\t<tr><th scope=row>1959</th><td>-0.6771947</td><td>-2.0829607</td><td> 0.8625232</td><td>-0.8016787</td><td> 0.2516514</td><td>-0.1532556</td><td> 1.4560457</td><td> 1.1645938</td><td> 0.6916162</td><td> 0.7752444</td><td>-1.1097652</td><td>-0.3768197</td></tr>\n",
       "</tbody>\n",
       "</table>\n"
      ],
      "text/latex": [
       "\\begin{tabular}{r|llllllllllll}\n",
       "  & Jan & Feb & Mar & Apr & May & Jun & Jul & Aug & Sep & Oct & Nov & Dec\\\\\n",
       "\\hline\n",
       "\t1946 & -0.6771947 & -2.0829607 &  0.8625232 & -0.8016787 &  0.2516514 & -0.1532556 &  1.4560457 &  1.1645938 &  0.6916162 &  0.7752444 & -1.1097652 & -0.3768197\\\\\n",
       "\t1947 & -0.6771947 & -2.0829607 &  0.8625232 & -0.8016787 &  0.2516514 & -0.1532556 &  1.4560457 &  1.1645938 &  0.6916162 &  0.7752444 & -1.1097652 & -0.3768197\\\\\n",
       "\t1948 & -0.6771947 & -2.0829607 &  0.8625232 & -0.8016787 &  0.2516514 & -0.1532556 &  1.4560457 &  1.1645938 &  0.6916162 &  0.7752444 & -1.1097652 & -0.3768197\\\\\n",
       "\t1949 & -0.6771947 & -2.0829607 &  0.8625232 & -0.8016787 &  0.2516514 & -0.1532556 &  1.4560457 &  1.1645938 &  0.6916162 &  0.7752444 & -1.1097652 & -0.3768197\\\\\n",
       "\t1950 & -0.6771947 & -2.0829607 &  0.8625232 & -0.8016787 &  0.2516514 & -0.1532556 &  1.4560457 &  1.1645938 &  0.6916162 &  0.7752444 & -1.1097652 & -0.3768197\\\\\n",
       "\t1951 & -0.6771947 & -2.0829607 &  0.8625232 & -0.8016787 &  0.2516514 & -0.1532556 &  1.4560457 &  1.1645938 &  0.6916162 &  0.7752444 & -1.1097652 & -0.3768197\\\\\n",
       "\t1952 & -0.6771947 & -2.0829607 &  0.8625232 & -0.8016787 &  0.2516514 & -0.1532556 &  1.4560457 &  1.1645938 &  0.6916162 &  0.7752444 & -1.1097652 & -0.3768197\\\\\n",
       "\t1953 & -0.6771947 & -2.0829607 &  0.8625232 & -0.8016787 &  0.2516514 & -0.1532556 &  1.4560457 &  1.1645938 &  0.6916162 &  0.7752444 & -1.1097652 & -0.3768197\\\\\n",
       "\t1954 & -0.6771947 & -2.0829607 &  0.8625232 & -0.8016787 &  0.2516514 & -0.1532556 &  1.4560457 &  1.1645938 &  0.6916162 &  0.7752444 & -1.1097652 & -0.3768197\\\\\n",
       "\t1955 & -0.6771947 & -2.0829607 &  0.8625232 & -0.8016787 &  0.2516514 & -0.1532556 &  1.4560457 &  1.1645938 &  0.6916162 &  0.7752444 & -1.1097652 & -0.3768197\\\\\n",
       "\t1956 & -0.6771947 & -2.0829607 &  0.8625232 & -0.8016787 &  0.2516514 & -0.1532556 &  1.4560457 &  1.1645938 &  0.6916162 &  0.7752444 & -1.1097652 & -0.3768197\\\\\n",
       "\t1957 & -0.6771947 & -2.0829607 &  0.8625232 & -0.8016787 &  0.2516514 & -0.1532556 &  1.4560457 &  1.1645938 &  0.6916162 &  0.7752444 & -1.1097652 & -0.3768197\\\\\n",
       "\t1958 & -0.6771947 & -2.0829607 &  0.8625232 & -0.8016787 &  0.2516514 & -0.1532556 &  1.4560457 &  1.1645938 &  0.6916162 &  0.7752444 & -1.1097652 & -0.3768197\\\\\n",
       "\t1959 & -0.6771947 & -2.0829607 &  0.8625232 & -0.8016787 &  0.2516514 & -0.1532556 &  1.4560457 &  1.1645938 &  0.6916162 &  0.7752444 & -1.1097652 & -0.3768197\\\\\n",
       "\\end{tabular}\n"
      ],
      "text/plain": [
       "     Jan        Feb        Mar        Apr        May        Jun       \n",
       "1946 -0.6771947 -2.0829607  0.8625232 -0.8016787  0.2516514 -0.1532556\n",
       "1947 -0.6771947 -2.0829607  0.8625232 -0.8016787  0.2516514 -0.1532556\n",
       "1948 -0.6771947 -2.0829607  0.8625232 -0.8016787  0.2516514 -0.1532556\n",
       "1949 -0.6771947 -2.0829607  0.8625232 -0.8016787  0.2516514 -0.1532556\n",
       "1950 -0.6771947 -2.0829607  0.8625232 -0.8016787  0.2516514 -0.1532556\n",
       "1951 -0.6771947 -2.0829607  0.8625232 -0.8016787  0.2516514 -0.1532556\n",
       "1952 -0.6771947 -2.0829607  0.8625232 -0.8016787  0.2516514 -0.1532556\n",
       "1953 -0.6771947 -2.0829607  0.8625232 -0.8016787  0.2516514 -0.1532556\n",
       "1954 -0.6771947 -2.0829607  0.8625232 -0.8016787  0.2516514 -0.1532556\n",
       "1955 -0.6771947 -2.0829607  0.8625232 -0.8016787  0.2516514 -0.1532556\n",
       "1956 -0.6771947 -2.0829607  0.8625232 -0.8016787  0.2516514 -0.1532556\n",
       "1957 -0.6771947 -2.0829607  0.8625232 -0.8016787  0.2516514 -0.1532556\n",
       "1958 -0.6771947 -2.0829607  0.8625232 -0.8016787  0.2516514 -0.1532556\n",
       "1959 -0.6771947 -2.0829607  0.8625232 -0.8016787  0.2516514 -0.1532556\n",
       "     Jul        Aug        Sep        Oct        Nov        Dec       \n",
       "1946  1.4560457  1.1645938  0.6916162  0.7752444 -1.1097652 -0.3768197\n",
       "1947  1.4560457  1.1645938  0.6916162  0.7752444 -1.1097652 -0.3768197\n",
       "1948  1.4560457  1.1645938  0.6916162  0.7752444 -1.1097652 -0.3768197\n",
       "1949  1.4560457  1.1645938  0.6916162  0.7752444 -1.1097652 -0.3768197\n",
       "1950  1.4560457  1.1645938  0.6916162  0.7752444 -1.1097652 -0.3768197\n",
       "1951  1.4560457  1.1645938  0.6916162  0.7752444 -1.1097652 -0.3768197\n",
       "1952  1.4560457  1.1645938  0.6916162  0.7752444 -1.1097652 -0.3768197\n",
       "1953  1.4560457  1.1645938  0.6916162  0.7752444 -1.1097652 -0.3768197\n",
       "1954  1.4560457  1.1645938  0.6916162  0.7752444 -1.1097652 -0.3768197\n",
       "1955  1.4560457  1.1645938  0.6916162  0.7752444 -1.1097652 -0.3768197\n",
       "1956  1.4560457  1.1645938  0.6916162  0.7752444 -1.1097652 -0.3768197\n",
       "1957  1.4560457  1.1645938  0.6916162  0.7752444 -1.1097652 -0.3768197\n",
       "1958  1.4560457  1.1645938  0.6916162  0.7752444 -1.1097652 -0.3768197\n",
       "1959  1.4560457  1.1645938  0.6916162  0.7752444 -1.1097652 -0.3768197"
      ]
     },
     "metadata": {},
     "output_type": "display_data"
    }
   ],
   "source": [
    "birthstimeseriescomponents$seasonal"
   ]
  },
  {
   "cell_type": "code",
   "execution_count": 22,
   "metadata": {},
   "outputs": [
    {
     "data": {
      "image/png": "[encoded data removed]",
      "text/plain": [
       "plot without title"
      ]
     },
     "metadata": {},
     "output_type": "display_data"
    }
   ],
   "source": [
    "plot(birthstimeseriescomponents)"
   ]
  },
  {
   "cell_type": "markdown",
   "metadata": {},
   "source": [
    "## Seasonally Adjusting\n",
    "If you have a seasonal time series that can be described using an additive model, you can seasonally adjust the time series by estimating the seasonal component, and subtracting the estimated seasonal component from the original time series. We can do this using the estimate of the seasonal component calculated by the “decompose()” function.\n",
    "\n",
    "For example, to seasonally adjust the time series of the number of births per month in New York city, we can estimate the seasonal component using “decompose()”, and then subtract the seasonal component from the original time series:"
   ]
  },
  {
   "cell_type": "code",
   "execution_count": 23,
   "metadata": {},
   "outputs": [],
   "source": [
    "birthstimeseriescomponents <- decompose(birthstimeseries)\n",
    "birthstimeseriesseasonallyadjusted <- birthstimeseries - birthstimeseriescomponents$seasonal"
   ]
  },
  {
   "cell_type": "code",
   "execution_count": 24,
   "metadata": {},
   "outputs": [
    {
     "data": {
      "image/png": "[encoded data removed]",
      "text/plain": [
       "plot without title"
      ]
     },
     "metadata": {},
     "output_type": "display_data"
    }
   ],
   "source": [
    "plot(birthstimeseriesseasonallyadjusted)"
   ]
  },
  {
   "cell_type": "markdown",
   "metadata": {},
   "source": [
    "## Forecasts using Exponential Smoothing\n",
    "Exponential smoothing can be used to make short-term forecasts for time series data."
   ]
  },
  {
   "cell_type": "markdown",
   "metadata": {},
   "source": [
    "### Simple Exponential Smoothing "
   ]
  },
  {
   "cell_type": "markdown",
   "metadata": {},
   "source": [
    "If you have a time series that can be described using an additive model with constant level and no seasonality, you can use simple exponential smoothing to make short-term forecasts."
   ]
  },
  {
   "cell_type": "code",
   "execution_count": null,
   "metadata": {},
   "outputs": [],
   "source": []
  }
 ],
 "metadata": {
  "kernelspec": {
   "display_name": "R",
   "language": "R",
   "name": "ir"
  },
  "language_info": {
   "codemirror_mode": "r",
   "file_extension": ".r",
   "mimetype": "text/x-r-source",
   "name": "R",
   "pygments_lexer": "r",
   "version": "3.6.1"
  }
 },
 "nbformat": 4,
 "nbformat_minor": 2
}
