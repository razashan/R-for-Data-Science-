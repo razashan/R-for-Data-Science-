{
 "cells": [
  {
   "cell_type": "markdown",
   "metadata": {},
   "source": [
    "# Logistic Regression"
   ]
  },
  {
   "cell_type": "markdown",
   "metadata": {},
   "source": [
    "In the logistic regression, a regression curve, y = f (x), is fitted. In the regression curve equation, y is a categorical variable. This Regression Model is used for predicting that y has given a set of predictors x. Therefore, predictors can be categorical, continuous, or a mixture of both.\n",
    "\n",
    "The logistic regression is a classification algorithm that falls under nonlinear regression. This model is used to predict a given binary result (1/0, yes/no, true/false) as a set of independent variables. Furthermore, it helps to represent categorical/binary outcomes using dummy variables.\n",
    "\n",
    "Logistic regression is a regression model in which the response variable has categorical values such as true/false or 0/1. Therefore, we can measure the probability of the binary response"
   ]
  },
  {
   "cell_type": "code",
   "execution_count": 1,
   "metadata": {},
   "outputs": [
    {
     "name": "stderr",
     "output_type": "stream",
     "text": [
      "Warning message:\n",
      "\"package 'tidyverse' was built under R version 3.6.3\"-- Attaching packages ------------------------------------------------------------------------------- tidyverse 1.3.0 --\n",
      "v ggplot2 3.3.2     v purrr   0.3.4\n",
      "v tibble  3.0.4     v dplyr   1.0.2\n",
      "v tidyr   1.1.2     v stringr 1.4.0\n",
      "v readr   1.3.1     v forcats 0.4.0\n",
      "Warning message:\n",
      "\"package 'ggplot2' was built under R version 3.6.3\"Warning message:\n",
      "\"package 'tibble' was built under R version 3.6.3\"Warning message:\n",
      "\"package 'tidyr' was built under R version 3.6.3\"Warning message:\n",
      "\"package 'purrr' was built under R version 3.6.3\"Warning message:\n",
      "\"package 'dplyr' was built under R version 3.6.3\"-- Conflicts ---------------------------------------------------------------------------------- tidyverse_conflicts() --\n",
      "x dplyr::filter() masks stats::filter()\n",
      "x dplyr::lag()    masks stats::lag()\n",
      "Warning message:\n",
      "\"package 'extrafont' was built under R version 3.6.2\"Registering fonts with R\n"
     ]
    }
   ],
   "source": [
    "library(tidyverse)\n",
    "library(extrafont)\n",
    "library(extrafontdb)\n"
   ]
  },
  {
   "cell_type": "code",
   "execution_count": 2,
   "metadata": {},
   "outputs": [
    {
     "name": "stderr",
     "output_type": "stream",
     "text": [
      "Parsed with column specification:\n",
      "cols(\n",
      "  Survived = col_double(),\n",
      "  Pclass = col_double(),\n",
      "  Name = col_character(),\n",
      "  Sex = col_character(),\n",
      "  Age = col_double(),\n",
      "  `Siblings/Spouses Aboard` = col_double(),\n",
      "  `Parents/Children Aboard` = col_double(),\n",
      "  Fare = col_double()\n",
      ")\n"
     ]
    },
    {
     "data": {
      "text/html": [
       "<table>\n",
       "<thead><tr><th scope=col>Survived</th><th scope=col>Pclass</th><th scope=col>Name</th><th scope=col>Sex</th><th scope=col>Age</th><th scope=col>Siblings/Spouses Aboard</th><th scope=col>Parents/Children Aboard</th><th scope=col>Fare</th></tr></thead>\n",
       "<tbody>\n",
       "\t<tr><td>0                                                 </td><td>3                                                 </td><td>Mr. Owen Harris Braund                            </td><td>male                                              </td><td>22                                                </td><td>1                                                 </td><td>0                                                 </td><td> 7.2500                                           </td></tr>\n",
       "\t<tr><td>1                                                 </td><td>1                                                 </td><td>Mrs. John Bradley (Florence Briggs Thayer) Cumings</td><td>female                                            </td><td>38                                                </td><td>1                                                 </td><td>0                                                 </td><td>71.2833                                           </td></tr>\n",
       "\t<tr><td>1                                                 </td><td>3                                                 </td><td>Miss. Laina Heikkinen                             </td><td>female                                            </td><td>26                                                </td><td>0                                                 </td><td>0                                                 </td><td> 7.9250                                           </td></tr>\n",
       "\t<tr><td>1                                                 </td><td>1                                                 </td><td>Mrs. Jacques Heath (Lily May Peel) Futrelle       </td><td>female                                            </td><td>35                                                </td><td>1                                                 </td><td>0                                                 </td><td>53.1000                                           </td></tr>\n",
       "\t<tr><td>0                                                 </td><td>3                                                 </td><td>Mr. William Henry Allen                           </td><td>male                                              </td><td>35                                                </td><td>0                                                 </td><td>0                                                 </td><td> 8.0500                                           </td></tr>\n",
       "\t<tr><td>0                                                 </td><td>3                                                 </td><td>Mr. James Moran                                   </td><td>male                                              </td><td>27                                                </td><td>0                                                 </td><td>0                                                 </td><td> 8.4583                                           </td></tr>\n",
       "</tbody>\n",
       "</table>\n"
      ],
      "text/latex": [
       "\\begin{tabular}{r|llllllll}\n",
       " Survived & Pclass & Name & Sex & Age & Siblings/Spouses Aboard & Parents/Children Aboard & Fare\\\\\n",
       "\\hline\n",
       "\t 0                                                  & 3                                                  & Mr. Owen Harris Braund                             & male                                               & 22                                                 & 1                                                  & 0                                                  &  7.2500                                           \\\\\n",
       "\t 1                                                  & 1                                                  & Mrs. John Bradley (Florence Briggs Thayer) Cumings & female                                             & 38                                                 & 1                                                  & 0                                                  & 71.2833                                           \\\\\n",
       "\t 1                                                  & 3                                                  & Miss. Laina Heikkinen                              & female                                             & 26                                                 & 0                                                  & 0                                                  &  7.9250                                           \\\\\n",
       "\t 1                                                  & 1                                                  & Mrs. Jacques Heath (Lily May Peel) Futrelle        & female                                             & 35                                                 & 1                                                  & 0                                                  & 53.1000                                           \\\\\n",
       "\t 0                                                  & 3                                                  & Mr. William Henry Allen                            & male                                               & 35                                                 & 0                                                  & 0                                                  &  8.0500                                           \\\\\n",
       "\t 0                                                  & 3                                                  & Mr. James Moran                                    & male                                               & 27                                                 & 0                                                  & 0                                                  &  8.4583                                           \\\\\n",
       "\\end{tabular}\n"
      ],
      "text/markdown": [
       "\n",
       "| Survived | Pclass | Name | Sex | Age | Siblings/Spouses Aboard | Parents/Children Aboard | Fare |\n",
       "|---|---|---|---|---|---|---|---|\n",
       "| 0                                                  | 3                                                  | Mr. Owen Harris Braund                             | male                                               | 22                                                 | 1                                                  | 0                                                  |  7.2500                                            |\n",
       "| 1                                                  | 1                                                  | Mrs. John Bradley (Florence Briggs Thayer) Cumings | female                                             | 38                                                 | 1                                                  | 0                                                  | 71.2833                                            |\n",
       "| 1                                                  | 3                                                  | Miss. Laina Heikkinen                              | female                                             | 26                                                 | 0                                                  | 0                                                  |  7.9250                                            |\n",
       "| 1                                                  | 1                                                  | Mrs. Jacques Heath (Lily May Peel) Futrelle        | female                                             | 35                                                 | 1                                                  | 0                                                  | 53.1000                                            |\n",
       "| 0                                                  | 3                                                  | Mr. William Henry Allen                            | male                                               | 35                                                 | 0                                                  | 0                                                  |  8.0500                                            |\n",
       "| 0                                                  | 3                                                  | Mr. James Moran                                    | male                                               | 27                                                 | 0                                                  | 0                                                  |  8.4583                                            |\n",
       "\n"
      ],
      "text/plain": [
       "  Survived Pclass Name                                               Sex    Age\n",
       "1 0        3      Mr. Owen Harris Braund                             male   22 \n",
       "2 1        1      Mrs. John Bradley (Florence Briggs Thayer) Cumings female 38 \n",
       "3 1        3      Miss. Laina Heikkinen                              female 26 \n",
       "4 1        1      Mrs. Jacques Heath (Lily May Peel) Futrelle        female 35 \n",
       "5 0        3      Mr. William Henry Allen                            male   35 \n",
       "6 0        3      Mr. James Moran                                    male   27 \n",
       "  Siblings/Spouses Aboard Parents/Children Aboard Fare   \n",
       "1 1                       0                        7.2500\n",
       "2 1                       0                       71.2833\n",
       "3 0                       0                        7.9250\n",
       "4 1                       0                       53.1000\n",
       "5 0                       0                        8.0500\n",
       "6 0                       0                        8.4583"
      ]
     },
     "metadata": {},
     "output_type": "display_data"
    }
   ],
   "source": [
    "titanic_data <- read_csv(\"titanic.csv\")\n",
    "head(titanic_data)"
   ]
  },
  {
   "cell_type": "code",
   "execution_count": 3,
   "metadata": {},
   "outputs": [
    {
     "name": "stdout",
     "output_type": "stream",
     "text": [
      "tibble [887 x 8] (S3: spec_tbl_df/tbl_df/tbl/data.frame)\n",
      " $ Survived               : num [1:887] 0 1 1 1 0 0 0 0 1 1 ...\n",
      " $ Pclass                 : num [1:887] 3 1 3 1 3 3 1 3 3 2 ...\n",
      " $ Name                   : chr [1:887] \"Mr. Owen Harris Braund\" \"Mrs. John Bradley (Florence Briggs Thayer) Cumings\" \"Miss. Laina Heikkinen\" \"Mrs. Jacques Heath (Lily May Peel) Futrelle\" ...\n",
      " $ Sex                    : chr [1:887] \"male\" \"female\" \"female\" \"female\" ...\n",
      " $ Age                    : num [1:887] 22 38 26 35 35 27 54 2 27 14 ...\n",
      " $ Siblings/Spouses Aboard: num [1:887] 1 1 0 1 0 0 0 3 0 1 ...\n",
      " $ Parents/Children Aboard: num [1:887] 0 0 0 0 0 0 0 1 2 0 ...\n",
      " $ Fare                   : num [1:887] 7.25 71.28 7.92 53.1 8.05 ...\n",
      " - attr(*, \"spec\")=\n",
      "  .. cols(\n",
      "  ..   Survived = col_double(),\n",
      "  ..   Pclass = col_double(),\n",
      "  ..   Name = col_character(),\n",
      "  ..   Sex = col_character(),\n",
      "  ..   Age = col_double(),\n",
      "  ..   `Siblings/Spouses Aboard` = col_double(),\n",
      "  ..   `Parents/Children Aboard` = col_double(),\n",
      "  ..   Fare = col_double()\n",
      "  .. )\n"
     ]
    }
   ],
   "source": [
    "str(titanic_data)"
   ]
  },
  {
   "cell_type": "code",
   "execution_count": 27,
   "metadata": {},
   "outputs": [
    {
     "data": {
      "text/html": [
       "<table>\n",
       "<thead><tr><th scope=col>Survived</th><th scope=col>Pclass</th><th scope=col>Name</th><th scope=col>Sex</th><th scope=col>Age</th><th scope=col>Siblings/Spouses Aboard</th><th scope=col>Parents/Children Aboard</th><th scope=col>Fare</th></tr></thead>\n",
       "<tbody>\n",
       "\t<tr><td>Died                                              </td><td>3                                                 </td><td>Mr. Owen Harris Braund                            </td><td>male                                              </td><td>22                                                </td><td>1                                                 </td><td>0                                                 </td><td> 7.2500                                           </td></tr>\n",
       "\t<tr><td>Survived                                          </td><td>1                                                 </td><td>Mrs. John Bradley (Florence Briggs Thayer) Cumings</td><td>female                                            </td><td>38                                                </td><td>1                                                 </td><td>0                                                 </td><td>71.2833                                           </td></tr>\n",
       "\t<tr><td>Survived                                          </td><td>3                                                 </td><td>Miss. Laina Heikkinen                             </td><td>female                                            </td><td>26                                                </td><td>0                                                 </td><td>0                                                 </td><td> 7.9250                                           </td></tr>\n",
       "\t<tr><td>Survived                                          </td><td>1                                                 </td><td>Mrs. Jacques Heath (Lily May Peel) Futrelle       </td><td>female                                            </td><td>35                                                </td><td>1                                                 </td><td>0                                                 </td><td>53.1000                                           </td></tr>\n",
       "\t<tr><td>Died                                              </td><td>3                                                 </td><td>Mr. William Henry Allen                           </td><td>male                                              </td><td>35                                                </td><td>0                                                 </td><td>0                                                 </td><td> 8.0500                                           </td></tr>\n",
       "\t<tr><td>Died                                              </td><td>3                                                 </td><td>Mr. James Moran                                   </td><td>male                                              </td><td>27                                                </td><td>0                                                 </td><td>0                                                 </td><td> 8.4583                                           </td></tr>\n",
       "</tbody>\n",
       "</table>\n"
      ],
      "text/latex": [
       "\\begin{tabular}{r|llllllll}\n",
       " Survived & Pclass & Name & Sex & Age & Siblings/Spouses Aboard & Parents/Children Aboard & Fare\\\\\n",
       "\\hline\n",
       "\t Died                                               & 3                                                  & Mr. Owen Harris Braund                             & male                                               & 22                                                 & 1                                                  & 0                                                  &  7.2500                                           \\\\\n",
       "\t Survived                                           & 1                                                  & Mrs. John Bradley (Florence Briggs Thayer) Cumings & female                                             & 38                                                 & 1                                                  & 0                                                  & 71.2833                                           \\\\\n",
       "\t Survived                                           & 3                                                  & Miss. Laina Heikkinen                              & female                                             & 26                                                 & 0                                                  & 0                                                  &  7.9250                                           \\\\\n",
       "\t Survived                                           & 1                                                  & Mrs. Jacques Heath (Lily May Peel) Futrelle        & female                                             & 35                                                 & 1                                                  & 0                                                  & 53.1000                                           \\\\\n",
       "\t Died                                               & 3                                                  & Mr. William Henry Allen                            & male                                               & 35                                                 & 0                                                  & 0                                                  &  8.0500                                           \\\\\n",
       "\t Died                                               & 3                                                  & Mr. James Moran                                    & male                                               & 27                                                 & 0                                                  & 0                                                  &  8.4583                                           \\\\\n",
       "\\end{tabular}\n"
      ],
      "text/markdown": [
       "\n",
       "| Survived | Pclass | Name | Sex | Age | Siblings/Spouses Aboard | Parents/Children Aboard | Fare |\n",
       "|---|---|---|---|---|---|---|---|\n",
       "| Died                                               | 3                                                  | Mr. Owen Harris Braund                             | male                                               | 22                                                 | 1                                                  | 0                                                  |  7.2500                                            |\n",
       "| Survived                                           | 1                                                  | Mrs. John Bradley (Florence Briggs Thayer) Cumings | female                                             | 38                                                 | 1                                                  | 0                                                  | 71.2833                                            |\n",
       "| Survived                                           | 3                                                  | Miss. Laina Heikkinen                              | female                                             | 26                                                 | 0                                                  | 0                                                  |  7.9250                                            |\n",
       "| Survived                                           | 1                                                  | Mrs. Jacques Heath (Lily May Peel) Futrelle        | female                                             | 35                                                 | 1                                                  | 0                                                  | 53.1000                                            |\n",
       "| Died                                               | 3                                                  | Mr. William Henry Allen                            | male                                               | 35                                                 | 0                                                  | 0                                                  |  8.0500                                            |\n",
       "| Died                                               | 3                                                  | Mr. James Moran                                    | male                                               | 27                                                 | 0                                                  | 0                                                  |  8.4583                                            |\n",
       "\n"
      ],
      "text/plain": [
       "  Survived Pclass Name                                               Sex    Age\n",
       "1 Died     3      Mr. Owen Harris Braund                             male   22 \n",
       "2 Survived 1      Mrs. John Bradley (Florence Briggs Thayer) Cumings female 38 \n",
       "3 Survived 3      Miss. Laina Heikkinen                              female 26 \n",
       "4 Survived 1      Mrs. Jacques Heath (Lily May Peel) Futrelle        female 35 \n",
       "5 Died     3      Mr. William Henry Allen                            male   35 \n",
       "6 Died     3      Mr. James Moran                                    male   27 \n",
       "  Siblings/Spouses Aboard Parents/Children Aboard Fare   \n",
       "1 1                       0                        7.2500\n",
       "2 1                       0                       71.2833\n",
       "3 0                       0                        7.9250\n",
       "4 1                       0                       53.1000\n",
       "5 0                       0                        8.0500\n",
       "6 0                       0                        8.4583"
      ]
     },
     "metadata": {},
     "output_type": "display_data"
    }
   ],
   "source": [
    "titanic_data <- titanic_data %>% \n",
    "  mutate(Survived = factor(Survived, levels = c(0, 1), labels = c(\"Died\", \"Survived\")),\n",
    "         Sex = factor(Sex),\n",
    "         Pclass = factor(Pclass))\n",
    "\n",
    "head(titanic_data)"
   ]
  },
  {
   "cell_type": "code",
   "execution_count": 28,
   "metadata": {},
   "outputs": [
    {
     "data": {
      "text/plain": [
       "     Survived   Pclass      Name               Sex           Age       \n",
       " Died    :545   1:216   Length:887         female:314   Min.   : 0.42  \n",
       " Survived:342   2:184   Class :character   male  :573   1st Qu.:20.25  \n",
       "                3:487   Mode  :character                Median :28.00  \n",
       "                                                        Mean   :29.47  \n",
       "                                                        3rd Qu.:38.00  \n",
       "                                                        Max.   :80.00  \n",
       " Siblings/Spouses Aboard Parents/Children Aboard      Fare        \n",
       " Min.   :0.0000          Min.   :0.0000          Min.   :  0.000  \n",
       " 1st Qu.:0.0000          1st Qu.:0.0000          1st Qu.:  7.925  \n",
       " Median :0.0000          Median :0.0000          Median : 14.454  \n",
       " Mean   :0.5254          Mean   :0.3833          Mean   : 32.305  \n",
       " 3rd Qu.:1.0000          3rd Qu.:0.0000          3rd Qu.: 31.137  \n",
       " Max.   :8.0000          Max.   :6.0000          Max.   :512.329  "
      ]
     },
     "metadata": {},
     "output_type": "display_data"
    }
   ],
   "source": [
    "summary(titanic_data)"
   ]
  },
  {
   "cell_type": "code",
   "execution_count": 29,
   "metadata": {},
   "outputs": [
    {
     "name": "stdout",
     "output_type": "stream",
     "text": [
      "tibble [887 x 8] (S3: spec_tbl_df/tbl_df/tbl/data.frame)\n",
      " $ Survived               : Factor w/ 2 levels \"Died\",\"Survived\": 1 2 2 2 1 1 1 1 2 2 ...\n",
      " $ Pclass                 : Factor w/ 3 levels \"1\",\"2\",\"3\": 3 1 3 1 3 3 1 3 3 2 ...\n",
      " $ Name                   : chr [1:887] \"Mr. Owen Harris Braund\" \"Mrs. John Bradley (Florence Briggs Thayer) Cumings\" \"Miss. Laina Heikkinen\" \"Mrs. Jacques Heath (Lily May Peel) Futrelle\" ...\n",
      " $ Sex                    : Factor w/ 2 levels \"female\",\"male\": 2 1 1 1 2 2 2 2 1 1 ...\n",
      " $ Age                    : num [1:887] 22 38 26 35 35 27 54 2 27 14 ...\n",
      " $ Siblings/Spouses Aboard: num [1:887] 1 1 0 1 0 0 0 3 0 1 ...\n",
      " $ Parents/Children Aboard: num [1:887] 0 0 0 0 0 0 0 1 2 0 ...\n",
      " $ Fare                   : num [1:887] 7.25 71.28 7.92 53.1 8.05 ...\n",
      " - attr(*, \"spec\")=\n",
      "  .. cols(\n",
      "  ..   Survived = col_double(),\n",
      "  ..   Pclass = col_double(),\n",
      "  ..   Name = col_character(),\n",
      "  ..   Sex = col_character(),\n",
      "  ..   Age = col_double(),\n",
      "  ..   `Siblings/Spouses Aboard` = col_double(),\n",
      "  ..   `Parents/Children Aboard` = col_double(),\n",
      "  ..   Fare = col_double()\n",
      "  .. )\n"
     ]
    }
   ],
   "source": [
    "str(titanic_data)"
   ]
  },
  {
   "cell_type": "code",
   "execution_count": 30,
   "metadata": {},
   "outputs": [
    {
     "data": {
      "text/plain": [
       "\n",
       "    Died Survived \n",
       "     545      342 "
      ]
     },
     "metadata": {},
     "output_type": "display_data"
    }
   ],
   "source": [
    "table(titanic_data$Survived)"
   ]
  },
  {
   "cell_type": "code",
   "execution_count": 31,
   "metadata": {},
   "outputs": [
    {
     "name": "stderr",
     "output_type": "stream",
     "text": [
      "Warning message in grid.Call(C_textBounds, as.graphicsAnnot(x$label), x$x, x$y, :\n",
      "\"font family not found in Windows font database\"Warning message in grid.Call(C_textBounds, as.graphicsAnnot(x$label), x$x, x$y, :\n",
      "\"font family not found in Windows font database\"Warning message in grid.Call(C_textBounds, as.graphicsAnnot(x$label), x$x, x$y, :\n",
      "\"font family not found in Windows font database\"Warning message in grid.Call(C_textBounds, as.graphicsAnnot(x$label), x$x, x$y, :\n",
      "\"font family not found in Windows font database\"Warning message in grid.Call(C_textBounds, as.graphicsAnnot(x$label), x$x, x$y, :\n",
      "\"font family not found in Windows font database\"Warning message in grid.Call(C_textBounds, as.graphicsAnnot(x$label), x$x, x$y, :\n",
      "\"font family not found in Windows font database\"Warning message in grid.Call(C_textBounds, as.graphicsAnnot(x$label), x$x, x$y, :\n",
      "\"font family not found in Windows font database\"Warning message in grid.Call(C_textBounds, as.graphicsAnnot(x$label), x$x, x$y, :\n",
      "\"font family not found in Windows font database\"Warning message in grid.Call.graphics(C_text, as.graphicsAnnot(x$label), x$x, x$y, :\n",
      "\"font family not found in Windows font database\"Warning message in grid.Call(C_textBounds, as.graphicsAnnot(x$label), x$x, x$y, :\n",
      "\"font family not found in Windows font database\""
     ]
    },
    {
     "data": {
      "image/png": "[encoded data removed]",
      "text/plain": [
       "plot without title"
      ]
     },
     "metadata": {},
     "output_type": "display_data"
    }
   ],
   "source": [
    "titanic_data %>% \n",
    "  ggplot(aes(x = Survived)) +\n",
    "  geom_bar(width = 0.4) +\n",
    "  theme_classic() +\n",
    "  theme(\n",
    "    plot.title = element_text(family = \"Times New Roman\", hjust = 0.5),\n",
    "    axis.text = element_text(family = \"Times New Roman\",face = \"bold\"),\n",
    "    axis.title = element_text(family = \"Times New Roman\", face = \"bold\")\n",
    "  ) +\n",
    "  labs(title = \"Overall Survival Rates\", x = NULL, y = \"Passenger count\")"
   ]
  },
  {
   "cell_type": "code",
   "execution_count": 32,
   "metadata": {},
   "outputs": [
    {
     "name": "stderr",
     "output_type": "stream",
     "text": [
      "Warning message in grid.Call(C_textBounds, as.graphicsAnnot(x$label), x$x, x$y, :\n",
      "\"font family not found in Windows font database\"Warning message in grid.Call(C_textBounds, as.graphicsAnnot(x$label), x$x, x$y, :\n",
      "\"font family not found in Windows font database\"Warning message in grid.Call(C_textBounds, as.graphicsAnnot(x$label), x$x, x$y, :\n",
      "\"font family not found in Windows font database\"Warning message in grid.Call(C_textBounds, as.graphicsAnnot(x$label), x$x, x$y, :\n",
      "\"font family not found in Windows font database\"Warning message in grid.Call(C_textBounds, as.graphicsAnnot(x$label), x$x, x$y, :\n",
      "\"font family not found in Windows font database\"Warning message in grid.Call(C_textBounds, as.graphicsAnnot(x$label), x$x, x$y, :\n",
      "\"font family not found in Windows font database\"Warning message in grid.Call(C_textBounds, as.graphicsAnnot(x$label), x$x, x$y, :\n",
      "\"font family not found in Windows font database\"Warning message in grid.Call(C_textBounds, as.graphicsAnnot(x$label), x$x, x$y, :\n",
      "\"font family not found in Windows font database\"Warning message in grid.Call(C_textBounds, as.graphicsAnnot(x$label), x$x, x$y, :\n",
      "\"font family not found in Windows font database\"Warning message in grid.Call.graphics(C_text, as.graphicsAnnot(x$label), x$x, x$y, :\n",
      "\"font family not found in Windows font database\"Warning message in grid.Call(C_textBounds, as.graphicsAnnot(x$label), x$x, x$y, :\n",
      "\"font family not found in Windows font database\"Warning message in grid.Call(C_textBounds, as.graphicsAnnot(x$label), x$x, x$y, :\n",
      "\"font family not found in Windows font database\""
     ]
    },
    {
     "data": {
      "image/png": "[encoded data removed]",
      "text/plain": [
       "plot without title"
      ]
     },
     "metadata": {},
     "output_type": "display_data"
    }
   ],
   "source": [
    "titanic_data %>% \n",
    "  ggplot(aes(x = Sex, fill = Survived)) +\n",
    "  geom_bar(width = 0.4) +\n",
    "  theme_classic() +\n",
    "  theme(\n",
    "    plot.title = element_text(family = \"Times New Roman\", hjust = 0.5),\n",
    "    axis.text = element_text(family = \"Times New Roman\",face = \"bold\"),\n",
    "    axis.title = element_text(family = \"Times New Roman\", face = \"bold\"),\n",
    "    legend.title = element_blank(),\n",
    "    legend.text = element_text(family = \"Times New Roman\")\n",
    "    \n",
    "  ) +\n",
    "  labs(title = \"Survival rates by Sex\", x = NULL, y = \"Passenger count\")"
   ]
  },
  {
   "cell_type": "code",
   "execution_count": 33,
   "metadata": {},
   "outputs": [
    {
     "name": "stderr",
     "output_type": "stream",
     "text": [
      "Warning message in grid.Call(C_textBounds, as.graphicsAnnot(x$label), x$x, x$y, :\n",
      "\"font family not found in Windows font database\"Warning message in grid.Call(C_textBounds, as.graphicsAnnot(x$label), x$x, x$y, :\n",
      "\"font family not found in Windows font database\"Warning message in grid.Call(C_textBounds, as.graphicsAnnot(x$label), x$x, x$y, :\n",
      "\"font family not found in Windows font database\"Warning message in grid.Call(C_textBounds, as.graphicsAnnot(x$label), x$x, x$y, :\n",
      "\"font family not found in Windows font database\"Warning message in grid.Call(C_textBounds, as.graphicsAnnot(x$label), x$x, x$y, :\n",
      "\"font family not found in Windows font database\"Warning message in grid.Call(C_textBounds, as.graphicsAnnot(x$label), x$x, x$y, :\n",
      "\"font family not found in Windows font database\"Warning message in grid.Call(C_textBounds, as.graphicsAnnot(x$label), x$x, x$y, :\n",
      "\"font family not found in Windows font database\"Warning message in grid.Call(C_textBounds, as.graphicsAnnot(x$label), x$x, x$y, :\n",
      "\"font family not found in Windows font database\"Warning message in grid.Call(C_textBounds, as.graphicsAnnot(x$label), x$x, x$y, :\n",
      "\"font family not found in Windows font database\"Warning message in grid.Call.graphics(C_text, as.graphicsAnnot(x$label), x$x, x$y, :\n",
      "\"font family not found in Windows font database\"Warning message in grid.Call(C_textBounds, as.graphicsAnnot(x$label), x$x, x$y, :\n",
      "\"font family not found in Windows font database\"Warning message in grid.Call(C_textBounds, as.graphicsAnnot(x$label), x$x, x$y, :\n",
      "\"font family not found in Windows font database\""
     ]
    },
    {
     "data": {
      "image/png": "[encoded data removed]",
      "text/plain": [
       "plot without title"
      ]
     },
     "metadata": {},
     "output_type": "display_data"
    }
   ],
   "source": [
    "titanic_data %>% \n",
    "  ggplot(aes(x = Pclass, fill = Survived)) +\n",
    "  geom_bar(width = 0.4) +\n",
    "  theme_classic() +\n",
    "  theme(\n",
    "    plot.title = element_text(family = \"Times New Roman\", hjust = 0.5),\n",
    "    axis.text = element_text(family = \"Times New Roman\",face = \"bold\"),\n",
    "    axis.title = element_text(family = \"Times New Roman\", face = \"bold\"),\n",
    "    legend.title = element_blank(),\n",
    "    legend.text = element_text(family = \"Times New Roman\")\n",
    "    \n",
    "  ) +\n",
    "  labs(title = \"Survival rates by Passenger Class\", x = NULL, y = \"Passenger count\")"
   ]
  },
  {
   "cell_type": "code",
   "execution_count": 34,
   "metadata": {},
   "outputs": [
    {
     "name": "stderr",
     "output_type": "stream",
     "text": [
      "`stat_bin()` using `bins = 30`. Pick better value with `binwidth`.\n",
      "Warning message in grid.Call(C_textBounds, as.graphicsAnnot(x$label), x$x, x$y, :\n",
      "\"font family not found in Windows font database\"Warning message in grid.Call(C_textBounds, as.graphicsAnnot(x$label), x$x, x$y, :\n",
      "\"font family not found in Windows font database\"Warning message in grid.Call(C_textBounds, as.graphicsAnnot(x$label), x$x, x$y, :\n",
      "\"font family not found in Windows font database\"Warning message in grid.Call(C_textBounds, as.graphicsAnnot(x$label), x$x, x$y, :\n",
      "\"font family not found in Windows font database\"Warning message in grid.Call(C_textBounds, as.graphicsAnnot(x$label), x$x, x$y, :\n",
      "\"font family not found in Windows font database\"Warning message in grid.Call(C_textBounds, as.graphicsAnnot(x$label), x$x, x$y, :\n",
      "\"font family not found in Windows font database\"Warning message in grid.Call(C_textBounds, as.graphicsAnnot(x$label), x$x, x$y, :\n",
      "\"font family not found in Windows font database\"Warning message in grid.Call(C_textBounds, as.graphicsAnnot(x$label), x$x, x$y, :\n",
      "\"font family not found in Windows font database\"Warning message in grid.Call(C_textBounds, as.graphicsAnnot(x$label), x$x, x$y, :\n",
      "\"font family not found in Windows font database\"Warning message in grid.Call(C_textBounds, as.graphicsAnnot(x$label), x$x, x$y, :\n",
      "\"font family not found in Windows font database\"Warning message in grid.Call(C_textBounds, as.graphicsAnnot(x$label), x$x, x$y, :\n",
      "\"font family not found in Windows font database\"Warning message in grid.Call.graphics(C_text, as.graphicsAnnot(x$label), x$x, x$y, :\n",
      "\"font family not found in Windows font database\"Warning message in grid.Call(C_textBounds, as.graphicsAnnot(x$label), x$x, x$y, :\n",
      "\"font family not found in Windows font database\"Warning message in grid.Call(C_textBounds, as.graphicsAnnot(x$label), x$x, x$y, :\n",
      "\"font family not found in Windows font database\""
     ]
    },
    {
     "data": {
      "image/png": "[encoded data removed]",
      "text/plain": [
       "plot without title"
      ]
     },
     "metadata": {},
     "output_type": "display_data"
    }
   ],
   "source": [
    "titanic_data %>% \n",
    "  ggplot(aes(x = Age, fill = Survived)) +\n",
    "  geom_histogram() +\n",
    "  theme_classic() +\n",
    "  theme(\n",
    "    plot.title = element_text(family = \"Times New Roman\", hjust = 0.5),\n",
    "    axis.text = element_text(family = \"Times New Roman\",face = \"bold\"),\n",
    "    axis.title = element_text(family = \"Times New Roman\", face = \"bold\"),\n",
    "    legend.title = element_blank(),\n",
    "    legend.text = element_text(family = \"Times New Roman\")\n",
    "    \n",
    "  ) +\n",
    "  labs(title = \"Survival rates by Age\")"
   ]
  },
  {
   "cell_type": "code",
   "execution_count": 35,
   "metadata": {},
   "outputs": [
    {
     "name": "stderr",
     "output_type": "stream",
     "text": [
      "Warning message in grid.Call(C_textBounds, as.graphicsAnnot(x$label), x$x, x$y, :\n",
      "\"font family not found in Windows font database\"Warning message in grid.Call(C_textBounds, as.graphicsAnnot(x$label), x$x, x$y, :\n",
      "\"font family not found in Windows font database\"Warning message in grid.Call(C_textBounds, as.graphicsAnnot(x$label), x$x, x$y, :\n",
      "\"font family not found in Windows font database\"Warning message in grid.Call(C_textBounds, as.graphicsAnnot(x$label), x$x, x$y, :\n",
      "\"font family not found in Windows font database\"Warning message in grid.Call(C_textBounds, as.graphicsAnnot(x$label), x$x, x$y, :\n",
      "\"font family not found in Windows font database\"Warning message in grid.Call(C_textBounds, as.graphicsAnnot(x$label), x$x, x$y, :\n",
      "\"font family not found in Windows font database\"Warning message in grid.Call(C_textBounds, as.graphicsAnnot(x$label), x$x, x$y, :\n",
      "\"font family not found in Windows font database\"Warning message in grid.Call(C_textBounds, as.graphicsAnnot(x$label), x$x, x$y, :\n",
      "\"font family not found in Windows font database\"Warning message in grid.Call.graphics(C_text, as.graphicsAnnot(x$label), x$x, x$y, :\n",
      "\"font family not found in Windows font database\"Warning message in grid.Call(C_textBounds, as.graphicsAnnot(x$label), x$x, x$y, :\n",
      "\"font family not found in Windows font database\""
     ]
    },
    {
     "data": {
      "image/png": "[encoded data removed]",
      "text/plain": [
       "plot without title"
      ]
     },
     "metadata": {},
     "output_type": "display_data"
    }
   ],
   "source": [
    "titanic_data %>% \n",
    "  ggplot(aes(x = Survived, y = Age)) +\n",
    "  geom_boxplot() +\n",
    "  theme_classic() +\n",
    "  theme(\n",
    "    plot.title = element_text(family = \"Times New Roman\", hjust = 0.5),\n",
    "    axis.text = element_text(family = \"Times New Roman\", face = \"bold\"),\n",
    "    axis.title = element_text(family = \"Times New Roman\", face = \"bold\"),\n",
    "    legend.title = element_blank(),\n",
    "    legend.text = element_text(family = \"Times New Roman\")\n",
    "    \n",
    "  ) +\n",
    "  labs(title = \"Survival rates by Age\", x = NULL)"
   ]
  },
  {
   "cell_type": "markdown",
   "metadata": {},
   "source": [
    "# Survival rates by sex and Pclass"
   ]
  },
  {
   "cell_type": "code",
   "execution_count": 36,
   "metadata": {},
   "outputs": [
    {
     "name": "stderr",
     "output_type": "stream",
     "text": [
      "Warning message in grid.Call(C_textBounds, as.graphicsAnnot(x$label), x$x, x$y, :\n",
      "\"font family not found in Windows font database\"Warning message in grid.Call(C_textBounds, as.graphicsAnnot(x$label), x$x, x$y, :\n",
      "\"font family not found in Windows font database\"Warning message in grid.Call(C_textBounds, as.graphicsAnnot(x$label), x$x, x$y, :\n",
      "\"font family not found in Windows font database\"Warning message in grid.Call(C_textBounds, as.graphicsAnnot(x$label), x$x, x$y, :\n",
      "\"font family not found in Windows font database\"Warning message in grid.Call(C_textBounds, as.graphicsAnnot(x$label), x$x, x$y, :\n",
      "\"font family not found in Windows font database\"Warning message in grid.Call(C_textBounds, as.graphicsAnnot(x$label), x$x, x$y, :\n",
      "\"font family not found in Windows font database\"Warning message in grid.Call(C_textBounds, as.graphicsAnnot(x$label), x$x, x$y, :\n",
      "\"font family not found in Windows font database\"Warning message in grid.Call(C_textBounds, as.graphicsAnnot(x$label), x$x, x$y, :\n",
      "\"font family not found in Windows font database\"Warning message in grid.Call.graphics(C_text, as.graphicsAnnot(x$label), x$x, x$y, :\n",
      "\"font family not found in Windows font database\"Warning message in grid.Call(C_textBounds, as.graphicsAnnot(x$label), x$x, x$y, :\n",
      "\"font family not found in Windows font database\"Warning message in grid.Call(C_textBounds, as.graphicsAnnot(x$label), x$x, x$y, :\n",
      "\"font family not found in Windows font database\""
     ]
    },
    {
     "data": {
      "image/png": "[encoded data removed]",
      "text/plain": [
       "plot without title"
      ]
     },
     "metadata": {},
     "output_type": "display_data"
    }
   ],
   "source": [
    "titanic_data %>% \n",
    "  ggplot(aes(x = Sex, fill = Survived)) +\n",
    "  geom_bar(width = 0.4) +\n",
    "  facet_wrap(~ Pclass) +\n",
    "  theme_test() +\n",
    "  theme(\n",
    "    plot.title = element_text(family = \"Times New Roman\", hjust = 0.5),\n",
    "    axis.text = element_text(family = \"Times New Roman\", face = \"bold\"),\n",
    "    axis.title = element_text(family = \"Times New Roman\", face = \"bold\"),\n",
    "    legend.title = element_blank(),\n",
    "    legend.text = element_text(family = \"Times New Roman\")\n",
    "    \n",
    "  ) +\n",
    "  labs(title = \"Survival rates Sex and Passenger class\", x = NULL, y = \"Passenger Count\")"
   ]
  },
  {
   "cell_type": "markdown",
   "metadata": {},
   "source": [
    "## Survival rates by Age. Sex and Passenger Class"
   ]
  },
  {
   "cell_type": "code",
   "execution_count": 38,
   "metadata": {},
   "outputs": [
    {
     "name": "stderr",
     "output_type": "stream",
     "text": [
      "`stat_bin()` using `bins = 30`. Pick better value with `binwidth`.\n",
      "Warning message in grid.Call(C_textBounds, as.graphicsAnnot(x$label), x$x, x$y, :\n",
      "\"font family not found in Windows font database\"Warning message in grid.Call(C_textBounds, as.graphicsAnnot(x$label), x$x, x$y, :\n",
      "\"font family not found in Windows font database\"Warning message in grid.Call(C_textBounds, as.graphicsAnnot(x$label), x$x, x$y, :\n",
      "\"font family not found in Windows font database\"Warning message in grid.Call(C_textBounds, as.graphicsAnnot(x$label), x$x, x$y, :\n",
      "\"font family not found in Windows font database\"Warning message in grid.Call(C_textBounds, as.graphicsAnnot(x$label), x$x, x$y, :\n",
      "\"font family not found in Windows font database\"Warning message in grid.Call(C_textBounds, as.graphicsAnnot(x$label), x$x, x$y, :\n",
      "\"font family not found in Windows font database\"Warning message in grid.Call(C_textBounds, as.graphicsAnnot(x$label), x$x, x$y, :\n",
      "\"font family not found in Windows font database\"Warning message in grid.Call(C_textBounds, as.graphicsAnnot(x$label), x$x, x$y, :\n",
      "\"font family not found in Windows font database\"Warning message in grid.Call(C_textBounds, as.graphicsAnnot(x$label), x$x, x$y, :\n",
      "\"font family not found in Windows font database\"Warning message in grid.Call.graphics(C_text, as.graphicsAnnot(x$label), x$x, x$y, :\n",
      "\"font family not found in Windows font database\"Warning message in grid.Call(C_textBounds, as.graphicsAnnot(x$label), x$x, x$y, :\n",
      "\"font family not found in Windows font database\"Warning message in grid.Call(C_textBounds, as.graphicsAnnot(x$label), x$x, x$y, :\n",
      "\"font family not found in Windows font database\""
     ]
    },
    {
     "data": {
      "image/png": "[encoded data removed]",
      "text/plain": [
       "plot without title"
      ]
     },
     "metadata": {},
     "output_type": "display_data"
    }
   ],
   "source": [
    "titanic_data %>% \n",
    "  ggplot(aes(x = Age, fill = Survived)) +\n",
    "  geom_histogram() +\n",
    "  facet_wrap(~Sex + Pclass) +\n",
    "  theme_test() +\n",
    "  theme(\n",
    "    plot.title = element_text(family = \"Times New Roman\", hjust = 0.5),\n",
    "    axis.text = element_text(family = \"Times New Roman\", face = \"bold\"),\n",
    "    axis.title = element_text(family = \"Times New Roman\", face = \"bold\"),\n",
    "    legend.title = element_blank(),\n",
    "    legend.text = element_text(family = \"Times New Roman\")\n",
    "    \n",
    "  ) +\n",
    "  labs(title = \"Survival rates Age, Sex and Passenger class\")"
   ]
  },
  {
   "cell_type": "code",
   "execution_count": 39,
   "metadata": {},
   "outputs": [],
   "source": [
    "titanic <- read.csv(\"train.csv\")"
   ]
  },
  {
   "cell_type": "code",
   "execution_count": 41,
   "metadata": {},
   "outputs": [
    {
     "name": "stdout",
     "output_type": "stream",
     "text": [
      "'data.frame':\t891 obs. of  12 variables:\n",
      " $ PassengerId: int  1 2 3 4 5 6 7 8 9 10 ...\n",
      " $ Survived   : int  0 1 1 1 0 0 0 0 1 1 ...\n",
      " $ Pclass     : int  3 1 3 1 3 3 1 3 3 2 ...\n",
      " $ Name       : Factor w/ 891 levels \"Abbing, Mr. Anthony\",..: 109 191 358 277 16 559 520 629 417 581 ...\n",
      " $ Sex        : Factor w/ 2 levels \"female\",\"male\": 2 1 1 1 2 2 2 2 1 1 ...\n",
      " $ Age        : num  22 38 26 35 35 NA 54 2 27 14 ...\n",
      " $ SibSp      : int  1 1 0 1 0 0 0 3 0 1 ...\n",
      " $ Parch      : int  0 0 0 0 0 0 0 1 2 0 ...\n",
      " $ Ticket     : Factor w/ 681 levels \"110152\",\"110413\",..: 524 597 670 50 473 276 86 396 345 133 ...\n",
      " $ Fare       : num  7.25 71.28 7.92 53.1 8.05 ...\n",
      " $ Cabin      : Factor w/ 148 levels \"\",\"A10\",\"A14\",..: 1 83 1 57 1 1 131 1 1 1 ...\n",
      " $ Embarked   : Factor w/ 4 levels \"\",\"C\",\"Q\",\"S\": 4 2 4 4 4 3 4 4 4 2 ...\n"
     ]
    }
   ],
   "source": [
    "str(titanic)"
   ]
  },
  {
   "cell_type": "code",
   "execution_count": 42,
   "metadata": {},
   "outputs": [
    {
     "data": {
      "text/html": [
       "<table>\n",
       "<thead><tr><th scope=col>PassengerId</th><th scope=col>Survived</th><th scope=col>Pclass</th><th scope=col>Name</th><th scope=col>Sex</th><th scope=col>Age</th><th scope=col>SibSp</th><th scope=col>Parch</th><th scope=col>Ticket</th><th scope=col>Fare</th><th scope=col>Cabin</th><th scope=col>Embarked</th></tr></thead>\n",
       "<tbody>\n",
       "\t<tr><td>1                                                  </td><td>0                                                  </td><td>3                                                  </td><td>Braund, Mr. Owen Harris                            </td><td>male                                               </td><td>22                                                 </td><td>1                                                  </td><td>0                                                  </td><td>A/5 21171                                          </td><td> 7.2500                                            </td><td>                                                   </td><td>S                                                  </td></tr>\n",
       "\t<tr><td>2                                                  </td><td>1                                                  </td><td>1                                                  </td><td>Cumings, Mrs. John Bradley (Florence Briggs Thayer)</td><td>female                                             </td><td>38                                                 </td><td>1                                                  </td><td>0                                                  </td><td>PC 17599                                           </td><td>71.2833                                            </td><td>C85                                                </td><td>C                                                  </td></tr>\n",
       "\t<tr><td>3                                                  </td><td>1                                                  </td><td>3                                                  </td><td>Heikkinen, Miss. Laina                             </td><td>female                                             </td><td>26                                                 </td><td>0                                                  </td><td>0                                                  </td><td>STON/O2. 3101282                                   </td><td> 7.9250                                            </td><td>                                                   </td><td>S                                                  </td></tr>\n",
       "\t<tr><td>4                                                  </td><td>1                                                  </td><td>1                                                  </td><td>Futrelle, Mrs. Jacques Heath (Lily May Peel)       </td><td>female                                             </td><td>35                                                 </td><td>1                                                  </td><td>0                                                  </td><td>113803                                             </td><td>53.1000                                            </td><td>C123                                               </td><td>S                                                  </td></tr>\n",
       "\t<tr><td>5                                                  </td><td>0                                                  </td><td>3                                                  </td><td>Allen, Mr. William Henry                           </td><td>male                                               </td><td>35                                                 </td><td>0                                                  </td><td>0                                                  </td><td>373450                                             </td><td> 8.0500                                            </td><td>                                                   </td><td>S                                                  </td></tr>\n",
       "\t<tr><td>6                                                  </td><td>0                                                  </td><td>3                                                  </td><td>Moran, Mr. James                                   </td><td>male                                               </td><td>NA                                                 </td><td>0                                                  </td><td>0                                                  </td><td>330877                                             </td><td> 8.4583                                            </td><td>                                                   </td><td>Q                                                  </td></tr>\n",
       "</tbody>\n",
       "</table>\n"
      ],
      "text/latex": [
       "\\begin{tabular}{r|llllllllllll}\n",
       " PassengerId & Survived & Pclass & Name & Sex & Age & SibSp & Parch & Ticket & Fare & Cabin & Embarked\\\\\n",
       "\\hline\n",
       "\t 1                                                   & 0                                                   & 3                                                   & Braund, Mr. Owen Harris                             & male                                                & 22                                                  & 1                                                   & 0                                                   & A/5 21171                                           &  7.2500                                             &                                                     & S                                                  \\\\\n",
       "\t 2                                                   & 1                                                   & 1                                                   & Cumings, Mrs. John Bradley (Florence Briggs Thayer) & female                                              & 38                                                  & 1                                                   & 0                                                   & PC 17599                                            & 71.2833                                             & C85                                                 & C                                                  \\\\\n",
       "\t 3                                                   & 1                                                   & 3                                                   & Heikkinen, Miss. Laina                              & female                                              & 26                                                  & 0                                                   & 0                                                   & STON/O2. 3101282                                    &  7.9250                                             &                                                     & S                                                  \\\\\n",
       "\t 4                                                   & 1                                                   & 1                                                   & Futrelle, Mrs. Jacques Heath (Lily May Peel)        & female                                              & 35                                                  & 1                                                   & 0                                                   & 113803                                              & 53.1000                                             & C123                                                & S                                                  \\\\\n",
       "\t 5                                                   & 0                                                   & 3                                                   & Allen, Mr. William Henry                            & male                                                & 35                                                  & 0                                                   & 0                                                   & 373450                                              &  8.0500                                             &                                                     & S                                                  \\\\\n",
       "\t 6                                                   & 0                                                   & 3                                                   & Moran, Mr. James                                    & male                                                & NA                                                  & 0                                                   & 0                                                   & 330877                                              &  8.4583                                             &                                                     & Q                                                  \\\\\n",
       "\\end{tabular}\n"
      ],
      "text/markdown": [
       "\n",
       "| PassengerId | Survived | Pclass | Name | Sex | Age | SibSp | Parch | Ticket | Fare | Cabin | Embarked |\n",
       "|---|---|---|---|---|---|---|---|---|---|---|---|\n",
       "| 1                                                   | 0                                                   | 3                                                   | Braund, Mr. Owen Harris                             | male                                                | 22                                                  | 1                                                   | 0                                                   | A/5 21171                                           |  7.2500                                             |                                                     | S                                                   |\n",
       "| 2                                                   | 1                                                   | 1                                                   | Cumings, Mrs. John Bradley (Florence Briggs Thayer) | female                                              | 38                                                  | 1                                                   | 0                                                   | PC 17599                                            | 71.2833                                             | C85                                                 | C                                                   |\n",
       "| 3                                                   | 1                                                   | 3                                                   | Heikkinen, Miss. Laina                              | female                                              | 26                                                  | 0                                                   | 0                                                   | STON/O2. 3101282                                    |  7.9250                                             |                                                     | S                                                   |\n",
       "| 4                                                   | 1                                                   | 1                                                   | Futrelle, Mrs. Jacques Heath (Lily May Peel)        | female                                              | 35                                                  | 1                                                   | 0                                                   | 113803                                              | 53.1000                                             | C123                                                | S                                                   |\n",
       "| 5                                                   | 0                                                   | 3                                                   | Allen, Mr. William Henry                            | male                                                | 35                                                  | 0                                                   | 0                                                   | 373450                                              |  8.0500                                             |                                                     | S                                                   |\n",
       "| 6                                                   | 0                                                   | 3                                                   | Moran, Mr. James                                    | male                                                | NA                                                  | 0                                                   | 0                                                   | 330877                                              |  8.4583                                             |                                                     | Q                                                   |\n",
       "\n"
      ],
      "text/plain": [
       "  PassengerId Survived Pclass\n",
       "1 1           0        3     \n",
       "2 2           1        1     \n",
       "3 3           1        3     \n",
       "4 4           1        1     \n",
       "5 5           0        3     \n",
       "6 6           0        3     \n",
       "  Name                                                Sex    Age SibSp Parch\n",
       "1 Braund, Mr. Owen Harris                             male   22  1     0    \n",
       "2 Cumings, Mrs. John Bradley (Florence Briggs Thayer) female 38  1     0    \n",
       "3 Heikkinen, Miss. Laina                              female 26  0     0    \n",
       "4 Futrelle, Mrs. Jacques Heath (Lily May Peel)        female 35  1     0    \n",
       "5 Allen, Mr. William Henry                            male   35  0     0    \n",
       "6 Moran, Mr. James                                    male   NA  0     0    \n",
       "  Ticket           Fare    Cabin Embarked\n",
       "1 A/5 21171         7.2500       S       \n",
       "2 PC 17599         71.2833 C85   C       \n",
       "3 STON/O2. 3101282  7.9250       S       \n",
       "4 113803           53.1000 C123  S       \n",
       "5 373450            8.0500       S       \n",
       "6 330877            8.4583       Q       "
      ]
     },
     "metadata": {},
     "output_type": "display_data"
    }
   ],
   "source": [
    "head(titanic)"
   ]
  },
  {
   "cell_type": "code",
   "execution_count": 43,
   "metadata": {},
   "outputs": [],
   "source": [
    "## removing insignificant variables\n",
    "titanic <- subset(titanic, select = c(2,3,5,6,7,8,10,12))"
   ]
  },
  {
   "cell_type": "code",
   "execution_count": 44,
   "metadata": {},
   "outputs": [
    {
     "data": {
      "text/html": [
       "TRUE"
      ],
      "text/latex": [
       "TRUE"
      ],
      "text/markdown": [
       "TRUE"
      ],
      "text/plain": [
       "[1] TRUE"
      ]
     },
     "metadata": {},
     "output_type": "display_data"
    }
   ],
   "source": [
    "## checking if the variable are categorical or not\n",
    "is.factor(titanic$Sex)"
   ]
  },
  {
   "cell_type": "code",
   "execution_count": 45,
   "metadata": {},
   "outputs": [
    {
     "data": {
      "text/html": [
       "TRUE"
      ],
      "text/latex": [
       "TRUE"
      ],
      "text/markdown": [
       "TRUE"
      ],
      "text/plain": [
       "[1] TRUE"
      ]
     },
     "metadata": {},
     "output_type": "display_data"
    }
   ],
   "source": [
    "is.factor(titanic$Embarked)"
   ]
  },
  {
   "cell_type": "code",
   "execution_count": 46,
   "metadata": {},
   "outputs": [
    {
     "name": "stderr",
     "output_type": "stream",
     "text": [
      "Warning message:\n",
      "\"package 'DMwR' was built under R version 3.6.3\"Loading required package: lattice\n",
      "Loading required package: grid\n",
      "Registered S3 method overwritten by 'xts':\n",
      "  method     from\n",
      "  as.zoo.xts zoo \n",
      "Registered S3 method overwritten by 'quantmod':\n",
      "  method            from\n",
      "  as.zoo.data.frame zoo \n"
     ]
    }
   ],
   "source": [
    "#removing missing value by Knn Approach\n",
    "library(DMwR)"
   ]
  },
  {
   "cell_type": "code",
   "execution_count": 47,
   "metadata": {},
   "outputs": [
    {
     "data": {
      "text/plain": [
       "  Survived         Pclass           Sex             Age         \n",
       " Mode :logical   Mode :logical   Mode :logical   Mode :logical  \n",
       " FALSE:891       FALSE:891       FALSE:891       FALSE:714      \n",
       "                                                 TRUE :177      \n",
       "   SibSp           Parch            Fare          Embarked      \n",
       " Mode :logical   Mode :logical   Mode :logical   Mode :logical  \n",
       " FALSE:891       FALSE:891       FALSE:891       FALSE:891      \n",
       "                                                                "
      ]
     },
     "metadata": {},
     "output_type": "display_data"
    }
   ],
   "source": [
    "summary(is.na(titanic))"
   ]
  },
  {
   "cell_type": "code",
   "execution_count": 48,
   "metadata": {},
   "outputs": [],
   "source": [
    "titanic <- knnImputation(titanic)"
   ]
  },
  {
   "cell_type": "code",
   "execution_count": 49,
   "metadata": {},
   "outputs": [
    {
     "data": {
      "text/plain": [
       "  Survived         Pclass           Sex             Age         \n",
       " Mode :logical   Mode :logical   Mode :logical   Mode :logical  \n",
       " FALSE:891       FALSE:891       FALSE:891       FALSE:891      \n",
       "   SibSp           Parch            Fare          Embarked      \n",
       " Mode :logical   Mode :logical   Mode :logical   Mode :logical  \n",
       " FALSE:891       FALSE:891       FALSE:891       FALSE:891      "
      ]
     },
     "metadata": {},
     "output_type": "display_data"
    }
   ],
   "source": [
    "summary(is.na(titanic))"
   ]
  },
  {
   "cell_type": "code",
   "execution_count": 50,
   "metadata": {},
   "outputs": [
    {
     "data": {
      "text/html": [
       "<ol class=list-inline>\n",
       "\t<li>891</li>\n",
       "\t<li>8</li>\n",
       "</ol>\n"
      ],
      "text/latex": [
       "\\begin{enumerate*}\n",
       "\\item 891\n",
       "\\item 8\n",
       "\\end{enumerate*}\n"
      ],
      "text/markdown": [
       "1. 891\n",
       "2. 8\n",
       "\n",
       "\n"
      ],
      "text/plain": [
       "[1] 891   8"
      ]
     },
     "metadata": {},
     "output_type": "display_data"
    }
   ],
   "source": [
    "dim(titanic)"
   ]
  },
  {
   "cell_type": "code",
   "execution_count": 51,
   "metadata": {},
   "outputs": [],
   "source": [
    "train <- titanic[1:800,]\n",
    "test <- titanic[801:891,]"
   ]
  },
  {
   "cell_type": "code",
   "execution_count": 52,
   "metadata": {},
   "outputs": [],
   "source": [
    "# fitting the logistic regression when considering all the predictors\n",
    "basemodel <- glm(Survived~., family = binomial(link = \"logit\"), data = train)"
   ]
  },
  {
   "cell_type": "code",
   "execution_count": 53,
   "metadata": {},
   "outputs": [
    {
     "data": {
      "text/plain": [
       "\n",
       "Call:\n",
       "glm(formula = Survived ~ ., family = binomial(link = \"logit\"), \n",
       "    data = train)\n",
       "\n",
       "Deviance Residuals: \n",
       "    Min       1Q   Median       3Q      Max  \n",
       "-2.7536  -0.5968  -0.4042   0.6255   2.5013  \n",
       "\n",
       "Coefficients:\n",
       "              Estimate Std. Error z value Pr(>|z|)    \n",
       "(Intercept)  1.664e+01  5.354e+02   0.031  0.97521    \n",
       "Pclass      -1.266e+00  1.614e-01  -7.845 4.32e-15 ***\n",
       "Sexmale     -2.688e+00  2.147e-01 -12.523  < 2e-16 ***\n",
       "Age         -4.917e-02  8.499e-03  -5.786 7.22e-09 ***\n",
       "SibSp       -3.728e-01  1.170e-01  -3.186  0.00144 ** \n",
       "Parch       -1.096e-01  1.321e-01  -0.830  0.40664    \n",
       "Fare         7.557e-04  2.333e-03   0.324  0.74604    \n",
       "EmbarkedC   -1.076e+01  5.354e+02  -0.020  0.98396    \n",
       "EmbarkedQ   -1.076e+01  5.354e+02  -0.020  0.98397    \n",
       "EmbarkedS   -1.103e+01  5.354e+02  -0.021  0.98356    \n",
       "---\n",
       "Signif. codes:  0 '***' 0.001 '**' 0.01 '*' 0.05 '.' 0.1 ' ' 1\n",
       "\n",
       "(Dispersion parameter for binomial family taken to be 1)\n",
       "\n",
       "    Null deviance: 1066.33  on 799  degrees of freedom\n",
       "Residual deviance:  694.26  on 790  degrees of freedom\n",
       "AIC: 714.26\n",
       "\n",
       "Number of Fisher Scoring iterations: 12\n"
      ]
     },
     "metadata": {},
     "output_type": "display_data"
    }
   ],
   "source": [
    "summary(basemodel)"
   ]
  },
  {
   "cell_type": "code",
   "execution_count": 54,
   "metadata": {},
   "outputs": [
    {
     "data": {
      "text/html": [
       "<table>\n",
       "<thead><tr><th></th><th scope=col>Df</th><th scope=col>Deviance</th><th scope=col>Resid. Df</th><th scope=col>Resid. Dev</th><th scope=col>Pr(&gt;Chi)</th></tr></thead>\n",
       "<tbody>\n",
       "\t<tr><th scope=row>NULL</th><td>NA          </td><td>         NA </td><td>799         </td><td>1066.3342   </td><td>          NA</td></tr>\n",
       "\t<tr><th scope=row>Pclass</th><td> 1          </td><td> 84.7785466 </td><td>798         </td><td> 981.5557   </td><td>3.337258e-20</td></tr>\n",
       "\t<tr><th scope=row>Sex</th><td> 1          </td><td>240.0842621 </td><td>797         </td><td> 741.4714   </td><td>3.769924e-54</td></tr>\n",
       "\t<tr><th scope=row>Age</th><td> 1          </td><td> 27.5631328 </td><td>796         </td><td> 713.9083   </td><td>1.520495e-07</td></tr>\n",
       "\t<tr><th scope=row>SibSp</th><td> 1          </td><td> 16.8676478 </td><td>795         </td><td> 697.0407   </td><td>4.007893e-05</td></tr>\n",
       "\t<tr><th scope=row>Parch</th><td> 1          </td><td>  0.7983955 </td><td>794         </td><td> 696.2423   </td><td>3.715735e-01</td></tr>\n",
       "\t<tr><th scope=row>Fare</th><td> 1          </td><td>  0.3501133 </td><td>793         </td><td> 695.8921   </td><td>5.540490e-01</td></tr>\n",
       "\t<tr><th scope=row>Embarked</th><td> 3          </td><td>  1.6292692 </td><td>790         </td><td> 694.2629   </td><td>6.527716e-01</td></tr>\n",
       "</tbody>\n",
       "</table>\n"
      ],
      "text/latex": [
       "\\begin{tabular}{r|lllll}\n",
       "  & Df & Deviance & Resid. Df & Resid. Dev & Pr(>Chi)\\\\\n",
       "\\hline\n",
       "\tNULL & NA           &          NA  & 799          & 1066.3342    &           NA\\\\\n",
       "\tPclass &  1           &  84.7785466  & 798          &  981.5557    & 3.337258e-20\\\\\n",
       "\tSex &  1           & 240.0842621  & 797          &  741.4714    & 3.769924e-54\\\\\n",
       "\tAge &  1           &  27.5631328  & 796          &  713.9083    & 1.520495e-07\\\\\n",
       "\tSibSp &  1           &  16.8676478  & 795          &  697.0407    & 4.007893e-05\\\\\n",
       "\tParch &  1           &   0.7983955  & 794          &  696.2423    & 3.715735e-01\\\\\n",
       "\tFare &  1           &   0.3501133  & 793          &  695.8921    & 5.540490e-01\\\\\n",
       "\tEmbarked &  3           &   1.6292692  & 790          &  694.2629    & 6.527716e-01\\\\\n",
       "\\end{tabular}\n"
      ],
      "text/markdown": [
       "\n",
       "| <!--/--> | Df | Deviance | Resid. Df | Resid. Dev | Pr(>Chi) |\n",
       "|---|---|---|---|---|---|\n",
       "| NULL | NA           |          NA  | 799          | 1066.3342    |           NA |\n",
       "| Pclass |  1           |  84.7785466  | 798          |  981.5557    | 3.337258e-20 |\n",
       "| Sex |  1           | 240.0842621  | 797          |  741.4714    | 3.769924e-54 |\n",
       "| Age |  1           |  27.5631328  | 796          |  713.9083    | 1.520495e-07 |\n",
       "| SibSp |  1           |  16.8676478  | 795          |  697.0407    | 4.007893e-05 |\n",
       "| Parch |  1           |   0.7983955  | 794          |  696.2423    | 3.715735e-01 |\n",
       "| Fare |  1           |   0.3501133  | 793          |  695.8921    | 5.540490e-01 |\n",
       "| Embarked |  3           |   1.6292692  | 790          |  694.2629    | 6.527716e-01 |\n",
       "\n"
      ],
      "text/plain": [
       "         Df Deviance    Resid. Df Resid. Dev Pr(>Chi)    \n",
       "NULL     NA          NA 799       1066.3342            NA\n",
       "Pclass    1  84.7785466 798        981.5557  3.337258e-20\n",
       "Sex       1 240.0842621 797        741.4714  3.769924e-54\n",
       "Age       1  27.5631328 796        713.9083  1.520495e-07\n",
       "SibSp     1  16.8676478 795        697.0407  4.007893e-05\n",
       "Parch     1   0.7983955 794        696.2423  3.715735e-01\n",
       "Fare      1   0.3501133 793        695.8921  5.540490e-01\n",
       "Embarked  3   1.6292692 790        694.2629  6.527716e-01"
      ]
     },
     "metadata": {},
     "output_type": "display_data"
    }
   ],
   "source": [
    "# analysis of variance table of the fitted model\n",
    "anova(basemodel, test = \"Chisq\")"
   ]
  },
  {
   "cell_type": "code",
   "execution_count": 55,
   "metadata": {},
   "outputs": [],
   "source": [
    "# fitting of logistic regression when considering only the statistically significant predictors\n",
    "model <- glm(Survived~.-Parch-Fare-Embarked, family = binomial(link = \"logit\"),data = train)"
   ]
  },
  {
   "cell_type": "code",
   "execution_count": 56,
   "metadata": {},
   "outputs": [
    {
     "data": {
      "text/plain": [
       "\n",
       "Call:\n",
       "glm(formula = Survived ~ . - Parch - Fare - Embarked, family = binomial(link = \"logit\"), \n",
       "    data = train)\n",
       "\n",
       "Deviance Residuals: \n",
       "    Min       1Q   Median       3Q      Max  \n",
       "-2.8272  -0.6029  -0.3846   0.6072   2.4906  \n",
       "\n",
       "Coefficients:\n",
       "             Estimate Std. Error z value Pr(>|z|)    \n",
       "(Intercept)  5.801178   0.545447  10.636  < 2e-16 ***\n",
       "Pclass      -1.308035   0.136657  -9.572  < 2e-16 ***\n",
       "Sexmale     -2.688206   0.206902 -12.993  < 2e-16 ***\n",
       "Age         -0.049877   0.008442  -5.908 3.46e-09 ***\n",
       "SibSp       -0.415307   0.111385  -3.729 0.000193 ***\n",
       "---\n",
       "Signif. codes:  0 '***' 0.001 '**' 0.01 '*' 0.05 '.' 0.1 ' ' 1\n",
       "\n",
       "(Dispersion parameter for binomial family taken to be 1)\n",
       "\n",
       "    Null deviance: 1066.33  on 799  degrees of freedom\n",
       "Residual deviance:  697.04  on 795  degrees of freedom\n",
       "AIC: 707.04\n",
       "\n",
       "Number of Fisher Scoring iterations: 5\n"
      ]
     },
     "metadata": {},
     "output_type": "display_data"
    }
   ],
   "source": [
    "summary(model)"
   ]
  },
  {
   "cell_type": "code",
   "execution_count": 57,
   "metadata": {},
   "outputs": [
    {
     "data": {
      "text/html": [
       "<table>\n",
       "<thead><tr><th></th><th scope=col>Df</th><th scope=col>Deviance</th><th scope=col>Resid. Df</th><th scope=col>Resid. Dev</th><th scope=col>Pr(&gt;Chi)</th></tr></thead>\n",
       "<tbody>\n",
       "\t<tr><th scope=row>NULL</th><td>NA          </td><td>       NA   </td><td>799         </td><td>1066.3342   </td><td>          NA</td></tr>\n",
       "\t<tr><th scope=row>Pclass</th><td> 1          </td><td> 84.77855   </td><td>798         </td><td> 981.5557   </td><td>3.337258e-20</td></tr>\n",
       "\t<tr><th scope=row>Sex</th><td> 1          </td><td>240.08426   </td><td>797         </td><td> 741.4714   </td><td>3.769924e-54</td></tr>\n",
       "\t<tr><th scope=row>Age</th><td> 1          </td><td> 27.56313   </td><td>796         </td><td> 713.9083   </td><td>1.520495e-07</td></tr>\n",
       "\t<tr><th scope=row>SibSp</th><td> 1          </td><td> 16.86765   </td><td>795         </td><td> 697.0407   </td><td>4.007893e-05</td></tr>\n",
       "</tbody>\n",
       "</table>\n"
      ],
      "text/latex": [
       "\\begin{tabular}{r|lllll}\n",
       "  & Df & Deviance & Resid. Df & Resid. Dev & Pr(>Chi)\\\\\n",
       "\\hline\n",
       "\tNULL & NA           &        NA    & 799          & 1066.3342    &           NA\\\\\n",
       "\tPclass &  1           &  84.77855    & 798          &  981.5557    & 3.337258e-20\\\\\n",
       "\tSex &  1           & 240.08426    & 797          &  741.4714    & 3.769924e-54\\\\\n",
       "\tAge &  1           &  27.56313    & 796          &  713.9083    & 1.520495e-07\\\\\n",
       "\tSibSp &  1           &  16.86765    & 795          &  697.0407    & 4.007893e-05\\\\\n",
       "\\end{tabular}\n"
      ],
      "text/markdown": [
       "\n",
       "| <!--/--> | Df | Deviance | Resid. Df | Resid. Dev | Pr(>Chi) |\n",
       "|---|---|---|---|---|---|\n",
       "| NULL | NA           |        NA    | 799          | 1066.3342    |           NA |\n",
       "| Pclass |  1           |  84.77855    | 798          |  981.5557    | 3.337258e-20 |\n",
       "| Sex |  1           | 240.08426    | 797          |  741.4714    | 3.769924e-54 |\n",
       "| Age |  1           |  27.56313    | 796          |  713.9083    | 1.520495e-07 |\n",
       "| SibSp |  1           |  16.86765    | 795          |  697.0407    | 4.007893e-05 |\n",
       "\n"
      ],
      "text/plain": [
       "       Df Deviance  Resid. Df Resid. Dev Pr(>Chi)    \n",
       "NULL   NA        NA 799       1066.3342            NA\n",
       "Pclass  1  84.77855 798        981.5557  3.337258e-20\n",
       "Sex     1 240.08426 797        741.4714  3.769924e-54\n",
       "Age     1  27.56313 796        713.9083  1.520495e-07\n",
       "SibSp   1  16.86765 795        697.0407  4.007893e-05"
      ]
     },
     "metadata": {},
     "output_type": "display_data"
    }
   ],
   "source": [
    "anova(model, test = \"Chisq\")"
   ]
  },
  {
   "cell_type": "code",
   "execution_count": 58,
   "metadata": {},
   "outputs": [],
   "source": [
    "predict <- predict(model,newdata = test,type = \"response\")"
   ]
  },
  {
   "cell_type": "code",
   "execution_count": 59,
   "metadata": {},
   "outputs": [
    {
     "name": "stderr",
     "output_type": "stream",
     "text": [
      "\n",
      "Attaching package: 'caret'\n",
      "\n",
      "The following object is masked from 'package:purrr':\n",
      "\n",
      "    lift\n",
      "\n"
     ]
    },
    {
     "name": "stdout",
     "output_type": "stream",
     "text": [
      "[1] \"Accuracy 0.824175824175824\"\n"
     ]
    }
   ],
   "source": [
    "library(caret)\n",
    "predict <- ifelse(predict > 0.5,1,0)\n",
    "error <- mean(predict != test$Survived)\n",
    "print(paste('Accuracy',1-error))"
   ]
  },
  {
   "cell_type": "code",
   "execution_count": 2,
   "metadata": {},
   "outputs": [
    {
     "data": {
      "text/html": [
       "'Not Equal FALSE'"
      ],
      "text/latex": [
       "'Not Equal FALSE'"
      ],
      "text/markdown": [
       "'Not Equal FALSE'"
      ],
      "text/plain": [
       "[1] \"Not Equal FALSE\""
      ]
     },
     "metadata": {},
     "output_type": "display_data"
    }
   ],
   "source": []
  },
  {
   "cell_type": "code",
   "execution_count": null,
   "metadata": {},
   "outputs": [],
   "source": []
  }
 ],
 "metadata": {
  "kernelspec": {
   "display_name": "R",
   "language": "R",
   "name": "ir"
  },
  "language_info": {
   "codemirror_mode": "r",
   "file_extension": ".r",
   "mimetype": "text/x-r-source",
   "name": "R",
   "pygments_lexer": "r",
   "version": "3.6.1"
  }
 },
 "nbformat": 4,
 "nbformat_minor": 2
}
